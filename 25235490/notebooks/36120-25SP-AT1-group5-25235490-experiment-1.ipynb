{
 "cells": [
  {
   "cell_type": "markdown",
   "metadata": {
    "id": "uQ6wc2HE0pke"
   },
   "source": [
    "# **Experiment Notebook**\n",
    "\n"
   ]
  },
  {
   "cell_type": "code",
   "execution_count": 1,
   "metadata": {
    "id": "qNOA146K2c6f"
   },
   "outputs": [
    {
     "name": "stdout",
     "output_type": "stream",
     "text": [
      "\n",
      "\u001b[1m[\u001b[0m\u001b[34;49mnotice\u001b[0m\u001b[1;39;49m]\u001b[0m\u001b[39;49m A new release of pip is available: \u001b[0m\u001b[31;49m23.1.2\u001b[0m\u001b[39;49m -> \u001b[0m\u001b[32;49m25.2\u001b[0m\n",
      "\u001b[1m[\u001b[0m\u001b[34;49mnotice\u001b[0m\u001b[1;39;49m]\u001b[0m\u001b[39;49m To update, run: \u001b[0m\u001b[32;49mpip install --upgrade pip\u001b[0m\n"
     ]
    }
   ],
   "source": [
    "# Do not modify this code\n",
    "!pip install -q utstd\n",
    "\n",
    "from utstd.ipyrenders import *"
   ]
  },
  {
   "cell_type": "code",
   "execution_count": 2,
   "metadata": {
    "id": "6FneOmBfka9G"
   },
   "outputs": [],
   "source": [
    "# Do not modify this code\n",
    "import warnings\n",
    "warnings.simplefilter(action='ignore')"
   ]
  },
  {
   "cell_type": "markdown",
   "metadata": {
    "id": "mXFKfa2tp1ch"
   },
   "source": [
    "## 0. Import Packages"
   ]
  },
  {
   "cell_type": "code",
   "execution_count": 1,
   "metadata": {
    "id": "GBEAwdncnlAx"
   },
   "outputs": [],
   "source": [
    "# <Student to fill this section>\n",
    "# Pandas for data handling\n",
    "import pandas as pd\n",
    "import numpy as np\n",
    "import re\n",
    "\n",
    "# Scikit Learn for ML training\n",
    "import sklearn\n",
    "from sklearn.preprocessing import LabelEncoder\n",
    "from scipy.stats import pointbiserialr\n",
    "from sklearn.model_selection import train_test_split\n",
    "from sklearn.preprocessing import OneHotEncoder\n",
    "\n",
    "\n",
    "import seaborn as sns\n",
    "import matplotlib.pyplot as plt\n",
    "\n",
    "#my own functions \n",
    "import my_utils_new as my_utils\n",
    "from my_utils_new import missing_col, get_numerical_and_categorical_columns, parse_height\n"
   ]
  },
  {
   "cell_type": "markdown",
   "metadata": {
    "id": "tQgxLRrvjiJb"
   },
   "source": [
    "---\n",
    "## A. Project Description\n"
   ]
  },
  {
   "cell_type": "code",
   "execution_count": 20,
   "metadata": {
    "id": "Je1EzzfFD5hj"
   },
   "outputs": [],
   "source": [
    "# <Student to fill this section>\n",
    "student_name = \"SZU-YU LIN\"\n",
    "student_id = \"25235490\"\n",
    "group_id = \"5\""
   ]
  },
  {
   "cell_type": "code",
   "execution_count": 21,
   "metadata": {
    "id": "pdKiYvFWD5my"
   },
   "outputs": [
    {
     "data": {
      "text/html": [
       "<p style=\"color:grey\">student_name</p><h1 font-size: 3em>SZU-YU LIN</h1>"
      ],
      "text/plain": [
       "<IPython.core.display.HTML object>"
      ]
     },
     "metadata": {},
     "output_type": "display_data"
    }
   ],
   "source": [
    "# Do not modify this code\n",
    "print_tile(size=\"h1\", key='student_name', value=student_name)"
   ]
  },
  {
   "cell_type": "code",
   "execution_count": 22,
   "metadata": {
    "id": "9KTEbRjqD5o_"
   },
   "outputs": [
    {
     "data": {
      "text/html": [
       "<p style=\"color:grey\">student_id</p><h1 font-size: 3em>25235490</h1>"
      ],
      "text/plain": [
       "<IPython.core.display.HTML object>"
      ]
     },
     "metadata": {},
     "output_type": "display_data"
    }
   ],
   "source": [
    "# Do not modify this code\n",
    "print_tile(size=\"h1\", key='student_id', value=student_id)"
   ]
  },
  {
   "cell_type": "code",
   "execution_count": 23,
   "metadata": {
    "id": "UKRt4jK6rInY"
   },
   "outputs": [
    {
     "data": {
      "text/html": [
       "<p style=\"color:grey\">group_id</p><h1 font-size: 3em>5</h1>"
      ],
      "text/plain": [
       "<IPython.core.display.HTML object>"
      ]
     },
     "metadata": {},
     "output_type": "display_data"
    }
   ],
   "source": [
    "# Do not modify this code\n",
    "print_tile(size=\"h1\", key='group_id', value=group_id)"
   ]
  },
  {
   "cell_type": "markdown",
   "metadata": {
    "id": "4q1Bzcejvfpm"
   },
   "source": [
    "---\n",
    "## B. Business Understanding"
   ]
  },
  {
   "cell_type": "code",
   "execution_count": 24,
   "metadata": {
    "id": "Mmo6apC9EEv8"
   },
   "outputs": [],
   "source": [
    "# <Student to fill this section>\n",
    "business_use_case_description = \"\"\"\n",
    "To help NBA teams make informed decisions about the college players selection process, we will analyze the performance of college players in the NBA draft. The goal is to identify key factors that contribute to a player's success in the NBA, such as points per game, assists, rebounds, and other relevant statistics. By understanding these factors, teams can make data-driven decisions when selecting players for their roster.\n",
    "\"\"\""
   ]
  },
  {
   "cell_type": "code",
   "execution_count": 25,
   "metadata": {
    "id": "bgb0DkG2EE2e"
   },
   "outputs": [
    {
     "data": {
      "text/html": [
       "<p style=\"color:grey\">business_use_case_description</p><h3 font-size: 3em>\n",
       "To help NBA teams make informed decisions about the college players selection process, we will analyze the performance of college players in the NBA draft. The goal is to identify key factors that contribute to a player's success in the NBA, such as points per game, assists, rebounds, and other relevant statistics. By understanding these factors, teams can make data-driven decisions when selecting players for their roster.\n",
       "</h3>"
      ],
      "text/plain": [
       "<IPython.core.display.HTML object>"
      ]
     },
     "metadata": {},
     "output_type": "display_data"
    }
   ],
   "source": [
    "# Do not modify this code\n",
    "print_tile(size=\"h3\", key='business_use_case_description', value=business_use_case_description)"
   ]
  },
  {
   "cell_type": "code",
   "execution_count": 26,
   "metadata": {
    "id": "29Yqk3d2EE8q"
   },
   "outputs": [],
   "source": [
    "# <Student to fill this section>\n",
    "business_objectives = \"\"\"\n",
    "1. Analyze the performance of college players in the NBA draft to identify key factors contributing to success.\n",
    "2. Provide insights to NBA teams for making data-driven decisions in player selection.\n",
    "3. Develop a predictive model to estimate a player's potential success in the NBA based on college performance by utilising the random forest regressor.\n",
    "4. Create visualizations to communicate findings effectively to stakeholders.\n",
    "5. Ensure the model is robust and generalizes well to unseen data.\n",
    "6. The data performed well in the random forest algorithm.\n",
    "7. The measure metrics for the model is AUROC. \n",
    "\"\"\""
   ]
  },
  {
   "cell_type": "code",
   "execution_count": 27,
   "metadata": {
    "id": "sSu_8J96EFDs"
   },
   "outputs": [
    {
     "data": {
      "text/html": [
       "<p style=\"color:grey\">business_objectives</p><h3 font-size: 3em>\n",
       "1. Analyze the performance of college players in the NBA draft to identify key factors contributing to success.\n",
       "2. Provide insights to NBA teams for making data-driven decisions in player selection.\n",
       "3. Develop a predictive model to estimate a player's potential success in the NBA based on college performance by utilising the random forest regressor.\n",
       "4. Create visualizations to communicate findings effectively to stakeholders.\n",
       "5. Ensure the model is robust and generalizes well to unseen data.\n",
       "6. The data performed well in the random forest algorithm.\n",
       "7. The measure metrics for the model is AUROC. \n",
       "</h3>"
      ],
      "text/plain": [
       "<IPython.core.display.HTML object>"
      ]
     },
     "metadata": {},
     "output_type": "display_data"
    }
   ],
   "source": [
    "# Do not modify this code\n",
    "print_tile(size=\"h3\", key='business_objectives', value=business_objectives)"
   ]
  },
  {
   "cell_type": "code",
   "execution_count": 28,
   "metadata": {
    "id": "Hf4ThY5cEF5W"
   },
   "outputs": [],
   "source": [
    "# <Student to fill this section>\n",
    "stakeholders_expectations_explanations = \"\"\"\n",
    "1. NBA Teams: Expect data-driven insights to enhance player selection strategies.\n",
    "2. Coaches: Seek performance metrics to evaluate player potential and fit within team dynamics.\n",
    "3. Analysts: Require clear visualizations and statistical analyses to support decision-making processes.\n",
    "4. Fans: Anticipate engaging content that highlights player performance and potential impact on the league\n",
    "\"\"\""
   ]
  },
  {
   "cell_type": "code",
   "execution_count": 29,
   "metadata": {
    "id": "jH9a2X70EF8M"
   },
   "outputs": [
    {
     "data": {
      "text/html": [
       "<p style=\"color:grey\">stakeholders_expectations_explanations</p><h3 font-size: 3em>\n",
       "1. NBA Teams: Expect data-driven insights to enhance player selection strategies.\n",
       "2. Coaches: Seek performance metrics to evaluate player potential and fit within team dynamics.\n",
       "3. Analysts: Require clear visualizations and statistical analyses to support decision-making processes.\n",
       "4. Fans: Anticipate engaging content that highlights player performance and potential impact on the league\n",
       "</h3>"
      ],
      "text/plain": [
       "<IPython.core.display.HTML object>"
      ]
     },
     "metadata": {},
     "output_type": "display_data"
    }
   ],
   "source": [
    "# Do not modify this code\n",
    "print_tile(size=\"h3\", key='stakeholders_expectations_explanations', value=stakeholders_expectations_explanations)"
   ]
  },
  {
   "cell_type": "markdown",
   "metadata": {
    "id": "P0zsEPshwy1K"
   },
   "source": [
    "---\n",
    "## C. Data Understanding"
   ]
  },
  {
   "cell_type": "markdown",
   "metadata": {
    "id": "sGMWhKSbUl63"
   },
   "source": [
    "### C.1   Load Datasets\n"
   ]
  },
  {
   "cell_type": "code",
   "execution_count": 31,
   "metadata": {},
   "outputs": [
    {
     "name": "stdout",
     "output_type": "stream",
     "text": [
      "Dataset Shape: (1297, 61)\n",
      "\n",
      "First few rows of the dataset:\n"
     ]
    },
    {
     "data": {
      "text/html": [
       "<div>\n",
       "<style scoped>\n",
       "    .dataframe tbody tr th:only-of-type {\n",
       "        vertical-align: middle;\n",
       "    }\n",
       "\n",
       "    .dataframe tbody tr th {\n",
       "        vertical-align: top;\n",
       "    }\n",
       "\n",
       "    .dataframe thead th {\n",
       "        text-align: right;\n",
       "    }\n",
       "</style>\n",
       "<table border=\"1\" class=\"dataframe\">\n",
       "  <thead>\n",
       "    <tr style=\"text-align: right;\">\n",
       "      <th></th>\n",
       "      <th>team</th>\n",
       "      <th>conf</th>\n",
       "      <th>GP</th>\n",
       "      <th>Min_per</th>\n",
       "      <th>Ortg</th>\n",
       "      <th>usg</th>\n",
       "      <th>eFG</th>\n",
       "      <th>TS_per</th>\n",
       "      <th>ORB_per</th>\n",
       "      <th>DRB_per</th>\n",
       "      <th>...</th>\n",
       "      <th>ogbpm</th>\n",
       "      <th>dgbpm</th>\n",
       "      <th>oreb</th>\n",
       "      <th>dreb</th>\n",
       "      <th>treb</th>\n",
       "      <th>ast</th>\n",
       "      <th>stl</th>\n",
       "      <th>blk</th>\n",
       "      <th>pts</th>\n",
       "      <th>player_id</th>\n",
       "    </tr>\n",
       "  </thead>\n",
       "  <tbody>\n",
       "    <tr>\n",
       "      <th>0</th>\n",
       "      <td>UC Davis</td>\n",
       "      <td>BW</td>\n",
       "      <td>8</td>\n",
       "      <td>2.2</td>\n",
       "      <td>51.7</td>\n",
       "      <td>13.4</td>\n",
       "      <td>30.0</td>\n",
       "      <td>30.00</td>\n",
       "      <td>0.0</td>\n",
       "      <td>14.3</td>\n",
       "      <td>...</td>\n",
       "      <td>-11.240100</td>\n",
       "      <td>-4.721030</td>\n",
       "      <td>0.1000</td>\n",
       "      <td>0.6000</td>\n",
       "      <td>0.7000</td>\n",
       "      <td>0.2000</td>\n",
       "      <td>0.1000</td>\n",
       "      <td>0.0000</td>\n",
       "      <td>1.5000</td>\n",
       "      <td>c6d3ce49-28b6-4756-8061-b2bd68730c52</td>\n",
       "    </tr>\n",
       "    <tr>\n",
       "      <th>1</th>\n",
       "      <td>Campbell</td>\n",
       "      <td>BSth</td>\n",
       "      <td>25</td>\n",
       "      <td>16.4</td>\n",
       "      <td>85.0</td>\n",
       "      <td>25.2</td>\n",
       "      <td>50.0</td>\n",
       "      <td>52.10</td>\n",
       "      <td>2.0</td>\n",
       "      <td>11.8</td>\n",
       "      <td>...</td>\n",
       "      <td>-2.972020</td>\n",
       "      <td>-1.741870</td>\n",
       "      <td>0.1481</td>\n",
       "      <td>0.9259</td>\n",
       "      <td>1.0741</td>\n",
       "      <td>0.1481</td>\n",
       "      <td>0.4074</td>\n",
       "      <td>0.1111</td>\n",
       "      <td>4.0741</td>\n",
       "      <td>24dd0ae2-9d22-4d31-9cb6-c31f58f903b5</td>\n",
       "    </tr>\n",
       "    <tr>\n",
       "      <th>2</th>\n",
       "      <td>Weber St.</td>\n",
       "      <td>BSky</td>\n",
       "      <td>29</td>\n",
       "      <td>50.5</td>\n",
       "      <td>117.8</td>\n",
       "      <td>16.8</td>\n",
       "      <td>61.8</td>\n",
       "      <td>59.77</td>\n",
       "      <td>12.3</td>\n",
       "      <td>17.1</td>\n",
       "      <td>...</td>\n",
       "      <td>0.739055</td>\n",
       "      <td>-0.259202</td>\n",
       "      <td>2.1562</td>\n",
       "      <td>2.7500</td>\n",
       "      <td>4.9062</td>\n",
       "      <td>0.7188</td>\n",
       "      <td>0.4062</td>\n",
       "      <td>1.0625</td>\n",
       "      <td>6.7500</td>\n",
       "      <td>0cf3e822-9446-4285-b7ed-7c19d8e976fe</td>\n",
       "    </tr>\n",
       "    <tr>\n",
       "      <th>3</th>\n",
       "      <td>Ohio</td>\n",
       "      <td>MAC</td>\n",
       "      <td>17</td>\n",
       "      <td>14.9</td>\n",
       "      <td>85.8</td>\n",
       "      <td>13.1</td>\n",
       "      <td>34.9</td>\n",
       "      <td>34.88</td>\n",
       "      <td>5.1</td>\n",
       "      <td>13.7</td>\n",
       "      <td>...</td>\n",
       "      <td>-3.339750</td>\n",
       "      <td>-0.573442</td>\n",
       "      <td>0.5789</td>\n",
       "      <td>1.5789</td>\n",
       "      <td>2.1579</td>\n",
       "      <td>0.5263</td>\n",
       "      <td>0.1579</td>\n",
       "      <td>0.1579</td>\n",
       "      <td>2.6842</td>\n",
       "      <td>b1a88de0-6852-4597-bb92-9164b40758e5</td>\n",
       "    </tr>\n",
       "    <tr>\n",
       "      <th>4</th>\n",
       "      <td>New Mexico St.</td>\n",
       "      <td>WAC</td>\n",
       "      <td>26</td>\n",
       "      <td>17.1</td>\n",
       "      <td>85.8</td>\n",
       "      <td>10.8</td>\n",
       "      <td>48.1</td>\n",
       "      <td>49.46</td>\n",
       "      <td>5.6</td>\n",
       "      <td>17.4</td>\n",
       "      <td>...</td>\n",
       "      <td>-4.184970</td>\n",
       "      <td>1.718210</td>\n",
       "      <td>0.4643</td>\n",
       "      <td>1.1429</td>\n",
       "      <td>1.6071</td>\n",
       "      <td>0.1071</td>\n",
       "      <td>0.0714</td>\n",
       "      <td>0.4286</td>\n",
       "      <td>1.7500</td>\n",
       "      <td>97c327ce-d051-40f0-9166-1a43557c3c92</td>\n",
       "    </tr>\n",
       "  </tbody>\n",
       "</table>\n",
       "<p>5 rows × 61 columns</p>\n",
       "</div>"
      ],
      "text/plain": [
       "             team  conf  GP  Min_per   Ortg   usg   eFG  TS_per  ORB_per  \\\n",
       "0        UC Davis    BW   8      2.2   51.7  13.4  30.0   30.00      0.0   \n",
       "1        Campbell  BSth  25     16.4   85.0  25.2  50.0   52.10      2.0   \n",
       "2       Weber St.  BSky  29     50.5  117.8  16.8  61.8   59.77     12.3   \n",
       "3            Ohio   MAC  17     14.9   85.8  13.1  34.9   34.88      5.1   \n",
       "4  New Mexico St.   WAC  26     17.1   85.8  10.8  48.1   49.46      5.6   \n",
       "\n",
       "   DRB_per  ...      ogbpm     dgbpm    oreb    dreb    treb     ast     stl  \\\n",
       "0     14.3  ... -11.240100 -4.721030  0.1000  0.6000  0.7000  0.2000  0.1000   \n",
       "1     11.8  ...  -2.972020 -1.741870  0.1481  0.9259  1.0741  0.1481  0.4074   \n",
       "2     17.1  ...   0.739055 -0.259202  2.1562  2.7500  4.9062  0.7188  0.4062   \n",
       "3     13.7  ...  -3.339750 -0.573442  0.5789  1.5789  2.1579  0.5263  0.1579   \n",
       "4     17.4  ...  -4.184970  1.718210  0.4643  1.1429  1.6071  0.1071  0.0714   \n",
       "\n",
       "      blk     pts                             player_id  \n",
       "0  0.0000  1.5000  c6d3ce49-28b6-4756-8061-b2bd68730c52  \n",
       "1  0.1111  4.0741  24dd0ae2-9d22-4d31-9cb6-c31f58f903b5  \n",
       "2  1.0625  6.7500  0cf3e822-9446-4285-b7ed-7c19d8e976fe  \n",
       "3  0.1579  2.6842  b1a88de0-6852-4597-bb92-9164b40758e5  \n",
       "4  0.4286  1.7500  97c327ce-d051-40f0-9166-1a43557c3c92  \n",
       "\n",
       "[5 rows x 61 columns]"
      ]
     },
     "metadata": {},
     "output_type": "display_data"
    },
    {
     "name": "stdout",
     "output_type": "stream",
     "text": [
      "\n",
      "Dataset Info:\n",
      "<class 'pandas.core.frame.DataFrame'>\n",
      "RangeIndex: 1297 entries, 0 to 1296\n",
      "Data columns (total 61 columns):\n",
      " #   Column               Non-Null Count  Dtype  \n",
      "---  ------               --------------  -----  \n",
      " 0   team                 1297 non-null   object \n",
      " 1   conf                 1297 non-null   object \n",
      " 2   GP                   1297 non-null   int64  \n",
      " 3   Min_per              1297 non-null   float64\n",
      " 4   Ortg                 1297 non-null   float64\n",
      " 5   usg                  1297 non-null   float64\n",
      " 6   eFG                  1297 non-null   float64\n",
      " 7   TS_per               1297 non-null   float64\n",
      " 8   ORB_per              1297 non-null   float64\n",
      " 9   DRB_per              1297 non-null   float64\n",
      " 10  AST_per              1297 non-null   float64\n",
      " 11  TO_per               1297 non-null   float64\n",
      " 12  FTM                  1297 non-null   int64  \n",
      " 13  FTA                  1297 non-null   int64  \n",
      " 14  FT_per               1297 non-null   float64\n",
      " 15  twoPM                1297 non-null   int64  \n",
      " 16  twoPA                1297 non-null   int64  \n",
      " 17  twoP_per             1297 non-null   float64\n",
      " 18  TPM                  1297 non-null   int64  \n",
      " 19  TPA                  1297 non-null   int64  \n",
      " 20  TP_per               1297 non-null   float64\n",
      " 21  blk_per              1297 non-null   float64\n",
      " 22  stl_per              1297 non-null   float64\n",
      " 23  ftr                  1297 non-null   float64\n",
      " 24  yr                   1297 non-null   object \n",
      " 25  ht                   1291 non-null   object \n",
      " 26  porpag               1297 non-null   float64\n",
      " 27  adjoe                1297 non-null   float64\n",
      " 28  pfr                  1297 non-null   float64\n",
      " 29  year                 1297 non-null   int64  \n",
      " 30  type                 1297 non-null   object \n",
      " 31  Rec_Rank             403 non-null    float64\n",
      " 32  ast_tov              1172 non-null   float64\n",
      " 33  rimmade              1236 non-null   float64\n",
      " 34  rimmade_rimmiss      1236 non-null   float64\n",
      " 35  midmade              1236 non-null   float64\n",
      " 36  midmade_midmiss      1236 non-null   float64\n",
      " 37  rim_ratio            1119 non-null   float64\n",
      " 38  mid_ratio            1101 non-null   float64\n",
      " 39  dunksmade            1236 non-null   float64\n",
      " 40  dunksmiss_dunksmade  1236 non-null   float64\n",
      " 41  dunks_ratio          559 non-null    float64\n",
      " 42  drtg                 1297 non-null   float64\n",
      " 43  adrtg                1297 non-null   float64\n",
      " 44  dporpag              1297 non-null   float64\n",
      " 45  stops                1297 non-null   float64\n",
      " 46  bpm                  1297 non-null   float64\n",
      " 47  obpm                 1297 non-null   float64\n",
      " 48  dbpm                 1297 non-null   float64\n",
      " 49  gbpm                 1297 non-null   float64\n",
      " 50  mp                   1297 non-null   float64\n",
      " 51  ogbpm                1297 non-null   float64\n",
      " 52  dgbpm                1297 non-null   float64\n",
      " 53  oreb                 1297 non-null   float64\n",
      " 54  dreb                 1297 non-null   float64\n",
      " 55  treb                 1297 non-null   float64\n",
      " 56  ast                  1297 non-null   float64\n",
      " 57  stl                  1297 non-null   float64\n",
      " 58  blk                  1297 non-null   float64\n",
      " 59  pts                  1297 non-null   float64\n",
      " 60  player_id            1297 non-null   object \n",
      "dtypes: float64(47), int64(8), object(6)\n",
      "memory usage: 618.2+ KB\n"
     ]
    },
    {
     "data": {
      "text/plain": [
       "None"
      ]
     },
     "metadata": {},
     "output_type": "display_data"
    }
   ],
   "source": [
    "# Load the dataset\n",
    "test = pd.read_csv('/Users/tifflin/Desktop/UTS/MS data science and innovation/3rd SEM/36120 Advanced ML/ASM1/AT1-Group5/36120-AT1-Group5/25605217/data/raw/test.csv')\n",
    "# Display the first few rows and basic information about the dataset\n",
    "print(\"Dataset Shape:\", test.shape)\n",
    "print(\"\\nFirst few rows of the dataset:\")\n",
    "display(test.head())\n",
    "print(\"\\nDataset Info:\")\n",
    "display(test.info())"
   ]
  },
  {
   "cell_type": "markdown",
   "metadata": {},
   "source": [
    "Check missing value by each feature"
   ]
  },
  {
   "cell_type": "code",
   "execution_count": null,
   "metadata": {},
   "outputs": [
    {
     "name": "stdout",
     "output_type": "stream",
     "text": [
      "['ht', 'Rec_Rank', 'ast_tov', 'rimmade', 'rimmade_rimmiss', 'midmade', 'midmade_midmiss', 'rim_ratio', 'mid_ratio', 'dunksmade', 'dunksmiss_dunksmade', 'dunks_ratio']\n"
     ]
    },
    {
     "data": {
      "text/html": [
       "<div>\n",
       "<style scoped>\n",
       "    .dataframe tbody tr th:only-of-type {\n",
       "        vertical-align: middle;\n",
       "    }\n",
       "\n",
       "    .dataframe tbody tr th {\n",
       "        vertical-align: top;\n",
       "    }\n",
       "\n",
       "    .dataframe thead th {\n",
       "        text-align: right;\n",
       "    }\n",
       "</style>\n",
       "<table border=\"1\" class=\"dataframe\">\n",
       "  <thead>\n",
       "    <tr style=\"text-align: right;\">\n",
       "      <th></th>\n",
       "      <th>0</th>\n",
       "    </tr>\n",
       "  </thead>\n",
       "  <tbody>\n",
       "    <tr>\n",
       "      <th>ht</th>\n",
       "      <td>6</td>\n",
       "    </tr>\n",
       "    <tr>\n",
       "      <th>Rec_Rank</th>\n",
       "      <td>894</td>\n",
       "    </tr>\n",
       "    <tr>\n",
       "      <th>ast_tov</th>\n",
       "      <td>125</td>\n",
       "    </tr>\n",
       "    <tr>\n",
       "      <th>rimmade</th>\n",
       "      <td>61</td>\n",
       "    </tr>\n",
       "    <tr>\n",
       "      <th>rimmade_rimmiss</th>\n",
       "      <td>61</td>\n",
       "    </tr>\n",
       "    <tr>\n",
       "      <th>midmade</th>\n",
       "      <td>61</td>\n",
       "    </tr>\n",
       "    <tr>\n",
       "      <th>midmade_midmiss</th>\n",
       "      <td>61</td>\n",
       "    </tr>\n",
       "    <tr>\n",
       "      <th>rim_ratio</th>\n",
       "      <td>178</td>\n",
       "    </tr>\n",
       "    <tr>\n",
       "      <th>mid_ratio</th>\n",
       "      <td>196</td>\n",
       "    </tr>\n",
       "    <tr>\n",
       "      <th>dunksmade</th>\n",
       "      <td>61</td>\n",
       "    </tr>\n",
       "    <tr>\n",
       "      <th>dunksmiss_dunksmade</th>\n",
       "      <td>61</td>\n",
       "    </tr>\n",
       "    <tr>\n",
       "      <th>dunks_ratio</th>\n",
       "      <td>738</td>\n",
       "    </tr>\n",
       "  </tbody>\n",
       "</table>\n",
       "</div>"
      ],
      "text/plain": [
       "                       0\n",
       "ht                     6\n",
       "Rec_Rank             894\n",
       "ast_tov              125\n",
       "rimmade               61\n",
       "rimmade_rimmiss       61\n",
       "midmade               61\n",
       "midmade_midmiss       61\n",
       "rim_ratio            178\n",
       "mid_ratio            196\n",
       "dunksmade             61\n",
       "dunksmiss_dunksmade   61\n",
       "dunks_ratio          738"
      ]
     },
     "execution_count": 230,
     "metadata": {},
     "output_type": "execute_result"
    }
   ],
   "source": [
    "print(missing_col(test))"
   ]
  },
  {
   "cell_type": "code",
   "execution_count": null,
   "metadata": {},
   "outputs": [
    {
     "name": "stdout",
     "output_type": "stream",
     "text": [
      "Total number of features: 61\n"
     ]
    },
    {
     "data": {
      "text/html": [
       "<div>\n",
       "<style scoped>\n",
       "    .dataframe tbody tr th:only-of-type {\n",
       "        vertical-align: middle;\n",
       "    }\n",
       "\n",
       "    .dataframe tbody tr th {\n",
       "        vertical-align: top;\n",
       "    }\n",
       "\n",
       "    .dataframe thead th {\n",
       "        text-align: right;\n",
       "    }\n",
       "</style>\n",
       "<table border=\"1\" class=\"dataframe\">\n",
       "  <thead>\n",
       "    <tr style=\"text-align: right;\">\n",
       "      <th></th>\n",
       "      <th>Column</th>\n",
       "      <th>Missing Values</th>\n",
       "      <th>Percentage Missing</th>\n",
       "    </tr>\n",
       "  </thead>\n",
       "  <tbody>\n",
       "    <tr>\n",
       "      <th>Rec_Rank</th>\n",
       "      <td>Rec_Rank</td>\n",
       "      <td>894</td>\n",
       "      <td>68.93</td>\n",
       "    </tr>\n",
       "    <tr>\n",
       "      <th>dunks_ratio</th>\n",
       "      <td>dunks_ratio</td>\n",
       "      <td>738</td>\n",
       "      <td>56.90</td>\n",
       "    </tr>\n",
       "    <tr>\n",
       "      <th>mid_ratio</th>\n",
       "      <td>mid_ratio</td>\n",
       "      <td>196</td>\n",
       "      <td>15.11</td>\n",
       "    </tr>\n",
       "    <tr>\n",
       "      <th>rim_ratio</th>\n",
       "      <td>rim_ratio</td>\n",
       "      <td>178</td>\n",
       "      <td>13.72</td>\n",
       "    </tr>\n",
       "    <tr>\n",
       "      <th>ast_tov</th>\n",
       "      <td>ast_tov</td>\n",
       "      <td>125</td>\n",
       "      <td>9.64</td>\n",
       "    </tr>\n",
       "    <tr>\n",
       "      <th>rimmade</th>\n",
       "      <td>rimmade</td>\n",
       "      <td>61</td>\n",
       "      <td>4.70</td>\n",
       "    </tr>\n",
       "    <tr>\n",
       "      <th>rimmade_rimmiss</th>\n",
       "      <td>rimmade_rimmiss</td>\n",
       "      <td>61</td>\n",
       "      <td>4.70</td>\n",
       "    </tr>\n",
       "    <tr>\n",
       "      <th>midmade</th>\n",
       "      <td>midmade</td>\n",
       "      <td>61</td>\n",
       "      <td>4.70</td>\n",
       "    </tr>\n",
       "    <tr>\n",
       "      <th>midmade_midmiss</th>\n",
       "      <td>midmade_midmiss</td>\n",
       "      <td>61</td>\n",
       "      <td>4.70</td>\n",
       "    </tr>\n",
       "    <tr>\n",
       "      <th>dunksmade</th>\n",
       "      <td>dunksmade</td>\n",
       "      <td>61</td>\n",
       "      <td>4.70</td>\n",
       "    </tr>\n",
       "    <tr>\n",
       "      <th>dunksmiss_dunksmade</th>\n",
       "      <td>dunksmiss_dunksmade</td>\n",
       "      <td>61</td>\n",
       "      <td>4.70</td>\n",
       "    </tr>\n",
       "    <tr>\n",
       "      <th>ht</th>\n",
       "      <td>ht</td>\n",
       "      <td>6</td>\n",
       "      <td>0.46</td>\n",
       "    </tr>\n",
       "    <tr>\n",
       "      <th>stops</th>\n",
       "      <td>stops</td>\n",
       "      <td>0</td>\n",
       "      <td>0.00</td>\n",
       "    </tr>\n",
       "    <tr>\n",
       "      <th>drtg</th>\n",
       "      <td>drtg</td>\n",
       "      <td>0</td>\n",
       "      <td>0.00</td>\n",
       "    </tr>\n",
       "    <tr>\n",
       "      <th>adrtg</th>\n",
       "      <td>adrtg</td>\n",
       "      <td>0</td>\n",
       "      <td>0.00</td>\n",
       "    </tr>\n",
       "    <tr>\n",
       "      <th>dporpag</th>\n",
       "      <td>dporpag</td>\n",
       "      <td>0</td>\n",
       "      <td>0.00</td>\n",
       "    </tr>\n",
       "    <tr>\n",
       "      <th>team</th>\n",
       "      <td>team</td>\n",
       "      <td>0</td>\n",
       "      <td>0.00</td>\n",
       "    </tr>\n",
       "    <tr>\n",
       "      <th>obpm</th>\n",
       "      <td>obpm</td>\n",
       "      <td>0</td>\n",
       "      <td>0.00</td>\n",
       "    </tr>\n",
       "    <tr>\n",
       "      <th>dbpm</th>\n",
       "      <td>dbpm</td>\n",
       "      <td>0</td>\n",
       "      <td>0.00</td>\n",
       "    </tr>\n",
       "    <tr>\n",
       "      <th>gbpm</th>\n",
       "      <td>gbpm</td>\n",
       "      <td>0</td>\n",
       "      <td>0.00</td>\n",
       "    </tr>\n",
       "    <tr>\n",
       "      <th>mp</th>\n",
       "      <td>mp</td>\n",
       "      <td>0</td>\n",
       "      <td>0.00</td>\n",
       "    </tr>\n",
       "    <tr>\n",
       "      <th>ogbpm</th>\n",
       "      <td>ogbpm</td>\n",
       "      <td>0</td>\n",
       "      <td>0.00</td>\n",
       "    </tr>\n",
       "    <tr>\n",
       "      <th>dgbpm</th>\n",
       "      <td>dgbpm</td>\n",
       "      <td>0</td>\n",
       "      <td>0.00</td>\n",
       "    </tr>\n",
       "    <tr>\n",
       "      <th>oreb</th>\n",
       "      <td>oreb</td>\n",
       "      <td>0</td>\n",
       "      <td>0.00</td>\n",
       "    </tr>\n",
       "    <tr>\n",
       "      <th>dreb</th>\n",
       "      <td>dreb</td>\n",
       "      <td>0</td>\n",
       "      <td>0.00</td>\n",
       "    </tr>\n",
       "    <tr>\n",
       "      <th>treb</th>\n",
       "      <td>treb</td>\n",
       "      <td>0</td>\n",
       "      <td>0.00</td>\n",
       "    </tr>\n",
       "    <tr>\n",
       "      <th>ast</th>\n",
       "      <td>ast</td>\n",
       "      <td>0</td>\n",
       "      <td>0.00</td>\n",
       "    </tr>\n",
       "    <tr>\n",
       "      <th>stl</th>\n",
       "      <td>stl</td>\n",
       "      <td>0</td>\n",
       "      <td>0.00</td>\n",
       "    </tr>\n",
       "    <tr>\n",
       "      <th>blk</th>\n",
       "      <td>blk</td>\n",
       "      <td>0</td>\n",
       "      <td>0.00</td>\n",
       "    </tr>\n",
       "    <tr>\n",
       "      <th>pts</th>\n",
       "      <td>pts</td>\n",
       "      <td>0</td>\n",
       "      <td>0.00</td>\n",
       "    </tr>\n",
       "    <tr>\n",
       "      <th>bpm</th>\n",
       "      <td>bpm</td>\n",
       "      <td>0</td>\n",
       "      <td>0.00</td>\n",
       "    </tr>\n",
       "    <tr>\n",
       "      <th>type</th>\n",
       "      <td>type</td>\n",
       "      <td>0</td>\n",
       "      <td>0.00</td>\n",
       "    </tr>\n",
       "    <tr>\n",
       "      <th>conf</th>\n",
       "      <td>conf</td>\n",
       "      <td>0</td>\n",
       "      <td>0.00</td>\n",
       "    </tr>\n",
       "    <tr>\n",
       "      <th>FT_per</th>\n",
       "      <td>FT_per</td>\n",
       "      <td>0</td>\n",
       "      <td>0.00</td>\n",
       "    </tr>\n",
       "    <tr>\n",
       "      <th>GP</th>\n",
       "      <td>GP</td>\n",
       "      <td>0</td>\n",
       "      <td>0.00</td>\n",
       "    </tr>\n",
       "    <tr>\n",
       "      <th>Min_per</th>\n",
       "      <td>Min_per</td>\n",
       "      <td>0</td>\n",
       "      <td>0.00</td>\n",
       "    </tr>\n",
       "    <tr>\n",
       "      <th>Ortg</th>\n",
       "      <td>Ortg</td>\n",
       "      <td>0</td>\n",
       "      <td>0.00</td>\n",
       "    </tr>\n",
       "    <tr>\n",
       "      <th>usg</th>\n",
       "      <td>usg</td>\n",
       "      <td>0</td>\n",
       "      <td>0.00</td>\n",
       "    </tr>\n",
       "    <tr>\n",
       "      <th>eFG</th>\n",
       "      <td>eFG</td>\n",
       "      <td>0</td>\n",
       "      <td>0.00</td>\n",
       "    </tr>\n",
       "    <tr>\n",
       "      <th>TS_per</th>\n",
       "      <td>TS_per</td>\n",
       "      <td>0</td>\n",
       "      <td>0.00</td>\n",
       "    </tr>\n",
       "    <tr>\n",
       "      <th>ORB_per</th>\n",
       "      <td>ORB_per</td>\n",
       "      <td>0</td>\n",
       "      <td>0.00</td>\n",
       "    </tr>\n",
       "    <tr>\n",
       "      <th>DRB_per</th>\n",
       "      <td>DRB_per</td>\n",
       "      <td>0</td>\n",
       "      <td>0.00</td>\n",
       "    </tr>\n",
       "    <tr>\n",
       "      <th>AST_per</th>\n",
       "      <td>AST_per</td>\n",
       "      <td>0</td>\n",
       "      <td>0.00</td>\n",
       "    </tr>\n",
       "    <tr>\n",
       "      <th>TO_per</th>\n",
       "      <td>TO_per</td>\n",
       "      <td>0</td>\n",
       "      <td>0.00</td>\n",
       "    </tr>\n",
       "    <tr>\n",
       "      <th>FTM</th>\n",
       "      <td>FTM</td>\n",
       "      <td>0</td>\n",
       "      <td>0.00</td>\n",
       "    </tr>\n",
       "    <tr>\n",
       "      <th>FTA</th>\n",
       "      <td>FTA</td>\n",
       "      <td>0</td>\n",
       "      <td>0.00</td>\n",
       "    </tr>\n",
       "    <tr>\n",
       "      <th>twoPM</th>\n",
       "      <td>twoPM</td>\n",
       "      <td>0</td>\n",
       "      <td>0.00</td>\n",
       "    </tr>\n",
       "    <tr>\n",
       "      <th>year</th>\n",
       "      <td>year</td>\n",
       "      <td>0</td>\n",
       "      <td>0.00</td>\n",
       "    </tr>\n",
       "    <tr>\n",
       "      <th>twoPA</th>\n",
       "      <td>twoPA</td>\n",
       "      <td>0</td>\n",
       "      <td>0.00</td>\n",
       "    </tr>\n",
       "    <tr>\n",
       "      <th>twoP_per</th>\n",
       "      <td>twoP_per</td>\n",
       "      <td>0</td>\n",
       "      <td>0.00</td>\n",
       "    </tr>\n",
       "    <tr>\n",
       "      <th>TPM</th>\n",
       "      <td>TPM</td>\n",
       "      <td>0</td>\n",
       "      <td>0.00</td>\n",
       "    </tr>\n",
       "    <tr>\n",
       "      <th>TPA</th>\n",
       "      <td>TPA</td>\n",
       "      <td>0</td>\n",
       "      <td>0.00</td>\n",
       "    </tr>\n",
       "    <tr>\n",
       "      <th>TP_per</th>\n",
       "      <td>TP_per</td>\n",
       "      <td>0</td>\n",
       "      <td>0.00</td>\n",
       "    </tr>\n",
       "    <tr>\n",
       "      <th>blk_per</th>\n",
       "      <td>blk_per</td>\n",
       "      <td>0</td>\n",
       "      <td>0.00</td>\n",
       "    </tr>\n",
       "    <tr>\n",
       "      <th>stl_per</th>\n",
       "      <td>stl_per</td>\n",
       "      <td>0</td>\n",
       "      <td>0.00</td>\n",
       "    </tr>\n",
       "    <tr>\n",
       "      <th>ftr</th>\n",
       "      <td>ftr</td>\n",
       "      <td>0</td>\n",
       "      <td>0.00</td>\n",
       "    </tr>\n",
       "    <tr>\n",
       "      <th>yr</th>\n",
       "      <td>yr</td>\n",
       "      <td>0</td>\n",
       "      <td>0.00</td>\n",
       "    </tr>\n",
       "    <tr>\n",
       "      <th>porpag</th>\n",
       "      <td>porpag</td>\n",
       "      <td>0</td>\n",
       "      <td>0.00</td>\n",
       "    </tr>\n",
       "    <tr>\n",
       "      <th>adjoe</th>\n",
       "      <td>adjoe</td>\n",
       "      <td>0</td>\n",
       "      <td>0.00</td>\n",
       "    </tr>\n",
       "    <tr>\n",
       "      <th>pfr</th>\n",
       "      <td>pfr</td>\n",
       "      <td>0</td>\n",
       "      <td>0.00</td>\n",
       "    </tr>\n",
       "    <tr>\n",
       "      <th>player_id</th>\n",
       "      <td>player_id</td>\n",
       "      <td>0</td>\n",
       "      <td>0.00</td>\n",
       "    </tr>\n",
       "  </tbody>\n",
       "</table>\n",
       "</div>"
      ],
      "text/plain": [
       "                                  Column  Missing Values  Percentage Missing\n",
       "Rec_Rank                        Rec_Rank             894               68.93\n",
       "dunks_ratio                  dunks_ratio             738               56.90\n",
       "mid_ratio                      mid_ratio             196               15.11\n",
       "rim_ratio                      rim_ratio             178               13.72\n",
       "ast_tov                          ast_tov             125                9.64\n",
       "rimmade                          rimmade              61                4.70\n",
       "rimmade_rimmiss          rimmade_rimmiss              61                4.70\n",
       "midmade                          midmade              61                4.70\n",
       "midmade_midmiss          midmade_midmiss              61                4.70\n",
       "dunksmade                      dunksmade              61                4.70\n",
       "dunksmiss_dunksmade  dunksmiss_dunksmade              61                4.70\n",
       "ht                                    ht               6                0.46\n",
       "stops                              stops               0                0.00\n",
       "drtg                                drtg               0                0.00\n",
       "adrtg                              adrtg               0                0.00\n",
       "dporpag                          dporpag               0                0.00\n",
       "team                                team               0                0.00\n",
       "obpm                                obpm               0                0.00\n",
       "dbpm                                dbpm               0                0.00\n",
       "gbpm                                gbpm               0                0.00\n",
       "mp                                    mp               0                0.00\n",
       "ogbpm                              ogbpm               0                0.00\n",
       "dgbpm                              dgbpm               0                0.00\n",
       "oreb                                oreb               0                0.00\n",
       "dreb                                dreb               0                0.00\n",
       "treb                                treb               0                0.00\n",
       "ast                                  ast               0                0.00\n",
       "stl                                  stl               0                0.00\n",
       "blk                                  blk               0                0.00\n",
       "pts                                  pts               0                0.00\n",
       "bpm                                  bpm               0                0.00\n",
       "type                                type               0                0.00\n",
       "conf                                conf               0                0.00\n",
       "FT_per                            FT_per               0                0.00\n",
       "GP                                    GP               0                0.00\n",
       "Min_per                          Min_per               0                0.00\n",
       "Ortg                                Ortg               0                0.00\n",
       "usg                                  usg               0                0.00\n",
       "eFG                                  eFG               0                0.00\n",
       "TS_per                            TS_per               0                0.00\n",
       "ORB_per                          ORB_per               0                0.00\n",
       "DRB_per                          DRB_per               0                0.00\n",
       "AST_per                          AST_per               0                0.00\n",
       "TO_per                            TO_per               0                0.00\n",
       "FTM                                  FTM               0                0.00\n",
       "FTA                                  FTA               0                0.00\n",
       "twoPM                              twoPM               0                0.00\n",
       "year                                year               0                0.00\n",
       "twoPA                              twoPA               0                0.00\n",
       "twoP_per                        twoP_per               0                0.00\n",
       "TPM                                  TPM               0                0.00\n",
       "TPA                                  TPA               0                0.00\n",
       "TP_per                            TP_per               0                0.00\n",
       "blk_per                          blk_per               0                0.00\n",
       "stl_per                          stl_per               0                0.00\n",
       "ftr                                  ftr               0                0.00\n",
       "yr                                    yr               0                0.00\n",
       "porpag                            porpag               0                0.00\n",
       "adjoe                              adjoe               0                0.00\n",
       "pfr                                  pfr               0                0.00\n",
       "player_id                      player_id               0                0.00"
      ]
     },
     "metadata": {},
     "output_type": "display_data"
    }
   ],
   "source": [
    "# Create a DataFrame with missing values information\n",
    "missing_values = pd.DataFrame({\n",
    "    'Column': test.columns,\n",
    "    'Missing Values': test.isnull().sum(),\n",
    "    'Percentage Missing': (test.isnull().sum() / len(test) * 100).round(2)\n",
    "})\n",
    "\n",
    "# Sort by number of missing values in descending order\n",
    "missing_values = missing_values.sort_values('Missing Values', ascending=False)\n",
    "\n",
    "# Display all rows\n",
    "pd.set_option('display.max_rows', None)\n",
    "print(\"Total number of features:\", len(test.columns))\n",
    "display(missing_values)"
   ]
  },
  {
   "cell_type": "code",
   "execution_count": null,
   "metadata": {},
   "outputs": [
    {
     "name": "stdout",
     "output_type": "stream",
     "text": [
      "Dataset Shape: (14774, 62)\n",
      "\n",
      "First few rows of the dataset:\n"
     ]
    },
    {
     "data": {
      "text/html": [
       "<div>\n",
       "<style scoped>\n",
       "    .dataframe tbody tr th:only-of-type {\n",
       "        vertical-align: middle;\n",
       "    }\n",
       "\n",
       "    .dataframe tbody tr th {\n",
       "        vertical-align: top;\n",
       "    }\n",
       "\n",
       "    .dataframe thead th {\n",
       "        text-align: right;\n",
       "    }\n",
       "</style>\n",
       "<table border=\"1\" class=\"dataframe\">\n",
       "  <thead>\n",
       "    <tr style=\"text-align: right;\">\n",
       "      <th></th>\n",
       "      <th>team</th>\n",
       "      <th>conf</th>\n",
       "      <th>GP</th>\n",
       "      <th>Min_per</th>\n",
       "      <th>Ortg</th>\n",
       "      <th>usg</th>\n",
       "      <th>eFG</th>\n",
       "      <th>TS_per</th>\n",
       "      <th>ORB_per</th>\n",
       "      <th>DRB_per</th>\n",
       "      <th>...</th>\n",
       "      <th>dgbpm</th>\n",
       "      <th>oreb</th>\n",
       "      <th>dreb</th>\n",
       "      <th>treb</th>\n",
       "      <th>ast</th>\n",
       "      <th>stl</th>\n",
       "      <th>blk</th>\n",
       "      <th>pts</th>\n",
       "      <th>player_id</th>\n",
       "      <th>drafted</th>\n",
       "    </tr>\n",
       "  </thead>\n",
       "  <tbody>\n",
       "    <tr>\n",
       "      <th>0</th>\n",
       "      <td>Pacific</td>\n",
       "      <td>BW</td>\n",
       "      <td>26</td>\n",
       "      <td>52.6</td>\n",
       "      <td>111.8</td>\n",
       "      <td>19.3</td>\n",
       "      <td>61.8</td>\n",
       "      <td>64.93</td>\n",
       "      <td>1.1</td>\n",
       "      <td>7.5</td>\n",
       "      <td>...</td>\n",
       "      <td>-1.34201</td>\n",
       "      <td>0.2308</td>\n",
       "      <td>1.5769</td>\n",
       "      <td>1.8077</td>\n",
       "      <td>2.2308</td>\n",
       "      <td>0.6538</td>\n",
       "      <td>0.0769</td>\n",
       "      <td>9.6538</td>\n",
       "      <td>681edf6e-41cb-4fd1-ba91-da573e063fbc</td>\n",
       "      <td>0.0</td>\n",
       "    </tr>\n",
       "    <tr>\n",
       "      <th>1</th>\n",
       "      <td>Mississippi</td>\n",
       "      <td>SEC</td>\n",
       "      <td>2</td>\n",
       "      <td>0.8</td>\n",
       "      <td>63.6</td>\n",
       "      <td>29.6</td>\n",
       "      <td>33.3</td>\n",
       "      <td>33.33</td>\n",
       "      <td>0.0</td>\n",
       "      <td>21.5</td>\n",
       "      <td>...</td>\n",
       "      <td>-5.42104</td>\n",
       "      <td>0.0000</td>\n",
       "      <td>1.0000</td>\n",
       "      <td>1.0000</td>\n",
       "      <td>0.0000</td>\n",
       "      <td>0.0000</td>\n",
       "      <td>0.0000</td>\n",
       "      <td>2.0000</td>\n",
       "      <td>3542dcb7-19ad-47f2-8b3a-eb79eb3ec4c4</td>\n",
       "      <td>0.0</td>\n",
       "    </tr>\n",
       "    <tr>\n",
       "      <th>2</th>\n",
       "      <td>Stephen F. Austin</td>\n",
       "      <td>Slnd</td>\n",
       "      <td>4</td>\n",
       "      <td>0.6</td>\n",
       "      <td>61.4</td>\n",
       "      <td>21.7</td>\n",
       "      <td>50.0</td>\n",
       "      <td>50.00</td>\n",
       "      <td>0.0</td>\n",
       "      <td>0.0</td>\n",
       "      <td>...</td>\n",
       "      <td>6.46650</td>\n",
       "      <td>0.0000</td>\n",
       "      <td>0.0000</td>\n",
       "      <td>0.0000</td>\n",
       "      <td>0.0000</td>\n",
       "      <td>0.2500</td>\n",
       "      <td>0.0000</td>\n",
       "      <td>0.5000</td>\n",
       "      <td>ca0d8700-807d-4fce-a7a9-63922d1981e6</td>\n",
       "      <td>0.0</td>\n",
       "    </tr>\n",
       "    <tr>\n",
       "      <th>3</th>\n",
       "      <td>Virginia</td>\n",
       "      <td>ACC</td>\n",
       "      <td>28</td>\n",
       "      <td>59.2</td>\n",
       "      <td>88.2</td>\n",
       "      <td>21.7</td>\n",
       "      <td>46.2</td>\n",
       "      <td>47.25</td>\n",
       "      <td>1.5</td>\n",
       "      <td>9.7</td>\n",
       "      <td>...</td>\n",
       "      <td>1.45913</td>\n",
       "      <td>0.3214</td>\n",
       "      <td>2.0357</td>\n",
       "      <td>2.3571</td>\n",
       "      <td>3.0000</td>\n",
       "      <td>1.2857</td>\n",
       "      <td>0.0714</td>\n",
       "      <td>7.7500</td>\n",
       "      <td>01285c6b-bc71-4fa8-941a-28cf3976a117</td>\n",
       "      <td>0.0</td>\n",
       "    </tr>\n",
       "    <tr>\n",
       "      <th>4</th>\n",
       "      <td>Elon</td>\n",
       "      <td>SC</td>\n",
       "      <td>21</td>\n",
       "      <td>13.7</td>\n",
       "      <td>47.5</td>\n",
       "      <td>15.0</td>\n",
       "      <td>26.2</td>\n",
       "      <td>26.20</td>\n",
       "      <td>5.8</td>\n",
       "      <td>2.3</td>\n",
       "      <td>...</td>\n",
       "      <td>-3.75694</td>\n",
       "      <td>0.3810</td>\n",
       "      <td>0.1429</td>\n",
       "      <td>0.5238</td>\n",
       "      <td>0.4286</td>\n",
       "      <td>0.1905</td>\n",
       "      <td>0.0000</td>\n",
       "      <td>0.5714</td>\n",
       "      <td>a962c41c-55ff-461e-8585-db32e4fa0580</td>\n",
       "      <td>0.0</td>\n",
       "    </tr>\n",
       "  </tbody>\n",
       "</table>\n",
       "<p>5 rows × 62 columns</p>\n",
       "</div>"
      ],
      "text/plain": [
       "                team  conf  GP  Min_per   Ortg   usg   eFG  TS_per  ORB_per  \\\n",
       "0            Pacific    BW  26     52.6  111.8  19.3  61.8   64.93      1.1   \n",
       "1        Mississippi   SEC   2      0.8   63.6  29.6  33.3   33.33      0.0   \n",
       "2  Stephen F. Austin  Slnd   4      0.6   61.4  21.7  50.0   50.00      0.0   \n",
       "3           Virginia   ACC  28     59.2   88.2  21.7  46.2   47.25      1.5   \n",
       "4               Elon    SC  21     13.7   47.5  15.0  26.2   26.20      5.8   \n",
       "\n",
       "   DRB_per  ...    dgbpm    oreb    dreb    treb     ast     stl     blk  \\\n",
       "0      7.5  ... -1.34201  0.2308  1.5769  1.8077  2.2308  0.6538  0.0769   \n",
       "1     21.5  ... -5.42104  0.0000  1.0000  1.0000  0.0000  0.0000  0.0000   \n",
       "2      0.0  ...  6.46650  0.0000  0.0000  0.0000  0.0000  0.2500  0.0000   \n",
       "3      9.7  ...  1.45913  0.3214  2.0357  2.3571  3.0000  1.2857  0.0714   \n",
       "4      2.3  ... -3.75694  0.3810  0.1429  0.5238  0.4286  0.1905  0.0000   \n",
       "\n",
       "      pts                             player_id  drafted  \n",
       "0  9.6538  681edf6e-41cb-4fd1-ba91-da573e063fbc      0.0  \n",
       "1  2.0000  3542dcb7-19ad-47f2-8b3a-eb79eb3ec4c4      0.0  \n",
       "2  0.5000  ca0d8700-807d-4fce-a7a9-63922d1981e6      0.0  \n",
       "3  7.7500  01285c6b-bc71-4fa8-941a-28cf3976a117      0.0  \n",
       "4  0.5714  a962c41c-55ff-461e-8585-db32e4fa0580      0.0  \n",
       "\n",
       "[5 rows x 62 columns]"
      ]
     },
     "metadata": {},
     "output_type": "display_data"
    },
    {
     "name": "stdout",
     "output_type": "stream",
     "text": [
      "\n",
      "Dataset Info:\n",
      "<class 'pandas.core.frame.DataFrame'>\n",
      "RangeIndex: 14774 entries, 0 to 14773\n",
      "Data columns (total 62 columns):\n",
      " #   Column               Non-Null Count  Dtype  \n",
      "---  ------               --------------  -----  \n",
      " 0   team                 14774 non-null  object \n",
      " 1   conf                 14774 non-null  object \n",
      " 2   GP                   14774 non-null  int64  \n",
      " 3   Min_per              14774 non-null  float64\n",
      " 4   Ortg                 14774 non-null  float64\n",
      " 5   usg                  14774 non-null  float64\n",
      " 6   eFG                  14774 non-null  float64\n",
      " 7   TS_per               14774 non-null  float64\n",
      " 8   ORB_per              14774 non-null  float64\n",
      " 9   DRB_per              14774 non-null  float64\n",
      " 10  AST_per              14774 non-null  float64\n",
      " 11  TO_per               14774 non-null  float64\n",
      " 12  FTM                  14774 non-null  int64  \n",
      " 13  FTA                  14774 non-null  int64  \n",
      " 14  FT_per               14774 non-null  float64\n",
      " 15  twoPM                14774 non-null  int64  \n",
      " 16  twoPA                14774 non-null  int64  \n",
      " 17  twoP_per             14774 non-null  float64\n",
      " 18  TPM                  14774 non-null  int64  \n",
      " 19  TPA                  14774 non-null  int64  \n",
      " 20  TP_per               14774 non-null  float64\n",
      " 21  blk_per              14774 non-null  float64\n",
      " 22  stl_per              14774 non-null  float64\n",
      " 23  ftr                  14774 non-null  float64\n",
      " 24  yr                   14774 non-null  object \n",
      " 25  ht                   14766 non-null  object \n",
      " 26  porpag               14774 non-null  float64\n",
      " 27  adjoe                14774 non-null  float64\n",
      " 28  pfr                  14774 non-null  float64\n",
      " 29  year                 14774 non-null  int64  \n",
      " 30  type                 14774 non-null  object \n",
      " 31  Rec_Rank             4889 non-null   float64\n",
      " 32  ast_tov              13239 non-null  float64\n",
      " 33  rimmade              12699 non-null  float64\n",
      " 34  rimmade_rimmiss      12699 non-null  float64\n",
      " 35  midmade              12699 non-null  float64\n",
      " 36  midmade_midmiss      12699 non-null  float64\n",
      " 37  rim_ratio            11571 non-null  float64\n",
      " 38  mid_ratio            11583 non-null  float64\n",
      " 39  dunksmade            12699 non-null  float64\n",
      " 40  dunksmiss_dunksmade  12699 non-null  float64\n",
      " 41  dunks_ratio          5386 non-null   float64\n",
      " 42  drtg                 14769 non-null  float64\n",
      " 43  adrtg                14769 non-null  float64\n",
      " 44  dporpag              14769 non-null  float64\n",
      " 45  stops                14769 non-null  float64\n",
      " 46  bpm                  14769 non-null  float64\n",
      " 47  obpm                 14769 non-null  float64\n",
      " 48  dbpm                 14769 non-null  float64\n",
      " 49  gbpm                 14769 non-null  float64\n",
      " 50  mp                   14773 non-null  float64\n",
      " 51  ogbpm                14769 non-null  float64\n",
      " 52  dgbpm                14769 non-null  float64\n",
      " 53  oreb                 14773 non-null  float64\n",
      " 54  dreb                 14773 non-null  float64\n",
      " 55  treb                 14773 non-null  float64\n",
      " 56  ast                  14773 non-null  float64\n",
      " 57  stl                  14773 non-null  float64\n",
      " 58  blk                  14773 non-null  float64\n",
      " 59  pts                  14773 non-null  float64\n",
      " 60  player_id            14774 non-null  object \n",
      " 61  drafted              14774 non-null  float64\n",
      "dtypes: float64(48), int64(8), object(6)\n",
      "memory usage: 7.0+ MB\n"
     ]
    },
    {
     "data": {
      "text/plain": [
       "None"
      ]
     },
     "metadata": {},
     "output_type": "display_data"
    }
   ],
   "source": [
    "# Load the training dataset\n",
    "train = pd.read_csv('/Users/tifflin/Desktop/UTS/MS data science and innovation/3rd SEM/36120 Advanced ML/ASM1/AT1-Group5/36120-AT1-Group5/25605217/data/raw/train.csv')\n",
    "\n",
    "# Display the first few rows and basic information about the dataset\n",
    "print(\"Dataset Shape:\", train.shape)\n",
    "print(\"\\nFirst few rows of the dataset:\")\n",
    "display(train.head())\n",
    "print(\"\\nDataset Info:\")\n",
    "display(train.info())"
   ]
  },
  {
   "cell_type": "markdown",
   "metadata": {},
   "source": [
    "**Check missing value by each feature on train set**"
   ]
  },
  {
   "cell_type": "code",
   "execution_count": null,
   "metadata": {},
   "outputs": [
    {
     "name": "stdout",
     "output_type": "stream",
     "text": [
      "['ht', 'Rec_Rank', 'ast_tov', 'rimmade', 'rimmade_rimmiss', 'midmade', 'midmade_midmiss', 'rim_ratio', 'mid_ratio', 'dunksmade', 'dunksmiss_dunksmade', 'dunks_ratio', 'drtg', 'adrtg', 'dporpag', 'stops', 'bpm', 'obpm', 'dbpm', 'gbpm', 'mp', 'ogbpm', 'dgbpm', 'oreb', 'dreb', 'treb', 'ast', 'stl', 'blk', 'pts']\n"
     ]
    },
    {
     "data": {
      "text/html": [
       "<div>\n",
       "<style scoped>\n",
       "    .dataframe tbody tr th:only-of-type {\n",
       "        vertical-align: middle;\n",
       "    }\n",
       "\n",
       "    .dataframe tbody tr th {\n",
       "        vertical-align: top;\n",
       "    }\n",
       "\n",
       "    .dataframe thead th {\n",
       "        text-align: right;\n",
       "    }\n",
       "</style>\n",
       "<table border=\"1\" class=\"dataframe\">\n",
       "  <thead>\n",
       "    <tr style=\"text-align: right;\">\n",
       "      <th></th>\n",
       "      <th>0</th>\n",
       "    </tr>\n",
       "  </thead>\n",
       "  <tbody>\n",
       "    <tr>\n",
       "      <th>ht</th>\n",
       "      <td>8</td>\n",
       "    </tr>\n",
       "    <tr>\n",
       "      <th>Rec_Rank</th>\n",
       "      <td>9885</td>\n",
       "    </tr>\n",
       "    <tr>\n",
       "      <th>ast_tov</th>\n",
       "      <td>1535</td>\n",
       "    </tr>\n",
       "    <tr>\n",
       "      <th>rimmade</th>\n",
       "      <td>2075</td>\n",
       "    </tr>\n",
       "    <tr>\n",
       "      <th>rimmade_rimmiss</th>\n",
       "      <td>2075</td>\n",
       "    </tr>\n",
       "    <tr>\n",
       "      <th>midmade</th>\n",
       "      <td>2075</td>\n",
       "    </tr>\n",
       "    <tr>\n",
       "      <th>midmade_midmiss</th>\n",
       "      <td>2075</td>\n",
       "    </tr>\n",
       "    <tr>\n",
       "      <th>rim_ratio</th>\n",
       "      <td>3203</td>\n",
       "    </tr>\n",
       "    <tr>\n",
       "      <th>mid_ratio</th>\n",
       "      <td>3191</td>\n",
       "    </tr>\n",
       "    <tr>\n",
       "      <th>dunksmade</th>\n",
       "      <td>2075</td>\n",
       "    </tr>\n",
       "    <tr>\n",
       "      <th>dunksmiss_dunksmade</th>\n",
       "      <td>2075</td>\n",
       "    </tr>\n",
       "    <tr>\n",
       "      <th>dunks_ratio</th>\n",
       "      <td>9388</td>\n",
       "    </tr>\n",
       "    <tr>\n",
       "      <th>drtg</th>\n",
       "      <td>5</td>\n",
       "    </tr>\n",
       "    <tr>\n",
       "      <th>adrtg</th>\n",
       "      <td>5</td>\n",
       "    </tr>\n",
       "    <tr>\n",
       "      <th>dporpag</th>\n",
       "      <td>5</td>\n",
       "    </tr>\n",
       "    <tr>\n",
       "      <th>stops</th>\n",
       "      <td>5</td>\n",
       "    </tr>\n",
       "    <tr>\n",
       "      <th>bpm</th>\n",
       "      <td>5</td>\n",
       "    </tr>\n",
       "    <tr>\n",
       "      <th>obpm</th>\n",
       "      <td>5</td>\n",
       "    </tr>\n",
       "    <tr>\n",
       "      <th>dbpm</th>\n",
       "      <td>5</td>\n",
       "    </tr>\n",
       "    <tr>\n",
       "      <th>gbpm</th>\n",
       "      <td>5</td>\n",
       "    </tr>\n",
       "    <tr>\n",
       "      <th>mp</th>\n",
       "      <td>1</td>\n",
       "    </tr>\n",
       "    <tr>\n",
       "      <th>ogbpm</th>\n",
       "      <td>5</td>\n",
       "    </tr>\n",
       "    <tr>\n",
       "      <th>dgbpm</th>\n",
       "      <td>5</td>\n",
       "    </tr>\n",
       "    <tr>\n",
       "      <th>oreb</th>\n",
       "      <td>1</td>\n",
       "    </tr>\n",
       "    <tr>\n",
       "      <th>dreb</th>\n",
       "      <td>1</td>\n",
       "    </tr>\n",
       "    <tr>\n",
       "      <th>treb</th>\n",
       "      <td>1</td>\n",
       "    </tr>\n",
       "    <tr>\n",
       "      <th>ast</th>\n",
       "      <td>1</td>\n",
       "    </tr>\n",
       "    <tr>\n",
       "      <th>stl</th>\n",
       "      <td>1</td>\n",
       "    </tr>\n",
       "    <tr>\n",
       "      <th>blk</th>\n",
       "      <td>1</td>\n",
       "    </tr>\n",
       "    <tr>\n",
       "      <th>pts</th>\n",
       "      <td>1</td>\n",
       "    </tr>\n",
       "  </tbody>\n",
       "</table>\n",
       "</div>"
      ],
      "text/plain": [
       "                        0\n",
       "ht                      8\n",
       "Rec_Rank             9885\n",
       "ast_tov              1535\n",
       "rimmade              2075\n",
       "rimmade_rimmiss      2075\n",
       "midmade              2075\n",
       "midmade_midmiss      2075\n",
       "rim_ratio            3203\n",
       "mid_ratio            3191\n",
       "dunksmade            2075\n",
       "dunksmiss_dunksmade  2075\n",
       "dunks_ratio          9388\n",
       "drtg                    5\n",
       "adrtg                   5\n",
       "dporpag                 5\n",
       "stops                   5\n",
       "bpm                     5\n",
       "obpm                    5\n",
       "dbpm                    5\n",
       "gbpm                    5\n",
       "mp                      1\n",
       "ogbpm                   5\n",
       "dgbpm                   5\n",
       "oreb                    1\n",
       "dreb                    1\n",
       "treb                    1\n",
       "ast                     1\n",
       "stl                     1\n",
       "blk                     1\n",
       "pts                     1"
      ]
     },
     "execution_count": 233,
     "metadata": {},
     "output_type": "execute_result"
    }
   ],
   "source": [
    "print(missing_col(train))"
   ]
  },
  {
   "cell_type": "code",
   "execution_count": null,
   "metadata": {},
   "outputs": [
    {
     "name": "stdout",
     "output_type": "stream",
     "text": [
      "Total number of features: 62\n"
     ]
    },
    {
     "data": {
      "text/html": [
       "<div>\n",
       "<style scoped>\n",
       "    .dataframe tbody tr th:only-of-type {\n",
       "        vertical-align: middle;\n",
       "    }\n",
       "\n",
       "    .dataframe tbody tr th {\n",
       "        vertical-align: top;\n",
       "    }\n",
       "\n",
       "    .dataframe thead th {\n",
       "        text-align: right;\n",
       "    }\n",
       "</style>\n",
       "<table border=\"1\" class=\"dataframe\">\n",
       "  <thead>\n",
       "    <tr style=\"text-align: right;\">\n",
       "      <th></th>\n",
       "      <th>Column</th>\n",
       "      <th>Missing Values</th>\n",
       "      <th>Percentage Missing</th>\n",
       "    </tr>\n",
       "  </thead>\n",
       "  <tbody>\n",
       "    <tr>\n",
       "      <th>Rec_Rank</th>\n",
       "      <td>Rec_Rank</td>\n",
       "      <td>9885</td>\n",
       "      <td>66.91</td>\n",
       "    </tr>\n",
       "    <tr>\n",
       "      <th>dunks_ratio</th>\n",
       "      <td>dunks_ratio</td>\n",
       "      <td>9388</td>\n",
       "      <td>63.54</td>\n",
       "    </tr>\n",
       "    <tr>\n",
       "      <th>rim_ratio</th>\n",
       "      <td>rim_ratio</td>\n",
       "      <td>3203</td>\n",
       "      <td>21.68</td>\n",
       "    </tr>\n",
       "    <tr>\n",
       "      <th>mid_ratio</th>\n",
       "      <td>mid_ratio</td>\n",
       "      <td>3191</td>\n",
       "      <td>21.60</td>\n",
       "    </tr>\n",
       "    <tr>\n",
       "      <th>rimmade_rimmiss</th>\n",
       "      <td>rimmade_rimmiss</td>\n",
       "      <td>2075</td>\n",
       "      <td>14.04</td>\n",
       "    </tr>\n",
       "    <tr>\n",
       "      <th>midmade</th>\n",
       "      <td>midmade</td>\n",
       "      <td>2075</td>\n",
       "      <td>14.04</td>\n",
       "    </tr>\n",
       "    <tr>\n",
       "      <th>midmade_midmiss</th>\n",
       "      <td>midmade_midmiss</td>\n",
       "      <td>2075</td>\n",
       "      <td>14.04</td>\n",
       "    </tr>\n",
       "    <tr>\n",
       "      <th>dunksmade</th>\n",
       "      <td>dunksmade</td>\n",
       "      <td>2075</td>\n",
       "      <td>14.04</td>\n",
       "    </tr>\n",
       "    <tr>\n",
       "      <th>dunksmiss_dunksmade</th>\n",
       "      <td>dunksmiss_dunksmade</td>\n",
       "      <td>2075</td>\n",
       "      <td>14.04</td>\n",
       "    </tr>\n",
       "    <tr>\n",
       "      <th>rimmade</th>\n",
       "      <td>rimmade</td>\n",
       "      <td>2075</td>\n",
       "      <td>14.04</td>\n",
       "    </tr>\n",
       "    <tr>\n",
       "      <th>ast_tov</th>\n",
       "      <td>ast_tov</td>\n",
       "      <td>1535</td>\n",
       "      <td>10.39</td>\n",
       "    </tr>\n",
       "    <tr>\n",
       "      <th>ht</th>\n",
       "      <td>ht</td>\n",
       "      <td>8</td>\n",
       "      <td>0.05</td>\n",
       "    </tr>\n",
       "    <tr>\n",
       "      <th>dgbpm</th>\n",
       "      <td>dgbpm</td>\n",
       "      <td>5</td>\n",
       "      <td>0.03</td>\n",
       "    </tr>\n",
       "    <tr>\n",
       "      <th>stops</th>\n",
       "      <td>stops</td>\n",
       "      <td>5</td>\n",
       "      <td>0.03</td>\n",
       "    </tr>\n",
       "    <tr>\n",
       "      <th>ogbpm</th>\n",
       "      <td>ogbpm</td>\n",
       "      <td>5</td>\n",
       "      <td>0.03</td>\n",
       "    </tr>\n",
       "    <tr>\n",
       "      <th>adrtg</th>\n",
       "      <td>adrtg</td>\n",
       "      <td>5</td>\n",
       "      <td>0.03</td>\n",
       "    </tr>\n",
       "    <tr>\n",
       "      <th>dporpag</th>\n",
       "      <td>dporpag</td>\n",
       "      <td>5</td>\n",
       "      <td>0.03</td>\n",
       "    </tr>\n",
       "    <tr>\n",
       "      <th>drtg</th>\n",
       "      <td>drtg</td>\n",
       "      <td>5</td>\n",
       "      <td>0.03</td>\n",
       "    </tr>\n",
       "    <tr>\n",
       "      <th>bpm</th>\n",
       "      <td>bpm</td>\n",
       "      <td>5</td>\n",
       "      <td>0.03</td>\n",
       "    </tr>\n",
       "    <tr>\n",
       "      <th>dbpm</th>\n",
       "      <td>dbpm</td>\n",
       "      <td>5</td>\n",
       "      <td>0.03</td>\n",
       "    </tr>\n",
       "    <tr>\n",
       "      <th>gbpm</th>\n",
       "      <td>gbpm</td>\n",
       "      <td>5</td>\n",
       "      <td>0.03</td>\n",
       "    </tr>\n",
       "    <tr>\n",
       "      <th>obpm</th>\n",
       "      <td>obpm</td>\n",
       "      <td>5</td>\n",
       "      <td>0.03</td>\n",
       "    </tr>\n",
       "    <tr>\n",
       "      <th>oreb</th>\n",
       "      <td>oreb</td>\n",
       "      <td>1</td>\n",
       "      <td>0.01</td>\n",
       "    </tr>\n",
       "    <tr>\n",
       "      <th>dreb</th>\n",
       "      <td>dreb</td>\n",
       "      <td>1</td>\n",
       "      <td>0.01</td>\n",
       "    </tr>\n",
       "    <tr>\n",
       "      <th>treb</th>\n",
       "      <td>treb</td>\n",
       "      <td>1</td>\n",
       "      <td>0.01</td>\n",
       "    </tr>\n",
       "    <tr>\n",
       "      <th>ast</th>\n",
       "      <td>ast</td>\n",
       "      <td>1</td>\n",
       "      <td>0.01</td>\n",
       "    </tr>\n",
       "    <tr>\n",
       "      <th>mp</th>\n",
       "      <td>mp</td>\n",
       "      <td>1</td>\n",
       "      <td>0.01</td>\n",
       "    </tr>\n",
       "    <tr>\n",
       "      <th>stl</th>\n",
       "      <td>stl</td>\n",
       "      <td>1</td>\n",
       "      <td>0.01</td>\n",
       "    </tr>\n",
       "    <tr>\n",
       "      <th>blk</th>\n",
       "      <td>blk</td>\n",
       "      <td>1</td>\n",
       "      <td>0.01</td>\n",
       "    </tr>\n",
       "    <tr>\n",
       "      <th>pts</th>\n",
       "      <td>pts</td>\n",
       "      <td>1</td>\n",
       "      <td>0.01</td>\n",
       "    </tr>\n",
       "    <tr>\n",
       "      <th>player_id</th>\n",
       "      <td>player_id</td>\n",
       "      <td>0</td>\n",
       "      <td>0.00</td>\n",
       "    </tr>\n",
       "    <tr>\n",
       "      <th>team</th>\n",
       "      <td>team</td>\n",
       "      <td>0</td>\n",
       "      <td>0.00</td>\n",
       "    </tr>\n",
       "    <tr>\n",
       "      <th>conf</th>\n",
       "      <td>conf</td>\n",
       "      <td>0</td>\n",
       "      <td>0.00</td>\n",
       "    </tr>\n",
       "    <tr>\n",
       "      <th>type</th>\n",
       "      <td>type</td>\n",
       "      <td>0</td>\n",
       "      <td>0.00</td>\n",
       "    </tr>\n",
       "    <tr>\n",
       "      <th>GP</th>\n",
       "      <td>GP</td>\n",
       "      <td>0</td>\n",
       "      <td>0.00</td>\n",
       "    </tr>\n",
       "    <tr>\n",
       "      <th>Min_per</th>\n",
       "      <td>Min_per</td>\n",
       "      <td>0</td>\n",
       "      <td>0.00</td>\n",
       "    </tr>\n",
       "    <tr>\n",
       "      <th>Ortg</th>\n",
       "      <td>Ortg</td>\n",
       "      <td>0</td>\n",
       "      <td>0.00</td>\n",
       "    </tr>\n",
       "    <tr>\n",
       "      <th>usg</th>\n",
       "      <td>usg</td>\n",
       "      <td>0</td>\n",
       "      <td>0.00</td>\n",
       "    </tr>\n",
       "    <tr>\n",
       "      <th>eFG</th>\n",
       "      <td>eFG</td>\n",
       "      <td>0</td>\n",
       "      <td>0.00</td>\n",
       "    </tr>\n",
       "    <tr>\n",
       "      <th>TS_per</th>\n",
       "      <td>TS_per</td>\n",
       "      <td>0</td>\n",
       "      <td>0.00</td>\n",
       "    </tr>\n",
       "    <tr>\n",
       "      <th>ORB_per</th>\n",
       "      <td>ORB_per</td>\n",
       "      <td>0</td>\n",
       "      <td>0.00</td>\n",
       "    </tr>\n",
       "    <tr>\n",
       "      <th>DRB_per</th>\n",
       "      <td>DRB_per</td>\n",
       "      <td>0</td>\n",
       "      <td>0.00</td>\n",
       "    </tr>\n",
       "    <tr>\n",
       "      <th>AST_per</th>\n",
       "      <td>AST_per</td>\n",
       "      <td>0</td>\n",
       "      <td>0.00</td>\n",
       "    </tr>\n",
       "    <tr>\n",
       "      <th>TO_per</th>\n",
       "      <td>TO_per</td>\n",
       "      <td>0</td>\n",
       "      <td>0.00</td>\n",
       "    </tr>\n",
       "    <tr>\n",
       "      <th>FTM</th>\n",
       "      <td>FTM</td>\n",
       "      <td>0</td>\n",
       "      <td>0.00</td>\n",
       "    </tr>\n",
       "    <tr>\n",
       "      <th>FTA</th>\n",
       "      <td>FTA</td>\n",
       "      <td>0</td>\n",
       "      <td>0.00</td>\n",
       "    </tr>\n",
       "    <tr>\n",
       "      <th>FT_per</th>\n",
       "      <td>FT_per</td>\n",
       "      <td>0</td>\n",
       "      <td>0.00</td>\n",
       "    </tr>\n",
       "    <tr>\n",
       "      <th>twoPM</th>\n",
       "      <td>twoPM</td>\n",
       "      <td>0</td>\n",
       "      <td>0.00</td>\n",
       "    </tr>\n",
       "    <tr>\n",
       "      <th>twoPA</th>\n",
       "      <td>twoPA</td>\n",
       "      <td>0</td>\n",
       "      <td>0.00</td>\n",
       "    </tr>\n",
       "    <tr>\n",
       "      <th>twoP_per</th>\n",
       "      <td>twoP_per</td>\n",
       "      <td>0</td>\n",
       "      <td>0.00</td>\n",
       "    </tr>\n",
       "    <tr>\n",
       "      <th>TPM</th>\n",
       "      <td>TPM</td>\n",
       "      <td>0</td>\n",
       "      <td>0.00</td>\n",
       "    </tr>\n",
       "    <tr>\n",
       "      <th>TPA</th>\n",
       "      <td>TPA</td>\n",
       "      <td>0</td>\n",
       "      <td>0.00</td>\n",
       "    </tr>\n",
       "    <tr>\n",
       "      <th>TP_per</th>\n",
       "      <td>TP_per</td>\n",
       "      <td>0</td>\n",
       "      <td>0.00</td>\n",
       "    </tr>\n",
       "    <tr>\n",
       "      <th>blk_per</th>\n",
       "      <td>blk_per</td>\n",
       "      <td>0</td>\n",
       "      <td>0.00</td>\n",
       "    </tr>\n",
       "    <tr>\n",
       "      <th>stl_per</th>\n",
       "      <td>stl_per</td>\n",
       "      <td>0</td>\n",
       "      <td>0.00</td>\n",
       "    </tr>\n",
       "    <tr>\n",
       "      <th>ftr</th>\n",
       "      <td>ftr</td>\n",
       "      <td>0</td>\n",
       "      <td>0.00</td>\n",
       "    </tr>\n",
       "    <tr>\n",
       "      <th>yr</th>\n",
       "      <td>yr</td>\n",
       "      <td>0</td>\n",
       "      <td>0.00</td>\n",
       "    </tr>\n",
       "    <tr>\n",
       "      <th>porpag</th>\n",
       "      <td>porpag</td>\n",
       "      <td>0</td>\n",
       "      <td>0.00</td>\n",
       "    </tr>\n",
       "    <tr>\n",
       "      <th>adjoe</th>\n",
       "      <td>adjoe</td>\n",
       "      <td>0</td>\n",
       "      <td>0.00</td>\n",
       "    </tr>\n",
       "    <tr>\n",
       "      <th>pfr</th>\n",
       "      <td>pfr</td>\n",
       "      <td>0</td>\n",
       "      <td>0.00</td>\n",
       "    </tr>\n",
       "    <tr>\n",
       "      <th>year</th>\n",
       "      <td>year</td>\n",
       "      <td>0</td>\n",
       "      <td>0.00</td>\n",
       "    </tr>\n",
       "    <tr>\n",
       "      <th>drafted</th>\n",
       "      <td>drafted</td>\n",
       "      <td>0</td>\n",
       "      <td>0.00</td>\n",
       "    </tr>\n",
       "  </tbody>\n",
       "</table>\n",
       "</div>"
      ],
      "text/plain": [
       "                                  Column  Missing Values  Percentage Missing\n",
       "Rec_Rank                        Rec_Rank            9885               66.91\n",
       "dunks_ratio                  dunks_ratio            9388               63.54\n",
       "rim_ratio                      rim_ratio            3203               21.68\n",
       "mid_ratio                      mid_ratio            3191               21.60\n",
       "rimmade_rimmiss          rimmade_rimmiss            2075               14.04\n",
       "midmade                          midmade            2075               14.04\n",
       "midmade_midmiss          midmade_midmiss            2075               14.04\n",
       "dunksmade                      dunksmade            2075               14.04\n",
       "dunksmiss_dunksmade  dunksmiss_dunksmade            2075               14.04\n",
       "rimmade                          rimmade            2075               14.04\n",
       "ast_tov                          ast_tov            1535               10.39\n",
       "ht                                    ht               8                0.05\n",
       "dgbpm                              dgbpm               5                0.03\n",
       "stops                              stops               5                0.03\n",
       "ogbpm                              ogbpm               5                0.03\n",
       "adrtg                              adrtg               5                0.03\n",
       "dporpag                          dporpag               5                0.03\n",
       "drtg                                drtg               5                0.03\n",
       "bpm                                  bpm               5                0.03\n",
       "dbpm                                dbpm               5                0.03\n",
       "gbpm                                gbpm               5                0.03\n",
       "obpm                                obpm               5                0.03\n",
       "oreb                                oreb               1                0.01\n",
       "dreb                                dreb               1                0.01\n",
       "treb                                treb               1                0.01\n",
       "ast                                  ast               1                0.01\n",
       "mp                                    mp               1                0.01\n",
       "stl                                  stl               1                0.01\n",
       "blk                                  blk               1                0.01\n",
       "pts                                  pts               1                0.01\n",
       "player_id                      player_id               0                0.00\n",
       "team                                team               0                0.00\n",
       "conf                                conf               0                0.00\n",
       "type                                type               0                0.00\n",
       "GP                                    GP               0                0.00\n",
       "Min_per                          Min_per               0                0.00\n",
       "Ortg                                Ortg               0                0.00\n",
       "usg                                  usg               0                0.00\n",
       "eFG                                  eFG               0                0.00\n",
       "TS_per                            TS_per               0                0.00\n",
       "ORB_per                          ORB_per               0                0.00\n",
       "DRB_per                          DRB_per               0                0.00\n",
       "AST_per                          AST_per               0                0.00\n",
       "TO_per                            TO_per               0                0.00\n",
       "FTM                                  FTM               0                0.00\n",
       "FTA                                  FTA               0                0.00\n",
       "FT_per                            FT_per               0                0.00\n",
       "twoPM                              twoPM               0                0.00\n",
       "twoPA                              twoPA               0                0.00\n",
       "twoP_per                        twoP_per               0                0.00\n",
       "TPM                                  TPM               0                0.00\n",
       "TPA                                  TPA               0                0.00\n",
       "TP_per                            TP_per               0                0.00\n",
       "blk_per                          blk_per               0                0.00\n",
       "stl_per                          stl_per               0                0.00\n",
       "ftr                                  ftr               0                0.00\n",
       "yr                                    yr               0                0.00\n",
       "porpag                            porpag               0                0.00\n",
       "adjoe                              adjoe               0                0.00\n",
       "pfr                                  pfr               0                0.00\n",
       "year                                year               0                0.00\n",
       "drafted                          drafted               0                0.00"
      ]
     },
     "metadata": {},
     "output_type": "display_data"
    }
   ],
   "source": [
    "# Create a DataFrame with missing values information\n",
    "missing_values = pd.DataFrame({\n",
    "    'Column': train.columns,\n",
    "    'Missing Values': train.isnull().sum(),\n",
    "    'Percentage Missing': (train.isnull().sum() / len(train) * 100).round(2)\n",
    "})\n",
    "\n",
    "# Sort by number of missing values in descending order\n",
    "missing_values = missing_values.sort_values('Missing Values', ascending=False)\n",
    "\n",
    "# Display all rows\n",
    "pd.set_option('display.max_rows', None)\n",
    "print(\"Total number of features:\", len(train.columns))\n",
    "display(missing_values)"
   ]
  },
  {
   "cell_type": "markdown",
   "metadata": {},
   "source": [
    "### Get numerical vs categorical columns"
   ]
  },
  {
   "cell_type": "code",
   "execution_count": null,
   "metadata": {},
   "outputs": [
    {
     "name": "stdout",
     "output_type": "stream",
     "text": [
      "Numeric columns : ['GP', 'Min_per', 'Ortg', 'usg', 'eFG', 'TS_per', 'ORB_per', 'DRB_per', 'AST_per', 'TO_per', 'FTM', 'FTA', 'FT_per', 'twoPM', 'twoPA', 'twoP_per', 'TPM', 'TPA', 'TP_per', 'blk_per', 'stl_per', 'ftr', 'porpag', 'adjoe', 'pfr', 'year', 'Rec_Rank', 'ast_tov', 'rimmade', 'rimmade_rimmiss', 'midmade', 'midmade_midmiss', 'rim_ratio', 'mid_ratio', 'dunksmade', 'dunksmiss_dunksmade', 'dunks_ratio', 'drtg', 'adrtg', 'dporpag', 'stops', 'bpm', 'obpm', 'dbpm', 'gbpm', 'mp', 'ogbpm', 'dgbpm', 'oreb', 'dreb', 'treb', 'ast', 'stl', 'blk', 'pts', 'drafted']\n",
      "Categorical columns : ['team', 'conf', 'yr', 'ht', 'type', 'player_id']\n"
     ]
    }
   ],
   "source": [
    "print(get_numerical_and_categorical_columns(train))\n"
   ]
  },
  {
   "cell_type": "code",
   "execution_count": null,
   "metadata": {},
   "outputs": [
    {
     "name": "stdout",
     "output_type": "stream",
     "text": [
      "Numeric columns : ['GP', 'Min_per', 'Ortg', 'usg', 'eFG', 'TS_per', 'ORB_per', 'DRB_per', 'AST_per', 'TO_per', 'FTM', 'FTA', 'FT_per', 'twoPM', 'twoPA', 'twoP_per', 'TPM', 'TPA', 'TP_per', 'blk_per', 'stl_per', 'ftr', 'porpag', 'adjoe', 'pfr', 'year', 'Rec_Rank', 'ast_tov', 'rimmade', 'rimmade_rimmiss', 'midmade', 'midmade_midmiss', 'rim_ratio', 'mid_ratio', 'dunksmade', 'dunksmiss_dunksmade', 'dunks_ratio', 'drtg', 'adrtg', 'dporpag', 'stops', 'bpm', 'obpm', 'dbpm', 'gbpm', 'mp', 'ogbpm', 'dgbpm', 'oreb', 'dreb', 'treb', 'ast', 'stl', 'blk', 'pts']\n",
      "Categorical columns : ['team', 'conf', 'yr', 'ht', 'type', 'player_id']\n"
     ]
    }
   ],
   "source": [
    "test_numeric_cols, test_categorical_cols = get_numerical_and_categorical_columns(test)\n",
    "print('Numeric columns :', test_numeric_cols)\n",
    "print('Categorical columns :', test_categorical_cols)"
   ]
  },
  {
   "cell_type": "markdown",
   "metadata": {
    "id": "tpG_mos_EXrY"
   },
   "source": [
    "### C.2 Define Target variable"
   ]
  },
  {
   "cell_type": "code",
   "execution_count": null,
   "metadata": {
    "id": "RiqBkEQ-EjIZ"
   },
   "outputs": [],
   "source": [
    "# <Student to fill this section>\n",
    "target_definition_explanations = \"\"\"\n",
    "The target variable 'drafted' indicates whether a college player was selected in the NBA draft. It is a binary variable where 1 represents a player who was drafted and 0 represents a player who was not drafted. This variable is crucial for our analysis as it allows us to evaluate the factors that contribute to a player's success in being drafted into the NBA.\n",
    "\"\"\""
   ]
  },
  {
   "cell_type": "code",
   "execution_count": null,
   "metadata": {
    "id": "qdeiAKiIElvG"
   },
   "outputs": [
    {
     "data": {
      "text/html": [
       "<p style=\"color:grey\">target_definition_explanations</p><h3 font-size: 3em>\n",
       "The target variable 'drafted' indicates whether a college player was selected in the NBA draft. It is a binary variable where 1 represents a player who was drafted and 0 represents a player who was not drafted. This variable is crucial for our analysis as it allows us to evaluate the factors that contribute to a player's success in being drafted into the NBA.\n",
       "</h3>"
      ],
      "text/plain": [
       "<IPython.core.display.HTML object>"
      ]
     },
     "metadata": {},
     "output_type": "display_data"
    }
   ],
   "source": [
    "# Do not modify this code\n",
    "print_tile(size=\"h3\", key='target_definition_explanations', value=target_definition_explanations)"
   ]
  },
  {
   "cell_type": "markdown",
   "metadata": {
    "id": "CtIfwnLmEn51"
   },
   "source": [
    "### C.3 Create Target variable"
   ]
  },
  {
   "cell_type": "code",
   "execution_count": null,
   "metadata": {
    "id": "XV8dRa59EpLG"
   },
   "outputs": [],
   "source": [
    "# <Student to fill this section>\n",
    "\n",
    "target = 'drafted'"
   ]
  },
  {
   "cell_type": "markdown",
   "metadata": {
    "id": "dmSKLrSBFAN5"
   },
   "source": [
    "### C.4 Explore Target variable"
   ]
  },
  {
   "cell_type": "code",
   "execution_count": null,
   "metadata": {
    "id": "zeldOL0KFC4E"
   },
   "outputs": [
    {
     "data": {
      "image/png": "[encoded data removed]",
      "text/plain": [
       "<Figure size 640x480 with 1 Axes>"
      ]
     },
     "metadata": {},
     "output_type": "display_data"
    }
   ],
   "source": [
    "# <Student to fill this section>\n",
    "target_counts = train['drafted'].value_counts().sort_index()\n",
    "plt.figure()\n",
    "target_counts.plot.bar()\n",
    "plt.title('Drafted vs Not Drafted')\n",
    "plt.xlabel('Drafted (0=No, 1=Yes)')\n",
    "plt.ylabel('Count')\n",
    "plt.show()"
   ]
  },
  {
   "cell_type": "code",
   "execution_count": null,
   "metadata": {
    "id": "5I9ccv-UEr5o"
   },
   "outputs": [],
   "source": [
    "# <Student to fill this section>\n",
    "target_distribution_explanations = \"\"\"\n",
    "the chart reveals a severe class imbalance in the target variable 'drafted'. The majority of players (approximately 90%) were not drafted, while only a small percentage (around 10%) were drafted. This imbalance can pose challenges for machine learning models, as they may become biased towards the majority class. It is esstial to use class wight balanced apply in the algo later to fix the issue.\n",
    "\"\"\""
   ]
  },
  {
   "cell_type": "code",
   "execution_count": null,
   "metadata": {
    "id": "i45S7xA9EtEV"
   },
   "outputs": [
    {
     "data": {
      "text/html": [
       "<p style=\"color:grey\">target_distribution_explanations</p><h3 font-size: 3em>\n",
       "the chart reveals a severe class imbalance in the target variable 'drafted'. The majority of players (approximately 90%) were not drafted, while only a small percentage (around 10%) were drafted. This imbalance can pose challenges for machine learning models, as they may become biased towards the majority class. It is esstial to use class wight balanced apply in the algo later to fix the issue.\n",
       "</h3>"
      ],
      "text/plain": [
       "<IPython.core.display.HTML object>"
      ]
     },
     "metadata": {},
     "output_type": "display_data"
    }
   ],
   "source": [
    "# Do not modify this code\n",
    "print_tile(size=\"h3\", key='target_distribution_explanations', value=target_distribution_explanations)"
   ]
  },
  {
   "cell_type": "markdown",
   "metadata": {
    "id": "37ubEa7SFWXo"
   },
   "source": [
    "### C.5 Explore Feature of Interest 'BPM`"
   ]
  },
  {
   "cell_type": "code",
   "execution_count": null,
   "metadata": {},
   "outputs": [],
   "source": [
    "train_vs = train.copy()"
   ]
  },
  {
   "cell_type": "code",
   "execution_count": null,
   "metadata": {
    "id": "wV9Ldx0gFWks"
   },
   "outputs": [
    {
     "data": {
      "image/png": "[encoded data removed]",
      "text/plain": [
       "<Figure size 400x400 with 1 Axes>"
      ]
     },
     "metadata": {},
     "output_type": "display_data"
    }
   ],
   "source": [
    "# <Student to fill this section>\n",
    "\n",
    "train_vs['drafted_label'] = train['drafted'].map({0:'No', 1:'Yes'})\n",
    "\n",
    "plt.figure(figsize=(4,4))\n",
    "sns.kdeplot(data=train_vs, x='bpm', hue='drafted_label', fill=True, alpha=0.5)\n",
    "plt.title('KDE of BPM by Draft Status')\n",
    "plt.xlabel('BPM')\n",
    "plt.ylabel('Density')\n",
    "plt.tight_layout()\n",
    "plt.show()\n"
   ]
  },
  {
   "cell_type": "code",
   "execution_count": null,
   "metadata": {
    "id": "y4YLcn_eEyAe"
   },
   "outputs": [],
   "source": [
    "# <Student to fill this section>\n",
    "feature_1_insights = \"\"\"\n",
    "the KDE plot shows the distribution of BPM (Box Plus/Minus) for drafted and non-drafted players. The drafted players tend to have higher BPM values, indicating better performance on the court. This suggests that BPM is a significant feature that can help differentiate between players who are drafted and those who are not.\n",
    "\"\"\""
   ]
  },
  {
   "cell_type": "code",
   "execution_count": null,
   "metadata": {
    "id": "2r1knRxDEyC0"
   },
   "outputs": [
    {
     "data": {
      "text/html": [
       "<p style=\"color:grey\">feature_1_insights</p><h3 font-size: 3em>\n",
       "the KDE plot shows the distribution of BPM (Box Plus/Minus) for drafted and non-drafted players. The drafted players tend to have higher BPM values, indicating better performance on the court. This suggests that BPM is a significant feature that can help differentiate between players who are drafted and those who are not.\n",
       "</h3>"
      ],
      "text/plain": [
       "<IPython.core.display.HTML object>"
      ]
     },
     "metadata": {},
     "output_type": "display_data"
    }
   ],
   "source": [
    "# Do not modify this code\n",
    "print_tile(size=\"h3\", key='feature_1_insights', value=feature_1_insights)"
   ]
  },
  {
   "cell_type": "markdown",
   "metadata": {
    "id": "WOqd56IjE0LB"
   },
   "source": [
    "### C.6 Explore Feature of Interest `Min_per>`"
   ]
  },
  {
   "cell_type": "code",
   "execution_count": null,
   "metadata": {
    "id": "akQFJsI3E2eM"
   },
   "outputs": [
    {
     "name": "stdout",
     "output_type": "stream",
     "text": [
      "     Min_per_bin  draft_rate\n",
      "0  (-0.001, 2.5]    0.000000\n",
      "1    (2.5, 12.4]    0.000340\n",
      "2   (12.4, 28.0]    0.001356\n",
      "3   (28.0, 48.3]    0.004398\n",
      "4   (48.3, 94.3]    0.033898\n"
     ]
    },
    {
     "data": {
      "image/png": "[encoded data removed]",
      "text/plain": [
       "<Figure size 1000x500 with 1 Axes>"
      ]
     },
     "metadata": {},
     "output_type": "display_data"
    }
   ],
   "source": [
    "# <Student to fill this section>\n",
    "train_vs['Min_per_bin'] = pd.qcut(train['Min_per'], q=5, duplicates='drop')\n",
    "\n",
    "# 3. Compute draft rate per bin\n",
    "rate_by_bin = train_vs.groupby('Min_per_bin')['drafted'].mean().reset_index()\n",
    "rate_by_bin.columns = ['Min_per_bin', 'draft_rate']\n",
    "\n",
    "# 4. Display the rates as a table\n",
    "print(rate_by_bin)\n",
    "\n",
    "# 5. Plot draft rate by minutes-played bin\n",
    "plt.figure(figsize=(10, 5))\n",
    "plt.bar(rate_by_bin['Min_per_bin'].astype(str), rate_by_bin['draft_rate'])\n",
    "plt.title('Draft Rate by Minutes-Played Quintile')\n",
    "plt.xlabel('Minutes-Played Quintile')\n",
    "plt.ylabel('Draft Rate')\n",
    "plt.xticks(rotation=45)\n",
    "plt.tight_layout()\n",
    "plt.show()"
   ]
  },
  {
   "cell_type": "code",
   "execution_count": null,
   "metadata": {
    "id": "u-CfAsO1E2hB"
   },
   "outputs": [],
   "source": [
    "# <Student to fill this section>\n",
    "feature_2_insights = \"\"\"\n",
    "The bar chart illustrates the draft rate for players based on their minutes played per game. Players in the highest quintile of minutes played have a significantly higher draft rate compared to those in lower quintiles. This suggests that playing time is a strong indicator of a player's potential to be drafted, as it reflects their performance and contribution to the team.\n",
    "\"\"\""
   ]
  },
  {
   "cell_type": "code",
   "execution_count": null,
   "metadata": {
    "id": "bB87lgCAE2jf"
   },
   "outputs": [
    {
     "data": {
      "text/html": [
       "<p style=\"color:grey\">feature_2_insights</p><h3 font-size: 3em>\n",
       "The bar chart illustrates the draft rate for players based on their minutes played per game. Players in the highest quintile of minutes played have a significantly higher draft rate compared to those in lower quintiles. This suggests that playing time is a strong indicator of a player's potential to be drafted, as it reflects their performance and contribution to the team.\n",
       "</h3>"
      ],
      "text/plain": [
       "<IPython.core.display.HTML object>"
      ]
     },
     "metadata": {},
     "output_type": "display_data"
    }
   ],
   "source": [
    "# Do not modify this code\n",
    "print_tile(size=\"h3\", key='feature_2_insights', value=feature_2_insights)"
   ]
  },
  {
   "cell_type": "markdown",
   "metadata": {
    "id": "-8J_tiLgE26i"
   },
   "source": [
    "### C.6 Explore Feature of Interest `\\<put feature name here\\>`\n"
   ]
  },
  {
   "cell_type": "code",
   "execution_count": null,
   "metadata": {
    "id": "qeyyEgIrE6GB"
   },
   "outputs": [
    {
     "data": {
      "image/png": "[encoded data removed]",
      "text/plain": [
       "<Figure size 600x600 with 1 Axes>"
      ]
     },
     "metadata": {},
     "output_type": "display_data"
    }
   ],
   "source": [
    "# <Student to fill this section>\n",
    "x_feat = 'usg'    # usage rate\n",
    "y_feat = 'Ortg'   # offensive rating\n",
    "\n",
    "# 3. Prepare two subsets\n",
    "df_no  = train.loc[train['drafted']==0, [x_feat, y_feat]]\n",
    "df_yes = train.loc[train['drafted']==1, [x_feat, y_feat]]\n",
    "\n",
    "# 4. Plot\n",
    "plt.figure(figsize=(6,6))\n",
    "plt.scatter(df_no[x_feat],  df_no[y_feat],  alpha=0.4, label='Not Drafted')\n",
    "plt.scatter(df_yes[x_feat], df_yes[y_feat], alpha=0.6, color='orange', label='Drafted')\n",
    "plt.title('Usage Rate vs Offensive Rating by Draft Status')\n",
    "plt.xlabel('Usage Rate (%)')\n",
    "plt.ylabel('Offensive Rating')\n",
    "plt.legend()\n",
    "plt.grid(alpha=0.3)\n",
    "plt.tight_layout()\n",
    "plt.show()"
   ]
  },
  {
   "cell_type": "code",
   "execution_count": null,
   "metadata": {
    "id": "_Vlh8usmE6In"
   },
   "outputs": [],
   "source": [
    "# <Student to fill this section>\n",
    "feature_n_insights = \"\"\"\n",
    "The scatter plot illustrates the relationship between Usage Rate and Offensive Rating for drafted and non-drafted players. Drafted players tend to have higher Usage Rates and Offensive Ratings, indicating that they are more involved in their team's offense and perform better overall. This suggests that both features are important indicators of a player's potential to be drafted into the NBA.\n",
    "\"\"\""
   ]
  },
  {
   "cell_type": "code",
   "execution_count": null,
   "metadata": {
    "id": "BNZGN3nrE6LJ"
   },
   "outputs": [
    {
     "data": {
      "text/html": [
       "<p style=\"color:grey\">feature_n_insights</p><h3 font-size: 3em>\n",
       "The scatter plot illustrates the relationship between Usage Rate and Offensive Rating for drafted and non-drafted players. Drafted players tend to have higher Usage Rates and Offensive Ratings, indicating that they are more involved in their team's offense and perform better overall. This suggests that both features are important indicators of a player's potential to be drafted into the NBA.\n",
       "</h3>"
      ],
      "text/plain": [
       "<IPython.core.display.HTML object>"
      ]
     },
     "metadata": {},
     "output_type": "display_data"
    }
   ],
   "source": [
    "# Do not modify this code\n",
    "print_tile(size=\"h3\", key='feature_n_insights', value=feature_n_insights)"
   ]
  },
  {
   "cell_type": "markdown",
   "metadata": {
    "id": "ZcjaUGQ_VbVQ"
   },
   "source": [
    "### C.Bi-variate analysis\n",
    "\n",
    "> Executing this analysis in case we need to use logistic regression for next experiment"
   ]
  },
  {
   "cell_type": "code",
   "execution_count": null,
   "metadata": {
    "id": "Z_DwQMvDVbfA"
   },
   "outputs": [
    {
     "data": {
      "image/png": "[encoded data removed]",
      "text/plain": [
       "<Figure size 700x700 with 2 Axes>"
      ]
     },
     "metadata": {},
     "output_type": "display_data"
    }
   ],
   "source": [
    "plt.figure(figsize=(7,7))\n",
    "correlation = train[train_numerical_columns].corr()\n",
    "ax = sns.heatmap(correlation, mask = correlation < 0.8, linewidth=0.5, cmap='coolwarm')\n",
    "\n",
    "\n",
    "ax.grid(True, which='both', axis='both', linestyle='-', linewidth=0.05, color='black')\n",
    "\n",
    "# Adjust tick labels for better visibility\n",
    "ax.set_xticklabels(ax.get_xticklabels(), rotation=90, ha='right')\n",
    "ax.set_yticklabels(ax.get_yticklabels(), rotation=0, va='top')\n",
    "\n",
    "plt.title(\"Correlation Matrix Heatmap\", fontsize=16)\n",
    "plt.tight_layout()  # Adjust layout to prevent cutting off labels or titles\n",
    "plt.show()"
   ]
  },
  {
   "cell_type": "markdown",
   "metadata": {
    "id": "_NCwQQFkU3v5"
   },
   "source": [
    "---\n",
    "## D. Feature Selection\n"
   ]
  },
  {
   "cell_type": "markdown",
   "metadata": {
    "id": "0b8C9WON3Toe"
   },
   "source": [
    "### D.1 Approach \"select all features\"\n"
   ]
  },
  {
   "cell_type": "code",
   "execution_count": null,
   "metadata": {
    "id": "Z9myLlFZFQXj"
   },
   "outputs": [],
   "source": [
    "# <Student to fill this section>\n",
    "feature_selection_1_insights = \"\"\"\n",
    "for the exprience 1, I will use all features available in the dataset. This approach allows us to identify potential relationships and patterns that may exist between the features and the target variable 'drafted'. By analyzing all features, we can gain a comprehensive understanding of the factors that contribute to a player's success in being drafted into the NBA.\n",
    "\"\"\""
   ]
  },
  {
   "cell_type": "code",
   "execution_count": null,
   "metadata": {
    "id": "937YFeqDFQgB"
   },
   "outputs": [
    {
     "data": {
      "text/html": [
       "<p style=\"color:grey\">feature_selection_1_insights</p><h3 font-size: 3em>\n",
       "for the exprience 1, I will use all features available in the dataset. This approach allows us to identify potential relationships and patterns that may exist between the features and the target variable 'drafted'. By analyzing all features, we can gain a comprehensive understanding of the factors that contribute to a player's success in being drafted into the NBA.\n",
       "</h3>"
      ],
      "text/plain": [
       "<IPython.core.display.HTML object>"
      ]
     },
     "metadata": {},
     "output_type": "display_data"
    }
   ],
   "source": [
    "# Do not modify this code\n",
    "print_tile(size=\"h3\", key='feature_selection_1_insights', value=feature_selection_1_insights)"
   ]
  },
  {
   "cell_type": "markdown",
   "metadata": {
    "id": "gS5-tS8_3ryn"
   },
   "source": [
    "## D.z Final Selection of Features"
   ]
  },
  {
   "cell_type": "markdown",
   "metadata": {},
   "source": [
    "i will drop the feature that contains players personal information such as name, team and player_id "
   ]
  },
  {
   "cell_type": "code",
   "execution_count": null,
   "metadata": {},
   "outputs": [],
   "source": [
    "#drop the feature that contains players personal information such as name, team and player_id, and year of study\n",
    "train = train.drop(columns=['team', 'conf', 'yr'])\n",
    "test = test.drop(columns=['team', 'conf',  'yr'])"
   ]
  },
  {
   "cell_type": "code",
   "execution_count": null,
   "metadata": {
    "id": "zYY4u2063ioF"
   },
   "outputs": [
    {
     "name": "stdout",
     "output_type": "stream",
     "text": [
      "Total number of features: 58\n"
     ]
    }
   ],
   "source": [
    "# <Student to fill this section>\n",
    "\n",
    "features = train.columns.tolist()\n",
    "features.remove(target)  # Remove the target variable from the features list\n",
    "# Display the features\n",
    "features_df = pd.DataFrame(features, columns=['Features'])\n",
    "print(\"Total number of features:\", len(features))"
   ]
  },
  {
   "cell_type": "code",
   "execution_count": null,
   "metadata": {
    "id": "-pxVH1r63vqu"
   },
   "outputs": [],
   "source": [
    "# <Student to fill this section>\n",
    "feature_selection_explanations = \"\"\"\n",
    "for the exprience 1, I will use all features available in the dataset. This approach allows us to identify potential relationships and patterns that may exist between the features and the target variable 'drafted'. By analyzing all features, we can gain a comprehensive understanding of the factors that contribute to a player's success in being drafted into the NBA.\n",
    "\"\"\""
   ]
  },
  {
   "cell_type": "code",
   "execution_count": null,
   "metadata": {
    "id": "rHluIUmR3iO3"
   },
   "outputs": [
    {
     "data": {
      "text/html": [
       "<p style=\"color:grey\">feature_selection_explanations</p><h3 font-size: 3em>\n",
       "for the exprience 1, I will use all features available in the dataset. This approach allows us to identify potential relationships and patterns that may exist between the features and the target variable 'drafted'. By analyzing all features, we can gain a comprehensive understanding of the factors that contribute to a player's success in being drafted into the NBA.\n",
       "</h3>"
      ],
      "text/plain": [
       "<IPython.core.display.HTML object>"
      ]
     },
     "metadata": {},
     "output_type": "display_data"
    }
   ],
   "source": [
    "# Do not modify this code\n",
    "print_tile(size=\"h3\", key='feature_selection_explanations', value=feature_selection_explanations)"
   ]
  },
  {
   "cell_type": "markdown",
   "metadata": {
    "id": "j-nNSpJK0Rgu"
   },
   "source": [
    "---\n",
    "## E. Data Preparation"
   ]
  },
  {
   "cell_type": "markdown",
   "metadata": {
    "id": "EDtRq1990rcW"
   },
   "source": [
    "### E.1 Data Transformation 'ht'"
   ]
  },
  {
   "cell_type": "code",
   "execution_count": null,
   "metadata": {
    "id": "AZN0u9DD0v5X"
   },
   "outputs": [],
   "source": [
    "# <Student to fill this section>\n",
    "month_map = {\n",
    "    'jan': 1, 'feb': 2, 'mar': 3, 'apr': 4, 'may': 5, 'jun': 6,\n",
    "    'jul': 7, 'aug': 8, 'sep': 9, 'oct': 10, 'nov': 11, 'dec': 12\n",
    "}\n",
    "\n",
    "def parse_height(s):\n",
    "    \"\"\"\n",
    "    Convert Excel‑mangled height strings (e.g. '2‑Jun', 'Jun‑02', '7‑00')\n",
    "    back into total inches. Returns np.nan if parsing fails.\n",
    "    \"\"\"\n",
    "    if pd.isna(s):\n",
    "        return np.nan\n",
    "    s = str(s).strip()\n",
    "    # Pattern 1: digits‑month (inches‑month → month = feet)\n",
    "    m = re.match(r\"^(\\d{1,2})[-/](\\D+)$\", s)\n",
    "    if m:\n",
    "        d, mth = m.groups()\n",
    "        key = mth[:3].lower()\n",
    "        if key in month_map:\n",
    "            return month_map[key] * 12 + int(d)\n",
    "    # Pattern 2: month‑digits (month‑inches)\n",
    "    m2 = re.match(r\"^(\\D+)[-/](\\d{1,2})$\", s)\n",
    "    if m2:\n",
    "        mth, d = m2.groups()\n",
    "        key = mth[:3].lower()\n",
    "        if key in month_map:\n",
    "            return month_map[key] * 12 + int(d)\n",
    "    # Direct numeric: plausible feet or total inches\n",
    "    if s.isdigit():\n",
    "        val = int(s)\n",
    "        if 4 <= val <= 8:       # likely feet\n",
    "            return val * 12\n",
    "        if 50 <= val <= 110:    # likely total inches\n",
    "            return val\n",
    "    return np.nan\n",
    "\n",
    "\n"
   ]
  },
  {
   "cell_type": "code",
   "execution_count": null,
   "metadata": {},
   "outputs": [
    {
     "name": "stdout",
     "output_type": "stream",
     "text": [
      "Train unparsed ht samples: ['-', '0']\n",
      "Train ht_inches summary:\n",
      " count    14681.000000\n",
      "mean        76.689326\n",
      "std          3.629523\n",
      "min         48.000000\n",
      "25%         74.000000\n",
      "50%         77.000000\n",
      "75%         79.000000\n",
      "max         90.000000\n",
      "Name: ht_inches, dtype: float64 \n",
      "\n",
      "Test unparsed ht samples: []\n",
      "Test ht_inches summary:\n",
      " count    1291.000000\n",
      "mean       76.990705\n",
      "std         3.407685\n",
      "min        67.000000\n",
      "25%        75.000000\n",
      "50%        77.000000\n",
      "75%        79.000000\n",
      "max        88.000000\n",
      "Name: ht_inches, dtype: float64\n"
     ]
    }
   ],
   "source": [
    "# Clean train set\n",
    "train['ht_inches'] = train['ht'].apply(parse_height)\n",
    "bad_train = train[train['ht'].notna() & train['ht_inches'].isna()]['ht'].drop_duplicates()\n",
    "print(\"Train unparsed ht samples:\", bad_train.tolist()[:10])\n",
    "train.drop(columns=['ht'], inplace=True)\n",
    "print(\"Train ht_inches summary:\\n\", train['ht_inches'].describe(), \"\\n\")\n",
    "\n",
    "# Clean test set\n",
    "test['ht_inches'] = test['ht'].apply(parse_height)\n",
    "bad_test = test[test['ht'].notna() & test['ht_inches'].isna()]['ht'].drop_duplicates()\n",
    "print(\"Test unparsed ht samples:\", bad_test.tolist()[:10])\n",
    "test.drop(columns=['ht'], inplace=True)\n",
    "print(\"Test ht_inches summary:\\n\", test['ht_inches'].describe())"
   ]
  },
  {
   "cell_type": "code",
   "execution_count": null,
   "metadata": {},
   "outputs": [
    {
     "data": {
      "text/plain": [
       "0     71.0\n",
       "1     74.0\n",
       "2     73.0\n",
       "3     73.0\n",
       "4     74.0\n",
       "5      NaN\n",
       "6      NaN\n",
       "7     73.0\n",
       "8     74.0\n",
       "9     79.0\n",
       "10    82.0\n",
       "11    80.0\n",
       "12    71.0\n",
       "13    68.0\n",
       "14    77.0\n",
       "15    76.0\n",
       "16    70.0\n",
       "17     NaN\n",
       "18    75.0\n",
       "19    81.0\n",
       "Name: ht_inches, dtype: float64"
      ]
     },
     "execution_count": 262,
     "metadata": {},
     "output_type": "execute_result"
    }
   ],
   "source": [
    "train['ht_inches'].head(20)"
   ]
  },
  {
   "cell_type": "code",
   "execution_count": null,
   "metadata": {
    "id": "eQGXvLtkFU9L"
   },
   "outputs": [],
   "source": [
    "# <Student to fill this section>\n",
    "data_cleaning_1_explanations = \"\"\"\n",
    "The height feature 'ht' in the dataset contains various formats, including '2-Jun', 'Jun-02', and '7-00'. To standardize this feature, I convert it into total inches using a custom parsing function. This function will handle different formats and return the height in inches, allowing for consistent analysis across the dataset.\n",
    "\"\"\""
   ]
  },
  {
   "cell_type": "code",
   "execution_count": null,
   "metadata": {
    "id": "MPuYme1uFU_4"
   },
   "outputs": [
    {
     "data": {
      "text/html": [
       "<p style=\"color:grey\">data_cleaning_1_explanations</p><h3 font-size: 3em>\n",
       "The height feature 'ht' in the dataset contains various formats, including '2-Jun', 'Jun-02', and '7-00'. To standardize this feature, I convert it into total inches using a custom parsing function. This function will handle different formats and return the height in inches, allowing for consistent analysis across the dataset.\n",
       "</h3>"
      ],
      "text/plain": [
       "<IPython.core.display.HTML object>"
      ]
     },
     "metadata": {},
     "output_type": "display_data"
    }
   ],
   "source": [
    "# Do not modify this code\n",
    "print_tile(size=\"h3\", key='data_cleaning_1_explanations', value=data_cleaning_1_explanations)"
   ]
  },
  {
   "cell_type": "code",
   "execution_count": null,
   "metadata": {},
   "outputs": [],
   "source": [
    "clean_test = test.copy()\n",
    "clean_train = train.copy()\n"
   ]
  },
  {
   "cell_type": "markdown",
   "metadata": {
    "id": "SxhDoAkw08Eb"
   },
   "source": [
    "### E.2 Data Transformation fix NA values"
   ]
  },
  {
   "cell_type": "code",
   "execution_count": null,
   "metadata": {
    "id": "OO5ITMDZ035_"
   },
   "outputs": [],
   "source": [
    "# <Student to fill this section>\n",
    "# Fill missing values in train and test sets using mode\n",
    "for col in clean_train.columns:\n",
    "    # 1. Skip target if present\n",
    "    if col == 'drafted':\n",
    "        continue\n",
    "\n",
    "    non_null = clean_train[col].dropna()\n",
    "    if non_null.empty:\n",
    "        \n",
    "        continue\n",
    "\n",
    "    mode_val = non_null.mode()[0]\n",
    "\n",
    "    clean_train[col].fillna(mode_val, inplace=True)\n",
    "    clean_test[col].fillna(mode_val, inplace=True)"
   ]
  },
  {
   "cell_type": "code",
   "execution_count": null,
   "metadata": {
    "id": "NoQ6IWoFFb1y"
   },
   "outputs": [],
   "source": [
    "# <Student to fill this section>\n",
    "data_cleaning_2_explanations = \"\"\"\n",
    "To ensure the integrity of the dataset, I fill missing values in both the training and test sets using the mode of each feature. This approach helps maintain the distribution of the data while addressing missing values, allowing for more robust analysis and modeling as well a prevent the data leakage.\n",
    "\"\"\""
   ]
  },
  {
   "cell_type": "code",
   "execution_count": null,
   "metadata": {
    "id": "n1NG6O-jFdOE"
   },
   "outputs": [
    {
     "data": {
      "text/html": [
       "<p style=\"color:grey\">data_cleaning_2_explanations</p><h3 font-size: 3em>\n",
       "To ensure the integrity of the dataset, I fill missing values in both the training and test sets using the mode of each feature. This approach helps maintain the distribution of the data while addressing missing values, allowing for more robust analysis and modeling as well a prevent the data leakage.\n",
       "</h3>"
      ],
      "text/plain": [
       "<IPython.core.display.HTML object>"
      ]
     },
     "metadata": {},
     "output_type": "display_data"
    }
   ],
   "source": [
    "# Do not modify this code\n",
    "print_tile(size=\"h3\", key='data_cleaning_2_explanations', value=data_cleaning_2_explanations)"
   ]
  },
  {
   "cell_type": "markdown",
   "metadata": {
    "id": "w8pDuIcQVxgf"
   },
   "source": [
    "### E.3 droping any duplicates\n",
    "\n",
    "> You can add more cells related to other issues in this section"
   ]
  },
  {
   "cell_type": "code",
   "execution_count": null,
   "metadata": {
    "id": "L7MGT74hVxm2"
   },
   "outputs": [
    {
     "name": "stdout",
     "output_type": "stream",
     "text": [
      "(1297, 58)\n",
      "(12312, 59)\n"
     ]
    }
   ],
   "source": [
    "clean_test.drop_duplicates(inplace=True)\n",
    "clean_train.drop_duplicates(inplace=True)\n",
    "\n",
    "print(clean_test.shape)\n",
    "print(clean_train.shape)"
   ]
  },
  {
   "cell_type": "code",
   "execution_count": null,
   "metadata": {
    "id": "_x2xJAZ7Vxpb"
   },
   "outputs": [],
   "source": [
    "# <Student to fill this section>\n",
    "data_cleaning_3_explanations = \"\"\" To ensure the quality of the dataset, I remove any duplicate rows from both the training and test sets. This step is crucial to prevent bias in the analysis and modeling processes, as duplicates can skew results and lead to inaccurate conclusions\"\"\""
   ]
  },
  {
   "cell_type": "markdown",
   "metadata": {
    "id": "S80O7okb0RIx"
   },
   "source": [
    "---\n",
    "## F. Feature Engineering"
   ]
  },
  {
   "cell_type": "markdown",
   "metadata": {},
   "source": [
    " To ensure the quality of modeling, I am not going to create any new feature for the first experiment and would consider to create new if necessary in next following experiment due to not enough insights to observe and evalute if i should create new features for better performance. "
   ]
  },
  {
   "cell_type": "markdown",
   "metadata": {
    "id": "N8MNBrC4Zgz6"
   },
   "source": [
    "---\n",
    "## G. Data Preparation for Modeling"
   ]
  },
  {
   "cell_type": "markdown",
   "metadata": {
    "id": "HbpTjW2GGkd8"
   },
   "source": [
    "### G.1 Split Datasets"
   ]
  },
  {
   "cell_type": "code",
   "execution_count": null,
   "metadata": {
    "id": "kcJ8_kh6Gnjl"
   },
   "outputs": [],
   "source": [
    "# <Student to fill this section>\n",
    "X = clean_train.drop(columns=['drafted','player_id'])\n",
    "y = clean_train['drafted']"
   ]
  },
  {
   "cell_type": "code",
   "execution_count": null,
   "metadata": {
    "id": "tyVDHxW4WBGP"
   },
   "outputs": [],
   "source": [
    "\n",
    "# Perform an 80/20 stratified split to create train and validation sets\n",
    "X_train, X_val, y_train, y_val = train_test_split(\n",
    "    X, y,\n",
    "    test_size=0.2,      # 20% for validation\n",
    "    stratify=y,         # preserve the drafted/not-drafted ratio\n",
    "    random_state=42     # reproducibility\n",
    ")\n",
    "\n"
   ]
  },
  {
   "cell_type": "code",
   "execution_count": null,
   "metadata": {},
   "outputs": [
    {
     "data": {
      "text/plain": [
       "((9849, 57), (2463, 57), (9849,), (2463,))"
      ]
     },
     "execution_count": 273,
     "metadata": {},
     "output_type": "execute_result"
    }
   ],
   "source": [
    "X_train.shape, X_val.shape, y_train.shape, y_val.shape"
   ]
  },
  {
   "cell_type": "code",
   "execution_count": null,
   "metadata": {},
   "outputs": [
    {
     "data": {
      "text/plain": [
       "(1297, 57)"
      ]
     },
     "execution_count": 274,
     "metadata": {},
     "output_type": "execute_result"
    }
   ],
   "source": [
    "X_test = clean_test.drop(columns='player_id').copy()\n",
    "X_test.shape"
   ]
  },
  {
   "cell_type": "code",
   "execution_count": null,
   "metadata": {
    "id": "dkvHE5g4F3IZ"
   },
   "outputs": [],
   "source": [
    "# <Student to fill this section>\n",
    "data_splitting_explanations = \"\"\"\n",
    "To ensure a robust evaluation of the model, I split the dataset into training and validation sets using an 80/20 stratified split. This approach preserves the distribution of the target variable 'drafted' in both sets, allowing for a fair assessment of the model's performance on unseen data.\n",
    "\"\"\""
   ]
  },
  {
   "cell_type": "code",
   "execution_count": null,
   "metadata": {
    "id": "vx4_g0pLF3Lg"
   },
   "outputs": [
    {
     "data": {
      "text/html": [
       "<p style=\"color:grey\">data_splitting_explanations</p><h3 font-size: 3em>\n",
       "To ensure a robust evaluation of the model, I split the dataset into training and validation sets using an 80/20 stratified split. This approach preserves the distribution of the target variable 'drafted' in both sets, allowing for a fair assessment of the model's performance on unseen data.\n",
       "</h3>"
      ],
      "text/plain": [
       "<IPython.core.display.HTML object>"
      ]
     },
     "metadata": {},
     "output_type": "display_data"
    }
   ],
   "source": [
    "# Do not modify this code\n",
    "print_tile(size=\"h3\", key='data_splitting_explanations', value=data_splitting_explanations)"
   ]
  },
  {
   "cell_type": "markdown",
   "metadata": {
    "id": "JHJ25iRRG1Gb"
   },
   "source": [
    "### G.2 Data Transformation -- Encoding the catergorial features."
   ]
  },
  {
   "cell_type": "code",
   "execution_count": null,
   "metadata": {
    "id": "Zy6_m4G2WFN5"
   },
   "outputs": [
    {
     "name": "stdout",
     "output_type": "stream",
     "text": [
      "Encoded shapes: (9849, 57) (2463, 57) (1297, 57)\n"
     ]
    }
   ],
   "source": [
    "\n",
    "\n",
    "categorical_cols = ['type']  # or whatever list you have\n",
    "\n",
    "# instantiate with sparse_output=False instead of sparse=False\n",
    "ohe = OneHotEncoder(handle_unknown='ignore', sparse_output=False)\n",
    "ohe.fit(X_train[categorical_cols])\n",
    "\n",
    "# transform\n",
    "X_train_ohe = ohe.transform(X_train[categorical_cols])\n",
    "X_val_ohe   = ohe.transform(X_val[categorical_cols])\n",
    "X_test_ohe  = ohe.transform(X_test[categorical_cols])\n",
    "\n",
    "# build DataFrames\n",
    "ohe_cols = ohe.get_feature_names_out(categorical_cols)\n",
    "df_train_ohe = pd.DataFrame(X_train_ohe, index=X_train.index, columns=ohe_cols)\n",
    "df_val_ohe   = pd.DataFrame(X_val_ohe,   index=X_val.index,   columns=ohe_cols)\n",
    "df_test_ohe  = pd.DataFrame(X_test_ohe,  index=X_test.index,  columns=ohe_cols)\n",
    "\n",
    "# combine with numerics\n",
    "numeric_cols = [c for c in X_train.columns if c not in categorical_cols]\n",
    "X_train = pd.concat([X_train[numeric_cols], df_train_ohe], axis=1)\n",
    "X_val= pd.concat([X_val[numeric_cols],   df_val_ohe],   axis=1)\n",
    "X_test= pd.concat([X_test[numeric_cols],  df_test_ohe],  axis=1)\n",
    "\n",
    "print(\"Encoded shapes:\", X_train.shape, X_val.shape, X_test.shape)\n"
   ]
  },
  {
   "cell_type": "code",
   "execution_count": null,
   "metadata": {
    "id": "XbWWDBacGn9n"
   },
   "outputs": [],
   "source": [
    "# <Student to fill this section>\n",
    "data_transformation_1_explanations = \"\"\"\n",
    "To prepare the dataset for modeling, I applied one-hot encoding to the categorical feature 'type'. This transformation converts categorical variables into a format that can be provided to machine learning algorithms to do a better job in prediction. The encoded features are then combined with the numerical features, resulting in a complete dataset ready for training and validation.\n",
    "\"\"\""
   ]
  },
  {
   "cell_type": "code",
   "execution_count": null,
   "metadata": {
    "id": "vepkbzldGn_8"
   },
   "outputs": [
    {
     "data": {
      "text/html": [
       "<p style=\"color:grey\">data_transformation_1_explanations</p><h3 font-size: 3em>\n",
       "To prepare the dataset for modeling, I applied one-hot encoding to the categorical feature 'type'. This transformation converts categorical variables into a format that can be provided to machine learning algorithms to do a better job in prediction. The encoded features are then combined with the numerical features, resulting in a complete dataset ready for training and validation.\n",
       "</h3>"
      ],
      "text/plain": [
       "<IPython.core.display.HTML object>"
      ]
     },
     "metadata": {},
     "output_type": "display_data"
    }
   ],
   "source": [
    "# Do not modify this code\n",
    "print_tile(size=\"h3\", key='data_transformation_1_explanations', value=data_transformation_1_explanations)"
   ]
  },
  {
   "cell_type": "markdown",
   "metadata": {
    "id": "3YG8_V1DG8YP"
   },
   "source": [
    "### G.3 Scaling the features"
   ]
  },
  {
   "cell_type": "code",
   "execution_count": null,
   "metadata": {
    "id": "jHtYOtv7HJbw"
   },
   "outputs": [],
   "source": [
    "##from sklearn.pipeline import Pipeline\n",
    "##from sklearn.preprocessing import StandardScaler\n",
    "##from sklearn.linear_model import LogisticRegression\n",
    "\n",
    "##pipe = Pipeline([\n",
    "    ##('scaler', StandardScaler()),\n",
    "    ##('clf',   LogisticRegression(class_weight='balanced'))\n",
    "##])\n",
    "##pipe.fit(X_train, y_train)\n"
   ]
  },
  {
   "cell_type": "code",
   "execution_count": null,
   "metadata": {
    "id": "TQR-kDICGoqa"
   },
   "outputs": [],
   "source": [
    "# <Student to fill this section>\n",
    "data_transformation_2_explanations = \"\"\"\n",
    "Raindom Forest Regressor does not require scaling of features, so I will not apply any additional transformations at this stage. The dataset is now ready for modeling with the Random Forest algorithm.I would save the scaled code for later use if needed.\n",
    "\"\"\""
   ]
  },
  {
   "cell_type": "code",
   "execution_count": null,
   "metadata": {
    "id": "bNWRpNiQGotZ"
   },
   "outputs": [
    {
     "data": {
      "text/html": [
       "<p style=\"color:grey\">data_transformation_2_explanations</p><h3 font-size: 3em>\n",
       "Raindom Forest Regressor does not require scaling of features, so I will not apply any additional transformations at this stage. The dataset is now ready for modeling with the Random Forest algorithm.I would save the scaled code for later use if needed.\n",
       "</h3>"
      ],
      "text/plain": [
       "<IPython.core.display.HTML object>"
      ]
     },
     "metadata": {},
     "output_type": "display_data"
    }
   ],
   "source": [
    "# Do not modify this code\n",
    "print_tile(size=\"h3\", key='data_transformation_2_explanations', value=data_transformation_2_explanations)"
   ]
  },
  {
   "cell_type": "markdown",
   "metadata": {
    "id": "qIj277YWHdFk"
   },
   "source": [
    "---\n",
    "## H. Save Datasets\n",
    "\n",
    "> Do not change this code"
   ]
  },
  {
   "cell_type": "code",
   "execution_count": null,
   "metadata": {
    "id": "uMNql0SzHhP2"
   },
   "outputs": [
    {
     "name": "stdout",
     "output_type": "stream",
     "text": [
      "All datasets saved successfully.\n"
     ]
    }
   ],
   "source": [
    "\n",
    "# Save training set\n",
    "import os\n",
    "\n",
    "# 1. Point this at your target folder\n",
    "base_dir = \"/Users/tifflin/Desktop/UTS/MS data science and innovation/3rd SEM/36120 Advanced ML/ASM1/datasets\"\n",
    "\n",
    "# 2. Ensure the folder exists\n",
    "os.makedirs(base_dir, exist_ok=True)\n",
    "\n",
    "# 3. Prepare a list of (DataFrame, filename) tuples\n",
    "to_save = [\n",
    "    (X_train, \"X_train.csv\"),\n",
    "    (y_train, \"y_train.csv\"),\n",
    "    (X_val,   \"X_val.csv\"),\n",
    "    (y_val,   \"y_val.csv\"),\n",
    "    (X_test,  \"X_test.csv\"),\n",
    "]\n",
    "\n",
    "# 4. Loop and save\n",
    "try:\n",
    "    for df, fname in to_save:\n",
    "        path = os.path.join(base_dir, fname)\n",
    "        df.to_csv(path, index=False)\n",
    "    print(\"All datasets saved successfully.\")\n",
    "except Exception as e:\n",
    "    print(\"Error saving datasets:\", e)\n"
   ]
  },
  {
   "cell_type": "markdown",
   "metadata": {
    "id": "RtLjr7niHpNZ"
   },
   "source": [
    "---\n",
    "## I. Selection of Performance Metrics\n",
    "\n",
    "> Provide some explanations on why you believe the performance metrics you chose is appropriate\n"
   ]
  },
  {
   "cell_type": "code",
   "execution_count": null,
   "metadata": {
    "id": "KV_pxLAiHxKW"
   },
   "outputs": [],
   "source": [
    "# <Student to fill this section>\n",
    "from sklearn.metrics import roc_auc_score, roc_curve, RocCurveDisplay"
   ]
  },
  {
   "cell_type": "code",
   "execution_count": null,
   "metadata": {
    "id": "kC949nluHR5s"
   },
   "outputs": [],
   "source": [
    "# <Student to fill this section>\n",
    "performance_metrics_explanations = \"\"\"\n",
    "The performance metric used for evaluating the model is the Area Under the Receiver Operating Characteristic Curve (AUROC). This metric is suitable for binary classification tasks, as it measures the model's ability to distinguish between the two classes (drafted and not drafted) across all possible classification thresholds. A higher AUROC value indicates better model performance, with a value of 1.0 representing perfect classification and 0.5 indicating random guessing.\n",
    "\"\"\""
   ]
  },
  {
   "cell_type": "code",
   "execution_count": null,
   "metadata": {
    "id": "wABRzU2sHR8j"
   },
   "outputs": [
    {
     "data": {
      "text/html": [
       "<p style=\"color:grey\">performance_metrics_explanations</p><h3 font-size: 3em>\n",
       "The performance metric used for evaluating the model is the Area Under the Receiver Operating Characteristic Curve (AUROC). This metric is suitable for binary classification tasks, as it measures the model's ability to distinguish between the two classes (drafted and not drafted) across all possible classification thresholds. A higher AUROC value indicates better model performance, with a value of 1.0 representing perfect classification and 0.5 indicating random guessing.\n",
       "</h3>"
      ],
      "text/plain": [
       "<IPython.core.display.HTML object>"
      ]
     },
     "metadata": {},
     "output_type": "display_data"
    }
   ],
   "source": [
    "# Do not modify this code\n",
    "print_tile(size=\"h3\", key='performance_metrics_explanations', value=performance_metrics_explanations)"
   ]
  },
  {
   "cell_type": "markdown",
   "metadata": {
    "id": "ZpxjwSDYIJy6"
   },
   "source": [
    "## J. Train Machine Learning Model"
   ]
  },
  {
   "cell_type": "markdown",
   "metadata": {
    "id": "_XBy7-9PIVcU"
   },
   "source": [
    "### J.1 Import Algorithm\n",
    "\n",
    "> Provide some explanations on why you believe this algorithm is a good fit\n"
   ]
  },
  {
   "cell_type": "code",
   "execution_count": null,
   "metadata": {
    "id": "diUB08xMIOuS"
   },
   "outputs": [],
   "source": [
    "# <Student to fill this section>\n",
    "from sklearn.model_selection import RandomizedSearchCV, StratifiedKFold\n",
    "from sklearn.ensemble import RandomForestClassifier\n",
    "from sklearn.pipeline import Pipeline\n"
   ]
  },
  {
   "cell_type": "code",
   "execution_count": null,
   "metadata": {
    "id": "GIWOpv6CGUTE"
   },
   "outputs": [],
   "source": [
    "# <Student to fill this section>\n",
    "algorithm_selection_explanations = \"\"\"\n",
    "I have chosen the Random Forest Classifier for this task due to its robustness and ability to handle both numerical and categorical features effectively. It is less prone to overfitting compared to other algorithms, especially in the presence of class imbalance, which is a concern in our dataset. Additionally, it provides feature importance scores, allowing us to understand the contribution of each feature to the model's predictions.\n",
    "\"\"\""
   ]
  },
  {
   "cell_type": "code",
   "execution_count": null,
   "metadata": {
    "id": "N4yogQ9aGUVe"
   },
   "outputs": [
    {
     "data": {
      "text/html": [
       "<p style=\"color:grey\">algorithm_selection_explanations</p><h3 font-size: 3em>\n",
       "I have chosen the Random Forest Classifier for this task due to its robustness and ability to handle both numerical and categorical features effectively. It is less prone to overfitting compared to other algorithms, especially in the presence of class imbalance, which is a concern in our dataset. Additionally, it provides feature importance scores, allowing us to understand the contribution of each feature to the model's predictions.\n",
       "</h3>"
      ],
      "text/plain": [
       "<IPython.core.display.HTML object>"
      ]
     },
     "metadata": {},
     "output_type": "display_data"
    }
   ],
   "source": [
    "# Do not modify this code\n",
    "print_tile(size=\"h3\", key='algorithm_selection_explanations', value=algorithm_selection_explanations)"
   ]
  },
  {
   "cell_type": "markdown",
   "metadata": {
    "id": "0ks_MmM2mCfm"
   },
   "source": [
    "### J.2 Set Hyperparameters\n",
    "\n",
    "> Provide some explanations on why you believe this algorithm is a good fit\n"
   ]
  },
  {
   "cell_type": "code",
   "execution_count": null,
   "metadata": {},
   "outputs": [
    {
     "name": "stdout",
     "output_type": "stream",
     "text": [
      "Fitting 5 folds for each of 25 candidates, totalling 125 fits\n",
      "[CV] END max_depth=20, max_features=sqrt, min_samples_leaf=2, min_samples_split=10, n_estimators=500; total time=   3.0s\n",
      "[CV] END max_depth=20, max_features=sqrt, min_samples_leaf=2, min_samples_split=10, n_estimators=500; total time=   3.2s\n",
      "[CV] END max_depth=10, max_features=0.3, min_samples_leaf=2, min_samples_split=5, n_estimators=500; total time=   5.3s\n",
      "[CV] END max_depth=10, max_features=0.3, min_samples_leaf=2, min_samples_split=5, n_estimators=500; total time=   5.4s\n",
      "[CV] END max_depth=10, max_features=0.3, min_samples_leaf=2, min_samples_split=5, n_estimators=500; total time=   5.8s\n",
      "[CV] END max_depth=10, max_features=0.3, min_samples_leaf=2, min_samples_split=5, n_estimators=500; total time=   5.8s\n",
      "[CV] END max_depth=10, max_features=0.3, min_samples_leaf=2, min_samples_split=5, n_estimators=500; total time=   5.9s\n",
      "[CV] END max_depth=20, max_features=sqrt, min_samples_leaf=2, min_samples_split=10, n_estimators=500; total time=   2.9s\n",
      "[CV] END max_depth=20, max_features=sqrt, min_samples_leaf=2, min_samples_split=10, n_estimators=500; total time=   3.1s\n",
      "[CV] END max_depth=None, max_features=0.5, min_samples_leaf=1, min_samples_split=10, n_estimators=500; total time=   8.4s\n",
      "[CV] END max_depth=30, max_features=sqrt, min_samples_leaf=4, min_samples_split=5, n_estimators=500; total time=   3.1s\n",
      "[CV] END max_depth=None, max_features=0.5, min_samples_leaf=1, min_samples_split=10, n_estimators=500; total time=   8.6s\n",
      "[CV] END max_depth=20, max_features=sqrt, min_samples_leaf=2, min_samples_split=10, n_estimators=500; total time=   3.5s\n",
      "[CV] END max_depth=30, max_features=sqrt, min_samples_leaf=4, min_samples_split=5, n_estimators=500; total time=   2.9s\n",
      "[CV] END max_depth=30, max_features=sqrt, min_samples_leaf=4, min_samples_split=5, n_estimators=500; total time=   3.0s\n",
      "[CV] END max_depth=30, max_features=sqrt, min_samples_leaf=4, min_samples_split=5, n_estimators=500; total time=   3.1s\n",
      "[CV] END max_depth=None, max_features=0.5, min_samples_leaf=1, min_samples_split=10, n_estimators=500; total time=   8.9s\n",
      "[CV] END max_depth=None, max_features=0.5, min_samples_leaf=1, min_samples_split=10, n_estimators=500; total time=   9.1s\n",
      "[CV] END max_depth=30, max_features=sqrt, min_samples_leaf=4, min_samples_split=5, n_estimators=500; total time=   3.3s\n",
      "[CV] END max_depth=None, max_features=0.5, min_samples_leaf=1, min_samples_split=10, n_estimators=500; total time=   9.3s\n",
      "[CV] END max_depth=20, max_features=0.5, min_samples_leaf=1, min_samples_split=5, n_estimators=100; total time=   1.3s\n",
      "[CV] END max_depth=20, max_features=0.5, min_samples_leaf=1, min_samples_split=5, n_estimators=100; total time=   1.3s\n",
      "[CV] END max_depth=20, max_features=0.5, min_samples_leaf=1, min_samples_split=5, n_estimators=100; total time=   1.5s\n",
      "[CV] END max_depth=20, max_features=0.5, min_samples_leaf=1, min_samples_split=5, n_estimators=100; total time=   1.7s\n",
      "[CV] END max_depth=None, max_features=auto, min_samples_leaf=4, min_samples_split=5, n_estimators=200; total time=   0.0s\n",
      "[CV] END max_depth=None, max_features=auto, min_samples_leaf=4, min_samples_split=5, n_estimators=200; total time=   0.0s\n",
      "[CV] END max_depth=None, max_features=auto, min_samples_leaf=4, min_samples_split=5, n_estimators=200; total time=   0.0s\n",
      "[CV] END max_depth=None, max_features=auto, min_samples_leaf=4, min_samples_split=5, n_estimators=200; total time=   0.0s\n",
      "[CV] END max_depth=None, max_features=auto, min_samples_leaf=4, min_samples_split=5, n_estimators=200; total time=   0.0s\n",
      "[CV] END max_depth=20, max_features=0.5, min_samples_leaf=1, min_samples_split=5, n_estimators=100; total time=   1.6s\n",
      "[CV] END max_depth=20, max_features=0.5, min_samples_leaf=1, min_samples_split=5, n_estimators=500; total time=   8.9s\n",
      "[CV] END max_depth=20, max_features=0.5, min_samples_leaf=1, min_samples_split=5, n_estimators=500; total time=   7.9s\n",
      "[CV] END max_depth=20, max_features=0.5, min_samples_leaf=1, min_samples_split=5, n_estimators=500; total time=   7.9s\n",
      "[CV] END max_depth=None, max_features=0.3, min_samples_leaf=1, min_samples_split=10, n_estimators=500; total time=   6.1s\n",
      "[CV] END max_depth=20, max_features=0.5, min_samples_leaf=1, min_samples_split=5, n_estimators=500; total time=   8.4s\n",
      "[CV] END max_depth=20, max_features=0.5, min_samples_leaf=1, min_samples_split=5, n_estimators=500; total time=   8.5s\n",
      "[CV] END max_depth=None, max_features=0.3, min_samples_leaf=1, min_samples_split=10, n_estimators=500; total time=   6.9s\n",
      "[CV] END max_depth=20, max_features=0.3, min_samples_leaf=2, min_samples_split=10, n_estimators=100; total time=   1.1s\n",
      "[CV] END max_depth=20, max_features=0.3, min_samples_leaf=2, min_samples_split=10, n_estimators=100; total time=   1.0s\n",
      "[CV] END max_depth=20, max_features=0.3, min_samples_leaf=2, min_samples_split=10, n_estimators=100; total time=   1.1s\n",
      "[CV] END max_depth=20, max_features=0.3, min_samples_leaf=2, min_samples_split=10, n_estimators=100; total time=   1.0s\n",
      "[CV] END max_depth=20, max_features=0.3, min_samples_leaf=2, min_samples_split=10, n_estimators=100; total time=   1.2s\n",
      "[CV] END max_depth=None, max_features=0.3, min_samples_leaf=1, min_samples_split=10, n_estimators=500; total time=   5.7s\n",
      "[CV] END max_depth=30, max_features=sqrt, min_samples_leaf=1, min_samples_split=2, n_estimators=500; total time=   3.1s\n",
      "[CV] END max_depth=30, max_features=auto, min_samples_leaf=2, min_samples_split=2, n_estimators=1000; total time=   0.0s\n",
      "[CV] END max_depth=30, max_features=auto, min_samples_leaf=2, min_samples_split=2, n_estimators=1000; total time=   0.0s\n",
      "[CV] END max_depth=30, max_features=auto, min_samples_leaf=2, min_samples_split=2, n_estimators=1000; total time=   0.0s\n",
      "[CV] END max_depth=30, max_features=auto, min_samples_leaf=2, min_samples_split=2, n_estimators=1000; total time=   0.0s\n",
      "[CV] END max_depth=30, max_features=auto, min_samples_leaf=2, min_samples_split=2, n_estimators=1000; total time=   0.0s\n",
      "[CV] END max_depth=30, max_features=sqrt, min_samples_leaf=1, min_samples_split=2, n_estimators=500; total time=   3.3s\n",
      "[CV] END max_depth=30, max_features=sqrt, min_samples_leaf=1, min_samples_split=2, n_estimators=500; total time=   2.9s\n",
      "[CV] END max_depth=30, max_features=sqrt, min_samples_leaf=1, min_samples_split=2, n_estimators=500; total time=   3.0s\n",
      "[CV] END max_depth=None, max_features=0.3, min_samples_leaf=1, min_samples_split=10, n_estimators=500; total time=   6.4s\n",
      "[CV] END max_depth=None, max_features=0.3, min_samples_leaf=1, min_samples_split=10, n_estimators=500; total time=   6.6s\n",
      "[CV] END max_depth=20, max_features=sqrt, min_samples_leaf=4, min_samples_split=10, n_estimators=100; total time=   0.5s\n",
      "[CV] END max_depth=20, max_features=sqrt, min_samples_leaf=4, min_samples_split=10, n_estimators=100; total time=   0.5s\n",
      "[CV] END max_depth=30, max_features=sqrt, min_samples_leaf=1, min_samples_split=2, n_estimators=500; total time=   3.2s\n",
      "[CV] END max_depth=10, max_features=0.5, min_samples_leaf=1, min_samples_split=5, n_estimators=1000; total time=  14.9s\n",
      "[CV] END max_depth=10, max_features=0.5, min_samples_leaf=4, min_samples_split=5, n_estimators=200; total time=   3.0s\n",
      "[CV] END max_depth=10, max_features=0.5, min_samples_leaf=4, min_samples_split=5, n_estimators=200; total time=   3.0s\n",
      "[CV] END max_depth=20, max_features=sqrt, min_samples_leaf=4, min_samples_split=10, n_estimators=100; total time=   0.6s\n",
      "[CV] END max_depth=20, max_features=sqrt, min_samples_leaf=4, min_samples_split=10, n_estimators=100; total time=   0.4s\n",
      "[CV] END max_depth=10, max_features=0.5, min_samples_leaf=4, min_samples_split=5, n_estimators=200; total time=   3.4s\n",
      "[CV] END max_depth=20, max_features=sqrt, min_samples_leaf=4, min_samples_split=10, n_estimators=100; total time=   0.5s\n",
      "[CV] END max_depth=10, max_features=auto, min_samples_leaf=2, min_samples_split=10, n_estimators=1000; total time=   0.0s\n",
      "[CV] END max_depth=10, max_features=auto, min_samples_leaf=2, min_samples_split=10, n_estimators=1000; total time=   0.0s\n",
      "[CV] END max_depth=10, max_features=auto, min_samples_leaf=2, min_samples_split=10, n_estimators=1000; total time=   0.0s\n",
      "[CV] END max_depth=10, max_features=auto, min_samples_leaf=2, min_samples_split=10, n_estimators=1000; total time=   0.0s\n",
      "[CV] END max_depth=10, max_features=auto, min_samples_leaf=2, min_samples_split=10, n_estimators=1000; total time=   0.0s\n",
      "[CV] END max_depth=10, max_features=0.5, min_samples_leaf=4, min_samples_split=5, n_estimators=200; total time=   3.2s\n",
      "[CV] END max_depth=10, max_features=0.5, min_samples_leaf=4, min_samples_split=5, n_estimators=200; total time=   2.9s\n",
      "[CV] END max_depth=10, max_features=0.5, min_samples_leaf=1, min_samples_split=5, n_estimators=1000; total time=  15.8s\n",
      "[CV] END max_depth=10, max_features=0.5, min_samples_leaf=1, min_samples_split=5, n_estimators=1000; total time=  16.8s\n",
      "[CV] END max_depth=10, max_features=0.5, min_samples_leaf=1, min_samples_split=5, n_estimators=1000; total time=  16.3s\n",
      "[CV] END max_depth=10, max_features=0.5, min_samples_leaf=1, min_samples_split=5, n_estimators=1000; total time=  16.6s\n",
      "[CV] END max_depth=10, max_features=0.5, min_samples_leaf=2, min_samples_split=2, n_estimators=200; total time=   3.4s\n",
      "[CV] END max_depth=10, max_features=0.5, min_samples_leaf=2, min_samples_split=2, n_estimators=200; total time=   2.9s\n",
      "[CV] END max_depth=10, max_features=0.5, min_samples_leaf=2, min_samples_split=2, n_estimators=200; total time=   3.1s\n",
      "[CV] END max_depth=10, max_features=0.5, min_samples_leaf=2, min_samples_split=2, n_estimators=200; total time=   3.1s\n",
      "[CV] END max_depth=10, max_features=0.5, min_samples_leaf=2, min_samples_split=2, n_estimators=200; total time=   3.1s\n",
      "[CV] END max_depth=30, max_features=0.3, min_samples_leaf=4, min_samples_split=5, n_estimators=500; total time=   5.4s\n",
      "[CV] END max_depth=30, max_features=0.3, min_samples_leaf=4, min_samples_split=5, n_estimators=500; total time=   5.5s\n",
      "[CV] END max_depth=30, max_features=0.3, min_samples_leaf=2, min_samples_split=10, n_estimators=100; total time=   1.2s\n",
      "[CV] END max_depth=30, max_features=0.3, min_samples_leaf=4, min_samples_split=5, n_estimators=500; total time=   5.8s\n",
      "[CV] END max_depth=10, max_features=auto, min_samples_leaf=1, min_samples_split=10, n_estimators=200; total time=   0.0s\n",
      "[CV] END max_depth=10, max_features=auto, min_samples_leaf=1, min_samples_split=10, n_estimators=200; total time=   0.0s\n",
      "[CV] END max_depth=30, max_features=0.3, min_samples_leaf=4, min_samples_split=5, n_estimators=500; total time=   5.7s\n",
      "[CV] END max_depth=10, max_features=auto, min_samples_leaf=1, min_samples_split=10, n_estimators=200; total time=   0.0s\n",
      "[CV] END max_depth=10, max_features=auto, min_samples_leaf=1, min_samples_split=10, n_estimators=200; total time=   0.0s\n",
      "[CV] END max_depth=10, max_features=auto, min_samples_leaf=1, min_samples_split=10, n_estimators=200; total time=   0.0s\n",
      "[CV] END max_depth=30, max_features=0.3, min_samples_leaf=2, min_samples_split=10, n_estimators=100; total time=   1.1s\n",
      "[CV] END max_depth=30, max_features=0.3, min_samples_leaf=4, min_samples_split=5, n_estimators=500; total time=   5.9s\n",
      "[CV] END max_depth=30, max_features=0.3, min_samples_leaf=2, min_samples_split=10, n_estimators=100; total time=   1.1s\n",
      "[CV] END max_depth=30, max_features=0.3, min_samples_leaf=2, min_samples_split=10, n_estimators=100; total time=   1.1s\n",
      "[CV] END max_depth=30, max_features=0.3, min_samples_leaf=2, min_samples_split=10, n_estimators=100; total time=   1.0s\n",
      "[CV] END max_depth=None, max_features=sqrt, min_samples_leaf=2, min_samples_split=5, n_estimators=1000; total time=   6.4s\n",
      "[CV] END max_depth=None, max_features=sqrt, min_samples_leaf=2, min_samples_split=5, n_estimators=1000; total time=   6.3s\n",
      "[CV] END max_depth=30, max_features=0.5, min_samples_leaf=4, min_samples_split=2, n_estimators=200; total time=   3.1s\n",
      "[CV] END max_depth=30, max_features=0.5, min_samples_leaf=4, min_samples_split=2, n_estimators=200; total time=   3.2s\n",
      "[CV] END max_depth=30, max_features=0.5, min_samples_leaf=4, min_samples_split=2, n_estimators=200; total time=   3.4s\n",
      "[CV] END max_depth=None, max_features=sqrt, min_samples_leaf=2, min_samples_split=5, n_estimators=1000; total time=   5.8s\n",
      "[CV] END max_depth=30, max_features=0.5, min_samples_leaf=4, min_samples_split=2, n_estimators=200; total time=   3.6s\n",
      "[CV] END max_depth=30, max_features=0.5, min_samples_leaf=4, min_samples_split=2, n_estimators=200; total time=   3.5s\n",
      "[CV] END max_depth=None, max_features=sqrt, min_samples_leaf=2, min_samples_split=5, n_estimators=1000; total time=   6.2s\n",
      "[CV] END max_depth=None, max_features=sqrt, min_samples_leaf=2, min_samples_split=5, n_estimators=1000; total time=   6.3s\n",
      "[CV] END max_depth=10, max_features=0.3, min_samples_leaf=2, min_samples_split=2, n_estimators=100; total time=   1.1s\n",
      "[CV] END max_depth=10, max_features=0.3, min_samples_leaf=2, min_samples_split=2, n_estimators=100; total time=   1.2s\n",
      "[CV] END max_depth=10, max_features=0.3, min_samples_leaf=2, min_samples_split=2, n_estimators=100; total time=   0.8s\n",
      "[CV] END max_depth=20, max_features=0.5, min_samples_leaf=1, min_samples_split=10, n_estimators=200; total time=   3.3s\n",
      "[CV] END max_depth=20, max_features=0.5, min_samples_leaf=1, min_samples_split=10, n_estimators=200; total time=   3.4s\n",
      "[CV] END max_depth=None, max_features=0.3, min_samples_leaf=2, min_samples_split=5, n_estimators=500; total time=   6.2s\n",
      "[CV] END max_depth=10, max_features=0.3, min_samples_leaf=2, min_samples_split=2, n_estimators=100; total time=   1.0s\n",
      "[CV] END max_depth=None, max_features=0.3, min_samples_leaf=2, min_samples_split=5, n_estimators=500; total time=   6.1s\n",
      "[CV] END max_depth=20, max_features=0.5, min_samples_leaf=1, min_samples_split=10, n_estimators=200; total time=   3.5s\n",
      "[CV] END max_depth=10, max_features=0.3, min_samples_leaf=2, min_samples_split=2, n_estimators=100; total time=   1.0s\n",
      "[CV] END max_depth=20, max_features=0.5, min_samples_leaf=1, min_samples_split=10, n_estimators=200; total time=   3.4s\n",
      "[CV] END max_depth=20, max_features=0.5, min_samples_leaf=1, min_samples_split=10, n_estimators=200; total time=   3.5s\n",
      "[CV] END max_depth=None, max_features=0.3, min_samples_leaf=2, min_samples_split=5, n_estimators=500; total time=   5.2s\n",
      "[CV] END max_depth=None, max_features=0.3, min_samples_leaf=2, min_samples_split=5, n_estimators=500; total time=   5.6s\n",
      "[CV] END max_depth=None, max_features=0.3, min_samples_leaf=2, min_samples_split=5, n_estimators=500; total time=   5.4s\n",
      "[CV] END max_depth=30, max_features=0.3, min_samples_leaf=1, min_samples_split=10, n_estimators=500; total time=   3.3s\n",
      "[CV] END max_depth=30, max_features=0.3, min_samples_leaf=1, min_samples_split=10, n_estimators=500; total time=   3.0s\n",
      "[CV] END max_depth=30, max_features=0.3, min_samples_leaf=1, min_samples_split=10, n_estimators=500; total time=   3.5s\n",
      "[CV] END max_depth=30, max_features=0.3, min_samples_leaf=1, min_samples_split=10, n_estimators=500; total time=   3.0s\n",
      "[CV] END max_depth=30, max_features=0.3, min_samples_leaf=1, min_samples_split=10, n_estimators=500; total time=   3.1s\n",
      "Best CV AUROC on Train:    0.9909\n",
      "Best parameters:  {'n_estimators': 500, 'min_samples_split': 5, 'min_samples_leaf': 2, 'max_features': 0.3, 'max_depth': None}\n"
     ]
    }
   ],
   "source": [
    "#  Define the search space\n",
    "param_dist = {\n",
    "    'n_estimators':      [100, 200, 500, 1000],\n",
    "    'max_depth':         [None, 10, 20, 30],\n",
    "    'min_samples_split': [2, 5, 10],\n",
    "    'min_samples_leaf':  [1, 2, 4],\n",
    "    'max_features':      ['auto', 'sqrt', 0.3, 0.5]\n",
    "}\n",
    "\n",
    "#  Instantiate the base estimator\n",
    "rf = RandomForestClassifier(\n",
    "    class_weight='balanced',\n",
    "    random_state=42,\n",
    "    n_jobs=-1\n",
    ")\n",
    "\n",
    "#  Stratified 5-fold CV\n",
    "cv = StratifiedKFold(n_splits=5, shuffle=True, random_state=42)\n",
    "\n",
    "# Randomized search \n",
    "search = RandomizedSearchCV(\n",
    "    estimator=rf,\n",
    "    param_distributions=param_dist,\n",
    "    n_iter=25,              \n",
    "    scoring='roc_auc',\n",
    "    cv=cv,\n",
    "    verbose=2,\n",
    "    random_state=42,\n",
    "    n_jobs=-1\n",
    ")\n",
    "\n",
    "# Run the search on TRAIN split\n",
    "search.fit(X_train, y_train)\n",
    "\n",
    "# Report best results\n",
    "print(\"Best CV AUROC on Train:   \", round(search.best_score_, 4))\n",
    "print(\"Best parameters: \", search.best_params_)\n"
   ]
  },
  {
   "cell_type": "code",
   "execution_count": null,
   "metadata": {
    "id": "crG_Bm72HfL-"
   },
   "outputs": [],
   "source": [
    "# <Student to fill this section>\n",
    "hyperparameters_selection_explanations = \"\"\"\n",
    "I have performed hyperparameter tuning using RandomizedSearchCV to optimize the performance of the Random Forest Classifier. The search space includes various parameters such as the number of estimators, maximum depth, minimum samples for splitting and leaf nodes, and maximum features. The best combination of hyperparameters is selected based on the highest AUROC score from cross-validation, ensuring that the model generalizes well to unseen data.Additonaly, I have set the class weight to 'balanced' to address the class imbalance issue in the dataset.\n",
    "\"\"\""
   ]
  },
  {
   "cell_type": "code",
   "execution_count": null,
   "metadata": {
    "id": "k0uqlRCVHfQI"
   },
   "outputs": [
    {
     "data": {
      "text/html": [
       "<p style=\"color:grey\">hyperparameters_selection_explanations</p><h3 font-size: 3em>\n",
       "I have performed hyperparameter tuning using RandomizedSearchCV to optimize the performance of the Random Forest Classifier. The search space includes various parameters such as the number of estimators, maximum depth, minimum samples for splitting and leaf nodes, and maximum features. The best combination of hyperparameters is selected based on the highest AUROC score from cross-validation, ensuring that the model generalizes well to unseen data.Additonaly, I have set the class weight to 'balanced' to address the class imbalance issue in the dataset.\n",
       "</h3>"
      ],
      "text/plain": [
       "<IPython.core.display.HTML object>"
      ]
     },
     "metadata": {},
     "output_type": "display_data"
    }
   ],
   "source": [
    "# Do not modify this code\n",
    "print_tile(size=\"h3\", key='hyperparameters_selection_explanations', value=hyperparameters_selection_explanations)"
   ]
  },
  {
   "cell_type": "markdown",
   "metadata": {
    "id": "q43YtqpdeniY"
   },
   "source": [
    "### J.4 Model Technical Performance\n",
    "\n",
    "> Provide some explanations on model performance\n"
   ]
  },
  {
   "cell_type": "code",
   "execution_count": null,
   "metadata": {},
   "outputs": [
    {
     "name": "stdout",
     "output_type": "stream",
     "text": [
      "Validation AUROC: 0.9953\n"
     ]
    }
   ],
   "source": [
    "val_auc = search.best_estimator_.score(X_val, y_val)  \n",
    "\n",
    "# for AUROC on validation:\n",
    "from sklearn.metrics import roc_auc_score\n",
    "val_probs = search.best_estimator_.predict_proba(X_val)[:,1]\n",
    "print(\"Validation AUROC:\", round(roc_auc_score(y_val, val_probs), 4))"
   ]
  },
  {
   "cell_type": "markdown",
   "metadata": {},
   "source": [
    "Applying the algo to the Test dataset and save to submission"
   ]
  },
  {
   "cell_type": "code",
   "execution_count": null,
   "metadata": {},
   "outputs": [],
   "source": [
    "best_rf = search.best_estimator_\n",
    "best_rf.fit(\n",
    "    pd.concat([X_train, X_val], axis=0),\n",
    "    pd.concat([y_train, y_val], axis=0)\n",
    ")\n",
    "\n",
    "#  Predict probabilities on X_test\n",
    "test_probs = best_rf.predict_proba(X_test)[:, 1]\n",
    "\n",
    "\n",
    "submission = pd.DataFrame({\n",
    "    'player_id': clean_test['player_id'],   # or whatever your ID column is\n",
    "    'drafted':   test_probs\n",
    "})\n",
    "submission.to_csv('submission.csv', index=False)"
   ]
  },
  {
   "cell_type": "code",
   "execution_count": null,
   "metadata": {
    "id": "_YbQldshHk_3"
   },
   "outputs": [],
   "source": [
    "# <Student to fill this section>\n",
    "model_performance_explanations = \"\"\"\n",
    "The model achieved an AUROC score of 0.99 on the validation set, indicating a strong ability to distinguish between drafted and non-drafted players. This performance suggests that the Random Forest Classifier, with the optimized hyperparameters, is effective in predicting player draft status based on their college performance metrics.\n",
    "\"\"\""
   ]
  },
  {
   "cell_type": "code",
   "execution_count": null,
   "metadata": {
    "id": "-MkLnLzVHlDO"
   },
   "outputs": [
    {
     "data": {
      "text/html": [
       "<p style=\"color:grey\">model_performance_explanations</p><h3 font-size: 3em>\n",
       "The model achieved an AUROC score of 0.99 on the validation set, indicating a strong ability to distinguish between drafted and non-drafted players. This performance suggests that the Random Forest Classifier, with the optimized hyperparameters, is effective in predicting player draft status based on their college performance metrics.\n",
       "</h3>"
      ],
      "text/plain": [
       "<IPython.core.display.HTML object>"
      ]
     },
     "metadata": {},
     "output_type": "display_data"
    }
   ],
   "source": [
    "# Do not modify this code\n",
    "print_tile(size=\"h3\", key='model_performance_explanations', value=model_performance_explanations)"
   ]
  },
  {
   "cell_type": "markdown",
   "metadata": {
    "id": "W1HgZMPcmtu7"
   },
   "source": [
    "### J.5 Business Impact from Current Model Performance\n",
    "\n",
    "> Provide some analysis on the model impacts from the business point of view\n"
   ]
  },
  {
   "cell_type": "code",
   "execution_count": null,
   "metadata": {
    "id": "XGq2RWyqmuKM"
   },
   "outputs": [
    {
     "name": "stdout",
     "output_type": "stream",
     "text": [
      "    Invites  TP   FP  NetBenefit\n",
      "0        50  19   31   9000000.0\n",
      "1       100  19   81   8500000.0\n",
      "2       150  19  131   8000000.0\n",
      "3       200  19  181   7500000.0\n",
      "4       250  19  231   7000000.0\n",
      "5       300  19  281   6500000.0\n",
      "6       350  19  331   6000000.0\n",
      "7       400  19  381   5500000.0\n",
      "8       450  19  431   5000000.0\n",
      "9       500  19  481   4500000.0\n",
      "10      550  19  531   4000000.0\n"
     ]
    },
    {
     "data": {
      "image/png": "[encoded data removed]",
      "text/plain": [
       "<Figure size 800x400 with 1 Axes>"
      ]
     },
     "metadata": {},
     "output_type": "display_data"
    }
   ],
   "source": [
    "\n",
    "\n",
    "\n",
    "#  Get draft probabilities\n",
    "probs = best_rf.predict_proba(X_val)[:, 1]\n",
    "y_true = y_val.values\n",
    "\n",
    "#  Define business parameters\n",
    "invite_cost   = 10_000     # $10k per invited prospect\n",
    "value_per_draft = 500_000  # $500k benefit per actual draftee\n",
    "\n",
    "# Simulate for top-N invites\n",
    "invite_sizes = np.arange(50, 551, 50)\n",
    "records = []\n",
    "sorted_idx = np.argsort(probs)[::-1]\n",
    "\n",
    "for n in invite_sizes:\n",
    "    idx = sorted_idx[:n]\n",
    "    tp = y_true[idx].sum()        # true draftees invited\n",
    "    fp = n - tp                   # false invites\n",
    "    net = tp*value_per_draft - n*invite_cost\n",
    "    records.append((n, int(tp), int(fp), net))\n",
    "\n",
    "#  Build results table\n",
    "df = pd.DataFrame(records, columns=['Invites','TP','FP','NetBenefit'])\n",
    "print(df)\n",
    "\n",
    "#  Plot net benefit curve\n",
    "plt.figure(figsize=(8,4))\n",
    "plt.plot(df['Invites'], df['NetBenefit']/1e6, marker='o')\n",
    "plt.title('Net Benefit vs Number of Invitations')\n",
    "plt.xlabel('Number of Top-N Invites')\n",
    "plt.ylabel('Net Benefit (million $)')\n",
    "plt.grid(True)\n",
    "plt.tight_layout()\n",
    "plt.show()\n"
   ]
  },
  {
   "cell_type": "code",
   "execution_count": null,
   "metadata": {
    "id": "7bcCHiP-Hozj"
   },
   "outputs": [],
   "source": [
    "# <Student to fill this section>\n",
    "business_impacts_explanations = \"\"\"\n",
    "The model's predictions can significantly impact the NBA draft process by enabling teams to identify and invite the most promising college players for trials. By analyzing the net benefit of inviting top-N prospects, teams can optimize their draft strategy, potentially leading to higher success rates in selecting players who will contribute positively to the team. This data-driven approach not only saves costs associated with unnecessary invites but also maximizes the value derived from each drafted player.\n",
    "\"\"\""
   ]
  },
  {
   "cell_type": "code",
   "execution_count": null,
   "metadata": {
    "id": "RQ3lJGAnHo3O"
   },
   "outputs": [
    {
     "data": {
      "text/html": [
       "<p style=\"color:grey\">business_impacts_explanations</p><h3 font-size: 3em>\n",
       "The model's predictions can significantly impact the NBA draft process by enabling teams to identify and invite the most promising college players for trials. By analyzing the net benefit of inviting top-N prospects, teams can optimize their draft strategy, potentially leading to higher success rates in selecting players who will contribute positively to the team. This data-driven approach not only saves costs associated with unnecessary invites but also maximizes the value derived from each drafted player.\n",
       "</h3>"
      ],
      "text/plain": [
       "<IPython.core.display.HTML object>"
      ]
     },
     "metadata": {},
     "output_type": "display_data"
    }
   ],
   "source": [
    "# Do not modify this code\n",
    "print_tile(size=\"h3\", key='business_impacts_explanations', value=business_impacts_explanations)"
   ]
  },
  {
   "cell_type": "markdown",
   "metadata": {
    "id": "mp1Ie9o8nDl1"
   },
   "source": [
    "## H. Project Outcomes"
   ]
  },
  {
   "cell_type": "code",
   "execution_count": null,
   "metadata": {
    "id": "AvFNheh1HtPb"
   },
   "outputs": [],
   "source": [
    "# <Student to fill this section>\n",
    "experiment_outcome = \"\"  'Hypothesis Confirmed'\"\""
   ]
  },
  {
   "cell_type": "code",
   "execution_count": null,
   "metadata": {
    "id": "23bFWNIVHtTU"
   },
   "outputs": [
    {
     "data": {
      "text/html": [
       "<p style=\"color:grey\">experiment_outcomes_explanations</p><h2 font-size: 3em>Hypothesis Confirmed</h2>"
      ],
      "text/plain": [
       "<IPython.core.display.HTML object>"
      ]
     },
     "metadata": {},
     "output_type": "display_data"
    }
   ],
   "source": [
    "# Do not modify this code\n",
    "print_tile(size=\"h2\", key='experiment_outcomes_explanations', value=experiment_outcome)"
   ]
  },
  {
   "cell_type": "code",
   "execution_count": null,
   "metadata": {
    "id": "iFF8wsz6HteA"
   },
   "outputs": [],
   "source": [
    "# <Student to fill this section>\n",
    "experiment_results_explanations = \"\"\"\n",
    "The experiments conducted confirmed the hypothesis that college performance metrics significantly influence a player's chances of being drafted into the NBA. The Random Forest Classifier, with optimized hyperparameters, achieved an AUROC score of 0.99 on the validation set, indicating a strong predictive capability. This outcome supports the business objective of providing data-driven insights to NBA teams for player selection.\n",
    "\"\"\""
   ]
  },
  {
   "cell_type": "code",
   "execution_count": null,
   "metadata": {
    "id": "QpWzEhX2HthW"
   },
   "outputs": [
    {
     "data": {
      "text/html": [
       "<p style=\"color:grey\">experiment_results_explanations</p><h2 font-size: 3em>\n",
       "Reflect on the outcome of the experiment and list the new insights you gained from it. Provide rationale for pursuing more experimentation with the current approach or call out if you think it is a dead end.\n",
       "Given the results achieved and the overall objective of the project, list the potential next steps and experiments. For each of them assess the expected uplift or gains and rank them accordingly. If the experiment achieved the required outcome for the business, recommend the steps to deploy this solution into production.\n",
       "</h2>"
      ],
      "text/plain": [
       "<IPython.core.display.HTML object>"
      ]
     },
     "metadata": {},
     "output_type": "display_data"
    }
   ],
   "source": [
    "# Do not modify this code\n",
    "print_tile(size=\"h2\", key='experiment_results_explanations', value=experiment_results_explanations)"
   ]
  },
  {
   "cell_type": "code",
   "execution_count": null,
   "metadata": {
    "id": "4-Fz8eeLH1GR"
   },
   "outputs": [],
   "source": []
  },
  {
   "cell_type": "code",
   "execution_count": null,
   "metadata": {
    "id": "ctaHoeX-H1Ix"
   },
   "outputs": [],
   "source": []
  }
 ],
 "metadata": {
  "colab": {
   "provenance": [
    {
     "file_id": "13MHsQlFmfLuY1rWjvW73WSaDUaRPENW4",
     "timestamp": 1680399055727
    }
   ],
   "toc_visible": true
  },
  "kernelspec": {
   "display_name": "3.11.4",
   "language": "python",
   "name": "python3"
  },
  "language_info": {
   "codemirror_mode": {
    "name": "ipython",
    "version": 3
   },
   "file_extension": ".py",
   "mimetype": "text/x-python",
   "name": "python",
   "nbconvert_exporter": "python",
   "pygments_lexer": "ipython3",
   "version": "3.11.4"
  }
 },
 "nbformat": 4,
 "nbformat_minor": 0
}
