{
 "cells": [
  {
   "cell_type": "markdown",
   "metadata": {
    "id": "uQ6wc2HE0pke"
   },
   "source": [
    "# **Experiment Notebook**\n",
    "\n"
   ]
  },
  {
   "cell_type": "code",
   "execution_count": 1,
   "metadata": {
    "id": "qNOA146K2c6f"
   },
   "outputs": [],
   "source": [
    "# Do not modify this code\n",
    "!pip install -q utstd\n",
    "\n",
    "from utstd.ipyrenders import *"
   ]
  },
  {
   "cell_type": "code",
   "execution_count": 2,
   "metadata": {
    "id": "6FneOmBfka9G"
   },
   "outputs": [],
   "source": [
    "# Do not modify this code\n",
    "import warnings\n",
    "warnings.simplefilter(action='ignore')"
   ]
  },
  {
   "cell_type": "markdown",
   "metadata": {
    "id": "mXFKfa2tp1ch"
   },
   "source": [
    "## 0. Import Packages"
   ]
  },
  {
   "cell_type": "code",
   "execution_count": 3,
   "metadata": {
    "id": "GBEAwdncnlAx"
   },
   "outputs": [],
   "source": [
    "# <Student to fill this section>\n"
   ]
  },
  {
   "cell_type": "markdown",
   "metadata": {
    "id": "tQgxLRrvjiJb"
   },
   "source": [
    "---\n",
    "## A. Project Description\n"
   ]
  },
  {
   "cell_type": "code",
   "execution_count": 4,
   "metadata": {
    "id": "Je1EzzfFD5hj"
   },
   "outputs": [],
   "source": [
    "# <Student to fill this section>\n",
    "student_name = \"Md Saifur Rahman\"\n",
    "student_id = \"25528668\"\n",
    "group_id = \"\""
   ]
  },
  {
   "cell_type": "code",
   "execution_count": 5,
   "metadata": {
    "id": "pdKiYvFWD5my"
   },
   "outputs": [
    {
     "data": {
      "text/html": [
       "<p style=\"color:grey\">student_name</p><h1 font-size: 3em>Md Saifur Rahman</h1>"
      ],
      "text/plain": [
       "<IPython.core.display.HTML object>"
      ]
     },
     "metadata": {},
     "output_type": "display_data"
    }
   ],
   "source": [
    "# Do not modify this code\n",
    "print_tile(size=\"h1\", key='student_name', value=student_name)"
   ]
  },
  {
   "cell_type": "code",
   "execution_count": 6,
   "metadata": {
    "id": "9KTEbRjqD5o_"
   },
   "outputs": [
    {
     "data": {
      "text/html": [
       "<p style=\"color:grey\">student_id</p><h1 font-size: 3em>25528668</h1>"
      ],
      "text/plain": [
       "<IPython.core.display.HTML object>"
      ]
     },
     "metadata": {},
     "output_type": "display_data"
    }
   ],
   "source": [
    "# Do not modify this code\n",
    "print_tile(size=\"h1\", key='student_id', value=student_id)"
   ]
  },
  {
   "cell_type": "code",
   "execution_count": 7,
   "metadata": {
    "id": "UKRt4jK6rInY"
   },
   "outputs": [
    {
     "data": {
      "text/html": [
       "<p style=\"color:grey\">group_id</p><h1 font-size: 3em></h1>"
      ],
      "text/plain": [
       "<IPython.core.display.HTML object>"
      ]
     },
     "metadata": {},
     "output_type": "display_data"
    }
   ],
   "source": [
    "# Do not modify this code\n",
    "print_tile(size=\"h1\", key='group_id', value=group_id)"
   ]
  },
  {
   "cell_type": "markdown",
   "metadata": {
    "id": "4q1Bzcejvfpm"
   },
   "source": [
    "---\n",
    "## B. Business Understanding"
   ]
  },
  {
   "cell_type": "code",
   "execution_count": 8,
   "metadata": {
    "id": "Mmo6apC9EEv8"
   },
   "outputs": [],
   "source": [
    "# <Student to fill this section>\n",
    "business_use_case_description = \"\"\"\n",
    "Explain clearly what is the goal of this project for the business.\n",
    "\"\"\""
   ]
  },
  {
   "cell_type": "code",
   "execution_count": 9,
   "metadata": {
    "id": "bgb0DkG2EE2e"
   },
   "outputs": [
    {
     "data": {
      "text/html": [
       "<p style=\"color:grey\">business_use_case_description</p><h3 font-size: 3em>\n",
       "Explain clearly what is the goal of this project for the business.\n",
       "</h3>"
      ],
      "text/plain": [
       "<IPython.core.display.HTML object>"
      ]
     },
     "metadata": {},
     "output_type": "display_data"
    }
   ],
   "source": [
    "# Do not modify this code\n",
    "print_tile(size=\"h3\", key='business_use_case_description', value=business_use_case_description)"
   ]
  },
  {
   "cell_type": "code",
   "execution_count": 10,
   "metadata": {
    "id": "29Yqk3d2EE8q"
   },
   "outputs": [],
   "source": [
    "# <Student to fill this section>\n",
    "business_objectives = \"\"\"\n",
    "What will be the impact of accurate or incorrect results?\n",
    "\"\"\""
   ]
  },
  {
   "cell_type": "code",
   "execution_count": 11,
   "metadata": {
    "id": "sSu_8J96EFDs"
   },
   "outputs": [
    {
     "data": {
      "text/html": [
       "<p style=\"color:grey\">business_objectives</p><h3 font-size: 3em>\n",
       "What will be the impact of accurate or incorrect results?\n",
       "</h3>"
      ],
      "text/plain": [
       "<IPython.core.display.HTML object>"
      ]
     },
     "metadata": {},
     "output_type": "display_data"
    }
   ],
   "source": [
    "# Do not modify this code\n",
    "print_tile(size=\"h3\", key='business_objectives', value=business_objectives)"
   ]
  },
  {
   "cell_type": "code",
   "execution_count": 12,
   "metadata": {
    "id": "Hf4ThY5cEF5W"
   },
   "outputs": [],
   "source": [
    "# <Student to fill this section>\n",
    "stakeholders_expectations_explanations = \"\"\"\n",
    "How will the results be used?\n",
    "Who will be the users of your predictions? Who will be impacted by your predictions?\n",
    "\"\"\""
   ]
  },
  {
   "cell_type": "code",
   "execution_count": 13,
   "metadata": {
    "id": "jH9a2X70EF8M"
   },
   "outputs": [
    {
     "data": {
      "text/html": [
       "<p style=\"color:grey\">stakeholders_expectations_explanations</p><h3 font-size: 3em>\n",
       "How will the results be used?\n",
       "Who will be the users of your predictions? Who will be impacted by your predictions?\n",
       "</h3>"
      ],
      "text/plain": [
       "<IPython.core.display.HTML object>"
      ]
     },
     "metadata": {},
     "output_type": "display_data"
    }
   ],
   "source": [
    "# Do not modify this code\n",
    "print_tile(size=\"h3\", key='stakeholders_expectations_explanations', value=stakeholders_expectations_explanations)"
   ]
  },
  {
   "cell_type": "markdown",
   "metadata": {
    "id": "P0zsEPshwy1K"
   },
   "source": [
    "---\n",
    "## C. Data Understanding"
   ]
  },
  {
   "cell_type": "markdown",
   "metadata": {
    "id": "sGMWhKSbUl63"
   },
   "source": [
    "### C.1   Load Datasets\n"
   ]
  },
  {
   "cell_type": "code",
   "execution_count": 14,
   "metadata": {
    "id": "NKgOzSn-w0eq"
   },
   "outputs": [],
   "source": [
    "# <Student to fill this section>\n"
   ]
  },
  {
   "cell_type": "markdown",
   "metadata": {
    "id": "tpG_mos_EXrY"
   },
   "source": [
    "### C.2 Define Target variable"
   ]
  },
  {
   "cell_type": "code",
   "execution_count": 15,
   "metadata": {
    "id": "gsQkuxYLVHb1"
   },
   "outputs": [],
   "source": [
    "# <Student to fill this section>\n"
   ]
  },
  {
   "cell_type": "code",
   "execution_count": null,
   "metadata": {
    "id": "4Z0I4L_cVITG"
   },
   "outputs": [],
   "source": []
  },
  {
   "cell_type": "code",
   "execution_count": 16,
   "metadata": {
    "id": "RiqBkEQ-EjIZ"
   },
   "outputs": [],
   "source": [
    "# <Student to fill this section>\n",
    "target_definition_explanations = \"\"\"\n",
    "Explain the rationale on the definition of the target variable according to your business use case.\n",
    "\"\"\""
   ]
  },
  {
   "cell_type": "code",
   "execution_count": 17,
   "metadata": {
    "id": "qdeiAKiIElvG"
   },
   "outputs": [
    {
     "data": {
      "text/html": [
       "<p style=\"color:grey\">target_definition_explanations</p><h3 font-size: 3em>\n",
       "Explain the rationale on the definition of the target variable according to your business use case.\n",
       "</h3>"
      ],
      "text/plain": [
       "<IPython.core.display.HTML object>"
      ]
     },
     "metadata": {},
     "output_type": "display_data"
    }
   ],
   "source": [
    "# Do not modify this code\n",
    "print_tile(size=\"h3\", key='target_definition_explanations', value=target_definition_explanations)"
   ]
  },
  {
   "cell_type": "markdown",
   "metadata": {
    "id": "CtIfwnLmEn51"
   },
   "source": [
    "### C.3 Create Target variable"
   ]
  },
  {
   "cell_type": "code",
   "execution_count": 18,
   "metadata": {
    "id": "XV8dRa59EpLG"
   },
   "outputs": [],
   "source": [
    "# <Student to fill this section>\n",
    "\n",
    "target_name = ''"
   ]
  },
  {
   "cell_type": "markdown",
   "metadata": {
    "id": "dmSKLrSBFAN5"
   },
   "source": [
    "### C.4 Explore Target variable"
   ]
  },
  {
   "cell_type": "code",
   "execution_count": 19,
   "metadata": {
    "id": "zeldOL0KFC4E"
   },
   "outputs": [],
   "source": [
    "# <Student to fill this section>\n"
   ]
  },
  {
   "cell_type": "code",
   "execution_count": null,
   "metadata": {
    "id": "DBocSNWvVFCU"
   },
   "outputs": [],
   "source": []
  },
  {
   "cell_type": "code",
   "execution_count": 20,
   "metadata": {
    "id": "5I9ccv-UEr5o"
   },
   "outputs": [],
   "source": [
    "# <Student to fill this section>\n",
    "target_distribution_explanations = \"\"\"\n",
    "provide a detailed analysis on the target variable, its distribution, limitations, issues, ...\n",
    "\"\"\""
   ]
  },
  {
   "cell_type": "code",
   "execution_count": 21,
   "metadata": {
    "id": "i45S7xA9EtEV"
   },
   "outputs": [
    {
     "data": {
      "text/html": [
       "<p style=\"color:grey\">target_distribution_explanations</p><h3 font-size: 3em>\n",
       "provide a detailed analysis on the target variable, its distribution, limitations, issues, ...\n",
       "</h3>"
      ],
      "text/plain": [
       "<IPython.core.display.HTML object>"
      ]
     },
     "metadata": {},
     "output_type": "display_data"
    }
   ],
   "source": [
    "# Do not modify this code\n",
    "print_tile(size=\"h3\", key='target_distribution_explanations', value=target_distribution_explanations)"
   ]
  },
  {
   "cell_type": "markdown",
   "metadata": {
    "id": "37ubEa7SFWXo"
   },
   "source": [
    "### C.5 Explore Feature of Interest `\\<put feature name here\\>`"
   ]
  },
  {
   "cell_type": "code",
   "execution_count": 22,
   "metadata": {
    "id": "wV9Ldx0gFWks"
   },
   "outputs": [],
   "source": [
    "# <Student to fill this section>"
   ]
  },
  {
   "cell_type": "code",
   "execution_count": null,
   "metadata": {
    "id": "JJxanj3EVERJ"
   },
   "outputs": [],
   "source": []
  },
  {
   "cell_type": "code",
   "execution_count": 23,
   "metadata": {
    "id": "y4YLcn_eEyAe"
   },
   "outputs": [],
   "source": [
    "# <Student to fill this section>\n",
    "feature_1_insights = \"\"\"\n",
    "provide a detailed analysis on the selected feature, its distribution, limitations, issues, ...\n",
    "\"\"\""
   ]
  },
  {
   "cell_type": "code",
   "execution_count": 24,
   "metadata": {
    "id": "2r1knRxDEyC0"
   },
   "outputs": [
    {
     "data": {
      "text/html": [
       "<p style=\"color:grey\">feature_1_insights</p><h3 font-size: 3em>\n",
       "provide a detailed analysis on the selected feature, its distribution, limitations, issues, ...\n",
       "</h3>"
      ],
      "text/plain": [
       "<IPython.core.display.HTML object>"
      ]
     },
     "metadata": {},
     "output_type": "display_data"
    }
   ],
   "source": [
    "# Do not modify this code\n",
    "print_tile(size=\"h3\", key='feature_1_insights', value=feature_1_insights)"
   ]
  },
  {
   "cell_type": "markdown",
   "metadata": {
    "id": "WOqd56IjE0LB"
   },
   "source": [
    "### C.6 Explore Feature of Interest `\\<put feature name here\\>`"
   ]
  },
  {
   "cell_type": "code",
   "execution_count": 25,
   "metadata": {
    "id": "akQFJsI3E2eM"
   },
   "outputs": [],
   "source": [
    "# <Student to fill this section>"
   ]
  },
  {
   "cell_type": "code",
   "execution_count": 26,
   "metadata": {
    "id": "u-CfAsO1E2hB"
   },
   "outputs": [],
   "source": [
    "# <Student to fill this section>\n",
    "feature_2_insights = \"\"\"\n",
    "provide a detailed analysis on the selected feature, its distribution, limitations, issues, ...\n",
    "\"\"\""
   ]
  },
  {
   "cell_type": "code",
   "execution_count": 27,
   "metadata": {
    "id": "bB87lgCAE2jf"
   },
   "outputs": [
    {
     "data": {
      "text/html": [
       "<p style=\"color:grey\">feature_2_insights</p><h3 font-size: 3em>\n",
       "provide a detailed analysis on the selected feature, its distribution, limitations, issues, ...\n",
       "</h3>"
      ],
      "text/plain": [
       "<IPython.core.display.HTML object>"
      ]
     },
     "metadata": {},
     "output_type": "display_data"
    }
   ],
   "source": [
    "# Do not modify this code\n",
    "print_tile(size=\"h3\", key='feature_2_insights', value=feature_2_insights)"
   ]
  },
  {
   "cell_type": "markdown",
   "metadata": {
    "id": "-8J_tiLgE26i"
   },
   "source": [
    "### C.6 Explore Feature of Interest `\\<put feature name here\\>`\n"
   ]
  },
  {
   "cell_type": "code",
   "execution_count": 28,
   "metadata": {
    "id": "qeyyEgIrE6GB"
   },
   "outputs": [],
   "source": [
    "# <Student to fill this section>"
   ]
  },
  {
   "cell_type": "code",
   "execution_count": null,
   "metadata": {
    "id": "ie8xl4AfVPU7"
   },
   "outputs": [],
   "source": []
  },
  {
   "cell_type": "code",
   "execution_count": 29,
   "metadata": {
    "id": "_Vlh8usmE6In"
   },
   "outputs": [],
   "source": [
    "# <Student to fill this section>\n",
    "feature_n_insights = \"\"\"\n",
    "provide a detailed analysis on the selected feature, its distribution, limitations, issues, ...\n",
    "\"\"\""
   ]
  },
  {
   "cell_type": "code",
   "execution_count": 30,
   "metadata": {
    "id": "BNZGN3nrE6LJ"
   },
   "outputs": [
    {
     "data": {
      "text/html": [
       "<p style=\"color:grey\">feature_n_insights</p><h3 font-size: 3em>\n",
       "provide a detailed analysis on the selected feature, its distribution, limitations, issues, ...\n",
       "</h3>"
      ],
      "text/plain": [
       "<IPython.core.display.HTML object>"
      ]
     },
     "metadata": {},
     "output_type": "display_data"
    }
   ],
   "source": [
    "# Do not modify this code\n",
    "print_tile(size=\"h3\", key='feature_n_insights', value=feature_n_insights)"
   ]
  },
  {
   "cell_type": "markdown",
   "metadata": {
    "id": "ZcjaUGQ_VbVQ"
   },
   "source": [
    "### C.n Explore Feature of Interest `\\<put feature name here\\>`\n",
    "\n",
    "> You can add more cells related to other feeatures in this section"
   ]
  },
  {
   "cell_type": "code",
   "execution_count": null,
   "metadata": {
    "id": "Z_DwQMvDVbfA"
   },
   "outputs": [],
   "source": []
  },
  {
   "cell_type": "code",
   "execution_count": null,
   "metadata": {
    "id": "4P8cUfkCVbic"
   },
   "outputs": [],
   "source": []
  },
  {
   "cell_type": "markdown",
   "metadata": {
    "id": "_NCwQQFkU3v5"
   },
   "source": [
    "---\n",
    "## D. Feature Selection\n"
   ]
  },
  {
   "cell_type": "markdown",
   "metadata": {
    "id": "0b8C9WON3Toe"
   },
   "source": [
    "### D.1 Approach \"\\<describe_approach_here\\>\"\n"
   ]
  },
  {
   "cell_type": "code",
   "execution_count": 31,
   "metadata": {
    "id": "zfC-DLKv4AuM"
   },
   "outputs": [],
   "source": [
    "# <Student to fill this section>"
   ]
  },
  {
   "cell_type": "code",
   "execution_count": null,
   "metadata": {
    "id": "J2_6it8iViBX"
   },
   "outputs": [],
   "source": []
  },
  {
   "cell_type": "code",
   "execution_count": 32,
   "metadata": {
    "id": "Z9myLlFZFQXj"
   },
   "outputs": [],
   "source": [
    "# <Student to fill this section>\n",
    "feature_selection_1_insights = \"\"\"\n",
    "provide an explanation on why you use this approach for feature selection and describe its results\n",
    "\"\"\""
   ]
  },
  {
   "cell_type": "code",
   "execution_count": 33,
   "metadata": {
    "id": "937YFeqDFQgB"
   },
   "outputs": [
    {
     "data": {
      "text/html": [
       "<p style=\"color:grey\">feature_selection_1_insights</p><h3 font-size: 3em>\n",
       "provide an explanation on why you use this approach for feature selection and describe its results\n",
       "</h3>"
      ],
      "text/plain": [
       "<IPython.core.display.HTML object>"
      ]
     },
     "metadata": {},
     "output_type": "display_data"
    }
   ],
   "source": [
    "# Do not modify this code\n",
    "print_tile(size=\"h3\", key='feature_selection_1_insights', value=feature_selection_1_insights)"
   ]
  },
  {
   "cell_type": "markdown",
   "metadata": {
    "id": "jqRcgUqu3ZuV"
   },
   "source": [
    "### D.2 Approach \"\\<describe_approach_here\\>\"\n"
   ]
  },
  {
   "cell_type": "code",
   "execution_count": 34,
   "metadata": {
    "id": "dAPSiwcg3aJC"
   },
   "outputs": [],
   "source": [
    "# <Student to fill this section>"
   ]
  },
  {
   "cell_type": "code",
   "execution_count": null,
   "metadata": {
    "id": "Ps25nfue3bL8"
   },
   "outputs": [],
   "source": []
  },
  {
   "cell_type": "code",
   "execution_count": 35,
   "metadata": {
    "id": "CpQQodTW3a9v"
   },
   "outputs": [],
   "source": [
    "# <Student to fill this section>\n",
    "feature_selection_2_insights = \"\"\"\n",
    "provide an explanation on why you use this approach for feature selection and describe its results\n",
    "\"\"\""
   ]
  },
  {
   "cell_type": "code",
   "execution_count": 36,
   "metadata": {
    "id": "HjN2qhDb3a0G"
   },
   "outputs": [
    {
     "data": {
      "text/html": [
       "<p style=\"color:grey\">feature_selection_2_insights</p><h3 font-size: 3em>\n",
       "provide an explanation on why you use this approach for feature selection and describe its results\n",
       "</h3>"
      ],
      "text/plain": [
       "<IPython.core.display.HTML object>"
      ]
     },
     "metadata": {},
     "output_type": "display_data"
    }
   ],
   "source": [
    "# Do not modify this code\n",
    "print_tile(size=\"h3\", key='feature_selection_2_insights', value=feature_selection_2_insights)"
   ]
  },
  {
   "cell_type": "markdown",
   "metadata": {
    "id": "6sK5poaV3hny"
   },
   "source": [
    "### D.n Approach \"\\<describe_approach_here\\>\"\n",
    "\n",
    "> You can add more cells related to other approaches in this section"
   ]
  },
  {
   "cell_type": "code",
   "execution_count": null,
   "metadata": {
    "id": "AatlZepC3h_D"
   },
   "outputs": [],
   "source": []
  },
  {
   "cell_type": "markdown",
   "metadata": {
    "id": "gS5-tS8_3ryn"
   },
   "source": [
    "## D.z Final Selection of Features"
   ]
  },
  {
   "cell_type": "code",
   "execution_count": 37,
   "metadata": {
    "id": "zYY4u2063ioF"
   },
   "outputs": [],
   "source": [
    "# <Student to fill this section>\n",
    "\n",
    "features_list = []"
   ]
  },
  {
   "cell_type": "code",
   "execution_count": null,
   "metadata": {
    "id": "-Blv0kUV3ib2"
   },
   "outputs": [],
   "source": []
  },
  {
   "cell_type": "code",
   "execution_count": 38,
   "metadata": {
    "id": "-pxVH1r63vqu"
   },
   "outputs": [],
   "source": [
    "# <Student to fill this section>\n",
    "feature_selection_explanations = \"\"\"\n",
    "provide a quick explanation on the features selected\n",
    "\"\"\""
   ]
  },
  {
   "cell_type": "code",
   "execution_count": 39,
   "metadata": {
    "id": "rHluIUmR3iO3"
   },
   "outputs": [
    {
     "data": {
      "text/html": [
       "<p style=\"color:grey\">feature_selection_explanations</p><h3 font-size: 3em>\n",
       "provide a quick explanation on the features selected\n",
       "</h3>"
      ],
      "text/plain": [
       "<IPython.core.display.HTML object>"
      ]
     },
     "metadata": {},
     "output_type": "display_data"
    }
   ],
   "source": [
    "# Do not modify this code\n",
    "print_tile(size=\"h3\", key='feature_selection_explanations', value=feature_selection_explanations)"
   ]
  },
  {
   "cell_type": "markdown",
   "metadata": {
    "id": "j-nNSpJK0Rgu"
   },
   "source": [
    "---\n",
    "## E. Data Preparation"
   ]
  },
  {
   "cell_type": "markdown",
   "metadata": {
    "id": "EDtRq1990rcW"
   },
   "source": [
    "### E.1 Data Transformation <put_name_here>"
   ]
  },
  {
   "cell_type": "code",
   "execution_count": 40,
   "metadata": {
    "id": "AZN0u9DD0v5X"
   },
   "outputs": [],
   "source": [
    "# <Student to fill this section>"
   ]
  },
  {
   "cell_type": "code",
   "execution_count": null,
   "metadata": {
    "id": "MjdmojP6Vp6G"
   },
   "outputs": [],
   "source": []
  },
  {
   "cell_type": "code",
   "execution_count": 41,
   "metadata": {
    "id": "eQGXvLtkFU9L"
   },
   "outputs": [],
   "source": [
    "# <Student to fill this section>\n",
    "data_cleaning_1_explanations = \"\"\"\n",
    "Provide some explanations on why you believe it is important to fix this issue and its impacts\n",
    "\"\"\""
   ]
  },
  {
   "cell_type": "code",
   "execution_count": 42,
   "metadata": {
    "id": "MPuYme1uFU_4"
   },
   "outputs": [
    {
     "data": {
      "text/html": [
       "<p style=\"color:grey\">data_cleaning_1_explanations</p><h3 font-size: 3em>\n",
       "Provide some explanations on why you believe it is important to fix this issue and its impacts\n",
       "</h3>"
      ],
      "text/plain": [
       "<IPython.core.display.HTML object>"
      ]
     },
     "metadata": {},
     "output_type": "display_data"
    }
   ],
   "source": [
    "# Do not modify this code\n",
    "print_tile(size=\"h3\", key='data_cleaning_1_explanations', value=data_cleaning_1_explanations)"
   ]
  },
  {
   "cell_type": "markdown",
   "metadata": {
    "id": "SxhDoAkw08Eb"
   },
   "source": [
    "### E.2 Data Transformation <put_name_here>"
   ]
  },
  {
   "cell_type": "code",
   "execution_count": 43,
   "metadata": {
    "id": "OO5ITMDZ035_"
   },
   "outputs": [],
   "source": [
    "# <Student to fill this section>"
   ]
  },
  {
   "cell_type": "code",
   "execution_count": null,
   "metadata": {
    "id": "4OlbuimwVqjd"
   },
   "outputs": [],
   "source": []
  },
  {
   "cell_type": "code",
   "execution_count": 44,
   "metadata": {
    "id": "NoQ6IWoFFb1y"
   },
   "outputs": [],
   "source": [
    "# <Student to fill this section>\n",
    "data_cleaning_2_explanations = \"\"\"\n",
    "Provide some explanations on why you believe it is important to fix this issue and its impacts\n",
    "\"\"\""
   ]
  },
  {
   "cell_type": "code",
   "execution_count": 45,
   "metadata": {
    "id": "n1NG6O-jFdOE"
   },
   "outputs": [
    {
     "data": {
      "text/html": [
       "<p style=\"color:grey\">data_cleaning_2_explanations</p><h3 font-size: 3em>\n",
       "Provide some explanations on why you believe it is important to fix this issue and its impacts\n",
       "</h3>"
      ],
      "text/plain": [
       "<IPython.core.display.HTML object>"
      ]
     },
     "metadata": {},
     "output_type": "display_data"
    }
   ],
   "source": [
    "# Do not modify this code\n",
    "print_tile(size=\"h3\", key='data_cleaning_2_explanations', value=data_cleaning_2_explanations)"
   ]
  },
  {
   "cell_type": "markdown",
   "metadata": {
    "id": "ylQxO-4g03qH"
   },
   "source": [
    "### E.3 Data Transformation <put_name_here>"
   ]
  },
  {
   "cell_type": "code",
   "execution_count": 46,
   "metadata": {
    "id": "5VymIZpS1Ch7"
   },
   "outputs": [],
   "source": [
    "# <Student to fill this section>"
   ]
  },
  {
   "cell_type": "code",
   "execution_count": null,
   "metadata": {
    "id": "eGB_A6UsVu81"
   },
   "outputs": [],
   "source": []
  },
  {
   "cell_type": "code",
   "execution_count": 47,
   "metadata": {
    "id": "BHo46tqSFibl"
   },
   "outputs": [],
   "source": [
    "# <Student to fill this section>\n",
    "data_cleaning_3_explanations = \"\"\"\n",
    "Provide some explanations on why you believe it is important to fix this issue and its impacts\n",
    "\"\"\""
   ]
  },
  {
   "cell_type": "code",
   "execution_count": 48,
   "metadata": {
    "id": "D1BIohZLFiiM"
   },
   "outputs": [
    {
     "data": {
      "text/html": [
       "<p style=\"color:grey\">data_cleaning_3_explanations</p><h3 font-size: 3em>\n",
       "Provide some explanations on why you believe it is important to fix this issue and its impacts\n",
       "</h3>"
      ],
      "text/plain": [
       "<IPython.core.display.HTML object>"
      ]
     },
     "metadata": {},
     "output_type": "display_data"
    }
   ],
   "source": [
    "# Do not modify this code\n",
    "print_tile(size=\"h3\", key='data_cleaning_3_explanations', value=data_cleaning_3_explanations)"
   ]
  },
  {
   "cell_type": "markdown",
   "metadata": {
    "id": "w8pDuIcQVxgf"
   },
   "source": [
    "### E.n Fixing \"\\<describe_issue_here\\>\"\n",
    "\n",
    "> You can add more cells related to other issues in this section"
   ]
  },
  {
   "cell_type": "code",
   "execution_count": null,
   "metadata": {
    "id": "L7MGT74hVxm2"
   },
   "outputs": [],
   "source": []
  },
  {
   "cell_type": "code",
   "execution_count": null,
   "metadata": {
    "id": "_x2xJAZ7Vxpb"
   },
   "outputs": [],
   "source": []
  },
  {
   "cell_type": "markdown",
   "metadata": {
    "id": "S80O7okb0RIx"
   },
   "source": [
    "---\n",
    "## F. Feature Engineering"
   ]
  },
  {
   "cell_type": "markdown",
   "metadata": {
    "id": "Kst7h7wp1MFK"
   },
   "source": [
    "### F.1 New Feature \"\\<put_name_here\\>\"\n"
   ]
  },
  {
   "cell_type": "code",
   "execution_count": 49,
   "metadata": {
    "id": "f_wsc2n-1Mdm"
   },
   "outputs": [],
   "source": [
    "# <Student to fill this section>"
   ]
  },
  {
   "cell_type": "code",
   "execution_count": null,
   "metadata": {
    "id": "d7k_4Q_UV2vi"
   },
   "outputs": [],
   "source": []
  },
  {
   "cell_type": "code",
   "execution_count": 50,
   "metadata": {
    "id": "hezUX-UgFpQf"
   },
   "outputs": [],
   "source": [
    "# <Student to fill this section>\n",
    "feature_engineering_1_explanations = \"\"\"\n",
    "Provide some explanations on why you believe it is important to create this feature and its impacts\n",
    "\"\"\""
   ]
  },
  {
   "cell_type": "code",
   "execution_count": 51,
   "metadata": {
    "id": "AKIFmqwVFpTA"
   },
   "outputs": [
    {
     "data": {
      "text/html": [
       "<p style=\"color:grey\">feature_engineering_1_explanations</p><h3 font-size: 3em>\n",
       "Provide some explanations on why you believe it is important to create this feature and its impacts\n",
       "</h3>"
      ],
      "text/plain": [
       "<IPython.core.display.HTML object>"
      ]
     },
     "metadata": {},
     "output_type": "display_data"
    }
   ],
   "source": [
    "# Do not modify this code\n",
    "print_tile(size=\"h3\", key='feature_engineering_1_explanations', value=feature_engineering_1_explanations)"
   ]
  },
  {
   "cell_type": "markdown",
   "metadata": {
    "id": "xY_hWhC71XAl"
   },
   "source": [
    "### F.2 New Feature \"\\<put_name_here\\>\"\n",
    "\n",
    "\n"
   ]
  },
  {
   "cell_type": "code",
   "execution_count": 52,
   "metadata": {
    "id": "F3DhQoJZ1Xvw"
   },
   "outputs": [],
   "source": [
    "# <Student to fill this section>"
   ]
  },
  {
   "cell_type": "code",
   "execution_count": 53,
   "metadata": {
    "id": "ac-MNGsmFtaH"
   },
   "outputs": [],
   "source": [
    "# <Student to fill this section>\n",
    "feature_engineering_2_explanations = \"\"\"\n",
    "Provide some explanations on why you believe it is important to create this feature and its impacts\n",
    "\"\"\""
   ]
  },
  {
   "cell_type": "code",
   "execution_count": 54,
   "metadata": {
    "id": "xapPh0YfFtca"
   },
   "outputs": [
    {
     "data": {
      "text/html": [
       "<p style=\"color:grey\">feature_engineering_2_explanations</p><h3 font-size: 3em>\n",
       "Provide some explanations on why you believe it is important to create this feature and its impacts\n",
       "</h3>"
      ],
      "text/plain": [
       "<IPython.core.display.HTML object>"
      ]
     },
     "metadata": {},
     "output_type": "display_data"
    }
   ],
   "source": [
    "# Do not modify this code\n",
    "print_tile(size=\"h3\", key='feature_engineering_2_explanations', value=feature_engineering_2_explanations)"
   ]
  },
  {
   "cell_type": "markdown",
   "metadata": {
    "id": "w0Fhn4271gVu"
   },
   "source": [
    "### F.3 New Feature \"\\<put_name_here\\>\"\n",
    "\n",
    "> Provide some explanations on why you believe it is important to create this feature and its impacts\n",
    "\n"
   ]
  },
  {
   "cell_type": "code",
   "execution_count": 55,
   "metadata": {
    "id": "N6wBdmYD1g6c"
   },
   "outputs": [],
   "source": [
    "# <Student to fill this section>"
   ]
  },
  {
   "cell_type": "code",
   "execution_count": null,
   "metadata": {
    "id": "ffmW_bKwV6nX"
   },
   "outputs": [],
   "source": []
  },
  {
   "cell_type": "code",
   "execution_count": 56,
   "metadata": {
    "id": "Z3gtyjmKFzCK"
   },
   "outputs": [],
   "source": [
    "# <Student to fill this section>\n",
    "feature_engineering_n_explanations = \"\"\"\n",
    "Provide some explanations on why you believe it is important to create this feature and its impacts\n",
    "\"\"\""
   ]
  },
  {
   "cell_type": "code",
   "execution_count": 57,
   "metadata": {
    "id": "7nMfjzkbFzFj"
   },
   "outputs": [
    {
     "data": {
      "text/html": [
       "<p style=\"color:grey\">feature_engineering_n_explanations</p><h3 font-size: 3em>\n",
       "Provide some explanations on why you believe it is important to create this feature and its impacts\n",
       "</h3>"
      ],
      "text/plain": [
       "<IPython.core.display.HTML object>"
      ]
     },
     "metadata": {},
     "output_type": "display_data"
    }
   ],
   "source": [
    "# Do not modify this code\n",
    "print_tile(size=\"h3\", key='feature_engineering_n_explanations', value=feature_engineering_n_explanations)"
   ]
  },
  {
   "cell_type": "markdown",
   "metadata": {
    "id": "_NHBVVRxV-CC"
   },
   "source": [
    "### F.n Fixing \"\\<describe_issue_here\\>\"\n",
    "\n",
    "> You can add more cells related to new features in this section"
   ]
  },
  {
   "cell_type": "code",
   "execution_count": null,
   "metadata": {
    "id": "8x4jHVxnV-Gm"
   },
   "outputs": [],
   "source": []
  },
  {
   "cell_type": "code",
   "execution_count": null,
   "metadata": {
    "id": "eAl_-gx3V-JT"
   },
   "outputs": [],
   "source": []
  },
  {
   "cell_type": "markdown",
   "metadata": {
    "id": "N8MNBrC4Zgz6"
   },
   "source": [
    "---\n",
    "## G. Data Preparation for Modeling"
   ]
  },
  {
   "cell_type": "markdown",
   "metadata": {
    "id": "HbpTjW2GGkd8"
   },
   "source": [
    "### G.1 Split Datasets"
   ]
  },
  {
   "cell_type": "code",
   "execution_count": 58,
   "metadata": {
    "id": "kcJ8_kh6Gnjl"
   },
   "outputs": [],
   "source": [
    "# <Student to fill this section>"
   ]
  },
  {
   "cell_type": "code",
   "execution_count": null,
   "metadata": {
    "id": "tyVDHxW4WBGP"
   },
   "outputs": [],
   "source": []
  },
  {
   "cell_type": "code",
   "execution_count": 59,
   "metadata": {
    "id": "dkvHE5g4F3IZ"
   },
   "outputs": [],
   "source": [
    "# <Student to fill this section>\n",
    "data_splitting_explanations = \"\"\"\n",
    "Provide some explanations on what is the best strategy to use for data splitting for this dataset\n",
    "\"\"\""
   ]
  },
  {
   "cell_type": "code",
   "execution_count": 60,
   "metadata": {
    "id": "vx4_g0pLF3Lg"
   },
   "outputs": [
    {
     "data": {
      "text/html": [
       "<p style=\"color:grey\">data_splitting_explanations</p><h3 font-size: 3em>\n",
       "Provide some explanations on what is the best strategy to use for data splitting for this dataset\n",
       "</h3>"
      ],
      "text/plain": [
       "<IPython.core.display.HTML object>"
      ]
     },
     "metadata": {},
     "output_type": "display_data"
    }
   ],
   "source": [
    "# Do not modify this code\n",
    "print_tile(size=\"h3\", key='data_splitting_explanations', value=data_splitting_explanations)"
   ]
  },
  {
   "cell_type": "markdown",
   "metadata": {
    "id": "JHJ25iRRG1Gb"
   },
   "source": [
    "### G.2 Data Transformation \"\\<put_name_here\\>\""
   ]
  },
  {
   "cell_type": "code",
   "execution_count": 61,
   "metadata": {
    "id": "_PIDyg9OG17x"
   },
   "outputs": [],
   "source": [
    "# <Student to fill this section>"
   ]
  },
  {
   "cell_type": "code",
   "execution_count": null,
   "metadata": {
    "id": "Zy6_m4G2WFN5"
   },
   "outputs": [],
   "source": []
  },
  {
   "cell_type": "code",
   "execution_count": 62,
   "metadata": {
    "id": "XbWWDBacGn9n"
   },
   "outputs": [],
   "source": [
    "# <Student to fill this section>\n",
    "data_transformation_1_explanations = \"\"\"\n",
    "Provide some explanations on why you believe it is important to perform this data transformation and its impacts\n",
    "\"\"\""
   ]
  },
  {
   "cell_type": "code",
   "execution_count": 63,
   "metadata": {
    "id": "vepkbzldGn_8"
   },
   "outputs": [
    {
     "data": {
      "text/html": [
       "<p style=\"color:grey\">data_transformation_1_explanations</p><h3 font-size: 3em>\n",
       "Provide some explanations on why you believe it is important to perform this data transformation and its impacts\n",
       "</h3>"
      ],
      "text/plain": [
       "<IPython.core.display.HTML object>"
      ]
     },
     "metadata": {},
     "output_type": "display_data"
    }
   ],
   "source": [
    "# Do not modify this code\n",
    "print_tile(size=\"h3\", key='data_transformation_1_explanations', value=data_transformation_1_explanations)"
   ]
  },
  {
   "cell_type": "markdown",
   "metadata": {
    "id": "3YG8_V1DG8YP"
   },
   "source": [
    "### G.3 Data Transformation \"\\<put_name_here\\>\""
   ]
  },
  {
   "cell_type": "code",
   "execution_count": 64,
   "metadata": {
    "id": "jHtYOtv7HJbw"
   },
   "outputs": [],
   "source": [
    "# <Student to fill this section>"
   ]
  },
  {
   "cell_type": "code",
   "execution_count": null,
   "metadata": {
    "id": "i-pdTrPyWGgs"
   },
   "outputs": [],
   "source": []
  },
  {
   "cell_type": "code",
   "execution_count": 65,
   "metadata": {
    "id": "TQR-kDICGoqa"
   },
   "outputs": [],
   "source": [
    "# <Student to fill this section>\n",
    "data_transformation_2_explanations = \"\"\"\n",
    "Provide some explanations on why you believe it is important to perform this data transformation and its impacts\n",
    "\"\"\""
   ]
  },
  {
   "cell_type": "code",
   "execution_count": 66,
   "metadata": {
    "id": "bNWRpNiQGotZ"
   },
   "outputs": [
    {
     "data": {
      "text/html": [
       "<p style=\"color:grey\">data_transformation_2_explanations</p><h3 font-size: 3em>\n",
       "Provide some explanations on why you believe it is important to perform this data transformation and its impacts\n",
       "</h3>"
      ],
      "text/plain": [
       "<IPython.core.display.HTML object>"
      ]
     },
     "metadata": {},
     "output_type": "display_data"
    }
   ],
   "source": [
    "# Do not modify this code\n",
    "print_tile(size=\"h3\", key='data_transformation_2_explanations', value=data_transformation_2_explanations)"
   ]
  },
  {
   "cell_type": "markdown",
   "metadata": {
    "id": "DfSLKEJTG7QB"
   },
   "source": [
    "### G.4 Data Transformation \"\\<put_name_here\\>\""
   ]
  },
  {
   "cell_type": "code",
   "execution_count": 67,
   "metadata": {
    "id": "712T36KKG7Yp"
   },
   "outputs": [],
   "source": [
    "# <Student to fill this section>"
   ]
  },
  {
   "cell_type": "code",
   "execution_count": null,
   "metadata": {
    "id": "bLjLDvaWWHx2"
   },
   "outputs": [],
   "source": []
  },
  {
   "cell_type": "code",
   "execution_count": 68,
   "metadata": {
    "id": "fQkBCxekGpUv"
   },
   "outputs": [],
   "source": [
    "# <Student to fill this section>\n",
    "data_transformation_3_explanations = \"\"\"\n",
    "Provide some explanations on why you believe it is important to perform this data transformation and its impacts\n",
    "\"\"\""
   ]
  },
  {
   "cell_type": "code",
   "execution_count": 69,
   "metadata": {
    "id": "Xlo8HKd9GpXM"
   },
   "outputs": [
    {
     "data": {
      "text/html": [
       "<p style=\"color:grey\">data_transformation_3_explanations</p><h3 font-size: 3em>\n",
       "Provide some explanations on why you believe it is important to perform this data transformation and its impacts\n",
       "</h3>"
      ],
      "text/plain": [
       "<IPython.core.display.HTML object>"
      ]
     },
     "metadata": {},
     "output_type": "display_data"
    }
   ],
   "source": [
    "# Do not modify this code\n",
    "print_tile(size=\"h3\", key='data_transformation_3_explanations', value=data_transformation_3_explanations)"
   ]
  },
  {
   "cell_type": "markdown",
   "metadata": {
    "id": "K0688URxWIQo"
   },
   "source": []
  },
  {
   "cell_type": "code",
   "execution_count": null,
   "metadata": {
    "id": "pqjpS9cXWN-n"
   },
   "outputs": [],
   "source": []
  },
  {
   "cell_type": "code",
   "execution_count": null,
   "metadata": {
    "id": "cnKmJ6rsWIXs"
   },
   "outputs": [],
   "source": []
  },
  {
   "cell_type": "markdown",
   "metadata": {
    "id": "qIj277YWHdFk"
   },
   "source": [
    "---\n",
    "## H. Save Datasets\n",
    "\n",
    "> Do not change this code"
   ]
  },
  {
   "cell_type": "code",
   "execution_count": 70,
   "metadata": {
    "id": "uMNql0SzHhP2"
   },
   "outputs": [
    {
     "name": "stdout",
     "output_type": "stream",
     "text": [
      "name 'X_train' is not defined\n"
     ]
    }
   ],
   "source": [
    "# Do not modify this code\n",
    "# Save training set\n",
    "try:\n",
    "  X_train.to_csv(at.folder_path / 'X_train.csv', index=False)\n",
    "  y_train.to_csv(at.folder_path / 'y_train.csv', index=False)\n",
    "\n",
    "  X_val.to_csv(at.folder_path / 'X_val.csv', index=False)\n",
    "  y_val.to_csv(at.folder_path / 'y_val.csv', index=False)\n",
    "\n",
    "  X_test.to_csv(at.folder_path / 'X_test.csv', index=False)\n",
    "  y_test.to_csv(at.folder_path / 'y_test.csv', index=False)\n",
    "except Exception as e:\n",
    "  print(e)"
   ]
  },
  {
   "cell_type": "markdown",
   "metadata": {
    "id": "RtLjr7niHpNZ"
   },
   "source": [
    "---\n",
    "## I. Selection of Performance Metrics\n",
    "\n",
    "> Provide some explanations on why you believe the performance metrics you chose is appropriate\n"
   ]
  },
  {
   "cell_type": "code",
   "execution_count": 71,
   "metadata": {
    "id": "KV_pxLAiHxKW"
   },
   "outputs": [],
   "source": [
    "# <Student to fill this section>"
   ]
  },
  {
   "cell_type": "code",
   "execution_count": 72,
   "metadata": {
    "id": "kC949nluHR5s"
   },
   "outputs": [],
   "source": [
    "# <Student to fill this section>\n",
    "performance_metrics_explanations = \"\"\"\n",
    "Provide some explanations on why you believe the performance metrics you chose is appropriate\n",
    "\"\"\""
   ]
  },
  {
   "cell_type": "code",
   "execution_count": 73,
   "metadata": {
    "id": "wABRzU2sHR8j"
   },
   "outputs": [
    {
     "data": {
      "text/html": [
       "<p style=\"color:grey\">performance_metrics_explanations</p><h3 font-size: 3em>\n",
       "Provide some explanations on why you believe the performance metrics you chose is appropriate\n",
       "</h3>"
      ],
      "text/plain": [
       "<IPython.core.display.HTML object>"
      ]
     },
     "metadata": {},
     "output_type": "display_data"
    }
   ],
   "source": [
    "# Do not modify this code\n",
    "print_tile(size=\"h3\", key='performance_metrics_explanations', value=performance_metrics_explanations)"
   ]
  },
  {
   "cell_type": "markdown",
   "metadata": {
    "id": "ZpxjwSDYIJy6"
   },
   "source": [
    "## J. Train Machine Learning Model"
   ]
  },
  {
   "cell_type": "markdown",
   "metadata": {
    "id": "_XBy7-9PIVcU"
   },
   "source": [
    "### J.1 Import Algorithm\n",
    "\n",
    "> Provide some explanations on why you believe this algorithm is a good fit\n"
   ]
  },
  {
   "cell_type": "code",
   "execution_count": 74,
   "metadata": {
    "id": "diUB08xMIOuS"
   },
   "outputs": [],
   "source": [
    "# <Student to fill this section>"
   ]
  },
  {
   "cell_type": "code",
   "execution_count": 75,
   "metadata": {
    "id": "GIWOpv6CGUTE"
   },
   "outputs": [],
   "source": [
    "# <Student to fill this section>\n",
    "algorithm_selection_explanations = \"\"\"\n",
    "Provide some explanations on why you believe this algorithm is a good fit\n",
    "\"\"\""
   ]
  },
  {
   "cell_type": "code",
   "execution_count": 76,
   "metadata": {
    "id": "N4yogQ9aGUVe"
   },
   "outputs": [
    {
     "data": {
      "text/html": [
       "<p style=\"color:grey\">algorithm_selection_explanations</p><h3 font-size: 3em>\n",
       "Provide some explanations on why you believe this algorithm is a good fit\n",
       "</h3>"
      ],
      "text/plain": [
       "<IPython.core.display.HTML object>"
      ]
     },
     "metadata": {},
     "output_type": "display_data"
    }
   ],
   "source": [
    "# Do not modify this code\n",
    "print_tile(size=\"h3\", key='algorithm_selection_explanations', value=algorithm_selection_explanations)"
   ]
  },
  {
   "cell_type": "markdown",
   "metadata": {
    "id": "0ks_MmM2mCfm"
   },
   "source": [
    "### J.2 Set Hyperparameters\n",
    "\n",
    "> Provide some explanations on why you believe this algorithm is a good fit\n"
   ]
  },
  {
   "cell_type": "code",
   "execution_count": 77,
   "metadata": {
    "id": "NUswpGVLmDXl"
   },
   "outputs": [],
   "source": [
    "# <Student to fill this section>"
   ]
  },
  {
   "cell_type": "code",
   "execution_count": 78,
   "metadata": {
    "id": "crG_Bm72HfL-"
   },
   "outputs": [],
   "source": [
    "# <Student to fill this section>\n",
    "hyperparameters_selection_explanations = \"\"\"\n",
    "Explain why you are tuning these hyperparameters\n",
    "\"\"\""
   ]
  },
  {
   "cell_type": "code",
   "execution_count": 79,
   "metadata": {
    "id": "k0uqlRCVHfQI"
   },
   "outputs": [
    {
     "data": {
      "text/html": [
       "<p style=\"color:grey\">hyperparameters_selection_explanations</p><h3 font-size: 3em>\n",
       "Explain why you are tuning these hyperparameters\n",
       "</h3>"
      ],
      "text/plain": [
       "<IPython.core.display.HTML object>"
      ]
     },
     "metadata": {},
     "output_type": "display_data"
    }
   ],
   "source": [
    "# Do not modify this code\n",
    "print_tile(size=\"h3\", key='hyperparameters_selection_explanations', value=hyperparameters_selection_explanations)"
   ]
  },
  {
   "cell_type": "markdown",
   "metadata": {
    "id": "VDjdjQjFmkLe"
   },
   "source": [
    "### J.3 Fit Model"
   ]
  },
  {
   "cell_type": "code",
   "execution_count": 80,
   "metadata": {
    "id": "0Ub3Nrdgmm2N"
   },
   "outputs": [],
   "source": [
    "# <Student to fill this section>"
   ]
  },
  {
   "cell_type": "markdown",
   "metadata": {
    "id": "q43YtqpdeniY"
   },
   "source": [
    "### J.4 Model Technical Performance\n",
    "\n",
    "> Provide some explanations on model performance\n"
   ]
  },
  {
   "cell_type": "code",
   "execution_count": 81,
   "metadata": {
    "id": "x1Q3oxoNhez5"
   },
   "outputs": [],
   "source": [
    "# <Student to fill this section>"
   ]
  },
  {
   "cell_type": "code",
   "execution_count": 82,
   "metadata": {
    "id": "_YbQldshHk_3"
   },
   "outputs": [],
   "source": [
    "# <Student to fill this section>\n",
    "model_performance_explanations = \"\"\"\n",
    "Provide some explanations on model performance\n",
    "\"\"\""
   ]
  },
  {
   "cell_type": "code",
   "execution_count": 83,
   "metadata": {
    "id": "-MkLnLzVHlDO"
   },
   "outputs": [
    {
     "data": {
      "text/html": [
       "<p style=\"color:grey\">model_performance_explanations</p><h3 font-size: 3em>\n",
       "Provide some explanations on model performance\n",
       "</h3>"
      ],
      "text/plain": [
       "<IPython.core.display.HTML object>"
      ]
     },
     "metadata": {},
     "output_type": "display_data"
    }
   ],
   "source": [
    "# Do not modify this code\n",
    "print_tile(size=\"h3\", key='model_performance_explanations', value=model_performance_explanations)"
   ]
  },
  {
   "cell_type": "markdown",
   "metadata": {
    "id": "W1HgZMPcmtu7"
   },
   "source": [
    "### J.5 Business Impact from Current Model Performance\n",
    "\n",
    "> Provide some analysis on the model impacts from the business point of view\n"
   ]
  },
  {
   "cell_type": "code",
   "execution_count": 84,
   "metadata": {
    "id": "XGq2RWyqmuKM"
   },
   "outputs": [],
   "source": [
    "# <Student to fill this section>"
   ]
  },
  {
   "cell_type": "code",
   "execution_count": 85,
   "metadata": {
    "id": "7bcCHiP-Hozj"
   },
   "outputs": [],
   "source": [
    "# <Student to fill this section>\n",
    "business_impacts_explanations = \"\"\"\n",
    "Interpret the results of the experiments related to the business objective set earlier. Estimate the impacts of the incorrect results for the business (some results may have more impact compared to others)\n",
    "\"\"\""
   ]
  },
  {
   "cell_type": "code",
   "execution_count": 86,
   "metadata": {
    "id": "RQ3lJGAnHo3O"
   },
   "outputs": [
    {
     "data": {
      "text/html": [
       "<p style=\"color:grey\">business_impacts_explanations</p><h3 font-size: 3em>\n",
       "Interpret the results of the experiments related to the business objective set earlier. Estimate the impacts of the incorrect results for the business (some results may have more impact compared to others)\n",
       "</h3>"
      ],
      "text/plain": [
       "<IPython.core.display.HTML object>"
      ]
     },
     "metadata": {},
     "output_type": "display_data"
    }
   ],
   "source": [
    "# Do not modify this code\n",
    "print_tile(size=\"h3\", key='business_impacts_explanations', value=business_impacts_explanations)"
   ]
  },
  {
   "cell_type": "markdown",
   "metadata": {
    "id": "mp1Ie9o8nDl1"
   },
   "source": [
    "## H. Project Outcomes"
   ]
  },
  {
   "cell_type": "code",
   "execution_count": 87,
   "metadata": {
    "id": "AvFNheh1HtPb"
   },
   "outputs": [],
   "source": [
    "# <Student to fill this section>\n",
    "experiment_outcome = \"\" # Either 'Hypothesis Confirmed', 'Hypothesis Partially Confirmed' or 'Hypothesis Rejected'"
   ]
  },
  {
   "cell_type": "code",
   "execution_count": 88,
   "metadata": {
    "id": "23bFWNIVHtTU"
   },
   "outputs": [
    {
     "data": {
      "text/html": [
       "<p style=\"color:grey\">experiment_outcomes_explanations</p><h2 font-size: 3em></h2>"
      ],
      "text/plain": [
       "<IPython.core.display.HTML object>"
      ]
     },
     "metadata": {},
     "output_type": "display_data"
    }
   ],
   "source": [
    "# Do not modify this code\n",
    "print_tile(size=\"h2\", key='experiment_outcomes_explanations', value=experiment_outcome)"
   ]
  },
  {
   "cell_type": "code",
   "execution_count": 89,
   "metadata": {
    "id": "iFF8wsz6HteA"
   },
   "outputs": [],
   "source": [
    "# <Student to fill this section>\n",
    "experiment_results_explanations = \"\"\"\n",
    "Reflect on the outcome of the experiment and list the new insights you gained from it. Provide rationale for pursuing more experimentation with the current approach or call out if you think it is a dead end.\n",
    "Given the results achieved and the overall objective of the project, list the potential next steps and experiments. For each of them assess the expected uplift or gains and rank them accordingly. If the experiment achieved the required outcome for the business, recommend the steps to deploy this solution into production.\n",
    "\"\"\""
   ]
  },
  {
   "cell_type": "code",
   "execution_count": 90,
   "metadata": {
    "id": "QpWzEhX2HthW"
   },
   "outputs": [
    {
     "data": {
      "text/html": [
       "<p style=\"color:grey\">experiment_results_explanations</p><h2 font-size: 3em>\n",
       "Reflect on the outcome of the experiment and list the new insights you gained from it. Provide rationale for pursuing more experimentation with the current approach or call out if you think it is a dead end.\n",
       "Given the results achieved and the overall objective of the project, list the potential next steps and experiments. For each of them assess the expected uplift or gains and rank them accordingly. If the experiment achieved the required outcome for the business, recommend the steps to deploy this solution into production.\n",
       "</h2>"
      ],
      "text/plain": [
       "<IPython.core.display.HTML object>"
      ]
     },
     "metadata": {},
     "output_type": "display_data"
    }
   ],
   "source": [
    "# Do not modify this code\n",
    "print_tile(size=\"h2\", key='experiment_results_explanations', value=experiment_results_explanations)"
   ]
  },
  {
   "cell_type": "code",
   "execution_count": null,
   "metadata": {
    "id": "4-Fz8eeLH1GR"
   },
   "outputs": [],
   "source": []
  },
  {
   "cell_type": "markdown",
   "metadata": {
    "id": "ctaHoeX-H1Ix"
   },
   "source": [
    "# Experiment"
   ]
  },
  {
   "cell_type": "code",
   "execution_count": 91,
   "metadata": {},
   "outputs": [
    {
     "data": {
      "text/plain": [
       "('latin1',\n",
       " pandas.core.frame.DataFrame,\n",
       " ((62, 3), ['feature', 'name', 'description']))"
      ]
     },
     "execution_count": 91,
     "metadata": {},
     "output_type": "execute_result"
    }
   ],
   "source": [
    "# Retry loading metadata with flexible encodings\n",
    "import pandas as pd\n",
    "from pathlib import Path\n",
    "\n",
    "meta_path = Path(\"metadata.csv\")\n",
    "\n",
    "encodings_to_try = [\"utf-8\", \"utf-8-sig\", \"latin1\", \"cp1252\"]\n",
    "meta = None\n",
    "last_err = None\n",
    "for enc in encodings_to_try:\n",
    "    try:\n",
    "        meta = pd.read_csv(meta_path, encoding=enc)\n",
    "        used_encoding = enc\n",
    "        break\n",
    "    except Exception as e:\n",
    "        last_err = e\n",
    "\n",
    "used_encoding, type(meta), None if meta is None else (meta.shape, meta.columns[:10].tolist())\n",
    "\n"
   ]
  },
  {
   "cell_type": "code",
   "execution_count": 92,
   "metadata": {},
   "outputs": [
    {
     "name": "stdout",
     "output_type": "stream",
     "text": [
      "                team  conf  GP  Min_per   Ortg   usg   eFG  TS_per  ORB_per  \\\n",
      "0            Pacific    BW  26     52.6  111.8  19.3  61.8   64.93      1.1   \n",
      "1        Mississippi   SEC   2      0.8   63.6  29.6  33.3   33.33      0.0   \n",
      "2  Stephen F. Austin  Slnd   4      0.6   61.4  21.7  50.0   50.00      0.0   \n",
      "3           Virginia   ACC  28     59.2   88.2  21.7  46.2   47.25      1.5   \n",
      "4               Elon    SC  21     13.7   47.5  15.0  26.2   26.20      5.8   \n",
      "\n",
      "   DRB_per  ...    dgbpm    oreb    dreb    treb     ast     stl     blk  \\\n",
      "0      7.5  ... -1.34201  0.2308  1.5769  1.8077  2.2308  0.6538  0.0769   \n",
      "1     21.5  ... -5.42104  0.0000  1.0000  1.0000  0.0000  0.0000  0.0000   \n",
      "2      0.0  ...  6.46650  0.0000  0.0000  0.0000  0.0000  0.2500  0.0000   \n",
      "3      9.7  ...  1.45913  0.3214  2.0357  2.3571  3.0000  1.2857  0.0714   \n",
      "4      2.3  ... -3.75694  0.3810  0.1429  0.5238  0.4286  0.1905  0.0000   \n",
      "\n",
      "      pts                             player_id  drafted  \n",
      "0  9.6538  681edf6e-41cb-4fd1-ba91-da573e063fbc      0.0  \n",
      "1  2.0000  3542dcb7-19ad-47f2-8b3a-eb79eb3ec4c4      0.0  \n",
      "2  0.5000  ca0d8700-807d-4fce-a7a9-63922d1981e6      0.0  \n",
      "3  7.7500  01285c6b-bc71-4fa8-941a-28cf3976a117      0.0  \n",
      "4  0.5714  a962c41c-55ff-461e-8585-db32e4fa0580      0.0  \n",
      "\n",
      "[5 rows x 62 columns]\n",
      "             team  conf  GP  Min_per   Ortg   usg   eFG  TS_per  ORB_per  \\\n",
      "0        UC Davis    BW   8      2.2   51.7  13.4  30.0   30.00      0.0   \n",
      "1        Campbell  BSth  25     16.4   85.0  25.2  50.0   52.10      2.0   \n",
      "2       Weber St.  BSky  29     50.5  117.8  16.8  61.8   59.77     12.3   \n",
      "3            Ohio   MAC  17     14.9   85.8  13.1  34.9   34.88      5.1   \n",
      "4  New Mexico St.   WAC  26     17.1   85.8  10.8  48.1   49.46      5.6   \n",
      "\n",
      "   DRB_per  ...      ogbpm     dgbpm    oreb    dreb    treb     ast     stl  \\\n",
      "0     14.3  ... -11.240100 -4.721030  0.1000  0.6000  0.7000  0.2000  0.1000   \n",
      "1     11.8  ...  -2.972020 -1.741870  0.1481  0.9259  1.0741  0.1481  0.4074   \n",
      "2     17.1  ...   0.739055 -0.259202  2.1562  2.7500  4.9062  0.7188  0.4062   \n",
      "3     13.7  ...  -3.339750 -0.573442  0.5789  1.5789  2.1579  0.5263  0.1579   \n",
      "4     17.4  ...  -4.184970  1.718210  0.4643  1.1429  1.6071  0.1071  0.0714   \n",
      "\n",
      "      blk     pts                             player_id  \n",
      "0  0.0000  1.5000  c6d3ce49-28b6-4756-8061-b2bd68730c52  \n",
      "1  0.1111  4.0741  24dd0ae2-9d22-4d31-9cb6-c31f58f903b5  \n",
      "2  1.0625  6.7500  0cf3e822-9446-4285-b7ed-7c19d8e976fe  \n",
      "3  0.1579  2.6842  b1a88de0-6852-4597-bb92-9164b40758e5  \n",
      "4  0.4286  1.7500  97c327ce-d051-40f0-9166-1a43557c3c92  \n",
      "\n",
      "[5 rows x 61 columns]\n",
      "<class 'pandas.core.frame.DataFrame'>\n",
      "RangeIndex: 14774 entries, 0 to 14773\n",
      "Data columns (total 62 columns):\n",
      " #   Column               Non-Null Count  Dtype  \n",
      "---  ------               --------------  -----  \n",
      " 0   team                 14774 non-null  object \n",
      " 1   conf                 14774 non-null  object \n",
      " 2   GP                   14774 non-null  int64  \n",
      " 3   Min_per              14774 non-null  float64\n",
      " 4   Ortg                 14774 non-null  float64\n",
      " 5   usg                  14774 non-null  float64\n",
      " 6   eFG                  14774 non-null  float64\n",
      " 7   TS_per               14774 non-null  float64\n",
      " 8   ORB_per              14774 non-null  float64\n",
      " 9   DRB_per              14774 non-null  float64\n",
      " 10  AST_per              14774 non-null  float64\n",
      " 11  TO_per               14774 non-null  float64\n",
      " 12  FTM                  14774 non-null  int64  \n",
      " 13  FTA                  14774 non-null  int64  \n",
      " 14  FT_per               14774 non-null  float64\n",
      " 15  twoPM                14774 non-null  int64  \n",
      " 16  twoPA                14774 non-null  int64  \n",
      " 17  twoP_per             14774 non-null  float64\n",
      " 18  TPM                  14774 non-null  int64  \n",
      " 19  TPA                  14774 non-null  int64  \n",
      " 20  TP_per               14774 non-null  float64\n",
      " 21  blk_per              14774 non-null  float64\n",
      " 22  stl_per              14774 non-null  float64\n",
      " 23  ftr                  14774 non-null  float64\n",
      " 24  yr                   14774 non-null  object \n",
      " 25  ht                   14766 non-null  object \n",
      " 26  porpag               14774 non-null  float64\n",
      " 27  adjoe                14774 non-null  float64\n",
      " 28  pfr                  14774 non-null  float64\n",
      " 29  year                 14774 non-null  int64  \n",
      " 30  type                 14774 non-null  object \n",
      " 31  Rec_Rank             4889 non-null   float64\n",
      " 32  ast_tov              13239 non-null  float64\n",
      " 33  rimmade              12699 non-null  float64\n",
      " 34  rimmade_rimmiss      12699 non-null  float64\n",
      " 35  midmade              12699 non-null  float64\n",
      " 36  midmade_midmiss      12699 non-null  float64\n",
      " 37  rim_ratio            11571 non-null  float64\n",
      " 38  mid_ratio            11583 non-null  float64\n",
      " 39  dunksmade            12699 non-null  float64\n",
      " 40  dunksmiss_dunksmade  12699 non-null  float64\n",
      " 41  dunks_ratio          5386 non-null   float64\n",
      " 42  drtg                 14769 non-null  float64\n",
      " 43  adrtg                14769 non-null  float64\n",
      " 44  dporpag              14769 non-null  float64\n",
      " 45  stops                14769 non-null  float64\n",
      " 46  bpm                  14769 non-null  float64\n",
      " 47  obpm                 14769 non-null  float64\n",
      " 48  dbpm                 14769 non-null  float64\n",
      " 49  gbpm                 14769 non-null  float64\n",
      " 50  mp                   14773 non-null  float64\n",
      " 51  ogbpm                14769 non-null  float64\n",
      " 52  dgbpm                14769 non-null  float64\n",
      " 53  oreb                 14773 non-null  float64\n",
      " 54  dreb                 14773 non-null  float64\n",
      " 55  treb                 14773 non-null  float64\n",
      " 56  ast                  14773 non-null  float64\n",
      " 57  stl                  14773 non-null  float64\n",
      " 58  blk                  14773 non-null  float64\n",
      " 59  pts                  14773 non-null  float64\n",
      " 60  player_id            14774 non-null  object \n",
      " 61  drafted              14774 non-null  float64\n",
      "dtypes: float64(48), int64(8), object(6)\n",
      "memory usage: 7.0+ MB\n",
      "None\n"
     ]
    }
   ],
   "source": [
    "import pandas as pd\n",
    "\n",
    "train = pd.read_csv(\"train.csv\")\n",
    "test = pd.read_csv(\"test.csv\")\n",
    "\n",
    "print(train.head())        # instead of display_dataframe_to_user\n",
    "print(test.head())\n",
    "print(train.info())\n"
   ]
  },
  {
   "cell_type": "code",
   "execution_count": 93,
   "metadata": {},
   "outputs": [
    {
     "name": "stdout",
     "output_type": "stream",
     "text": [
      "CV Results:\n",
      "logistic_regression: mean AUC=0.992149 ± 0.002469 | folds=[0.9923186428613797, 0.9900062549755488, 0.996602411008757, 0.9896935061981121, 0.9921231809888301]\n",
      "random_forest: mean AUC=0.995557 ± 0.001374 | folds=[0.9959739604958775, 0.9957849994313659, 0.9967658933242352, 0.9963678494256796, 0.9928945455624286]\n",
      "\n",
      "Saved Kaggle submission to: C:\\Users\\Admin\\Documents\\GitHub\\36120-AT1-Group5\\25528668\\submission_baseline.csv\n",
      "Best model: random_forest | CV AUC: 0.995557\n"
     ]
    }
   ],
   "source": [
    "# Baseline modeling with robust preprocessing and model selection by AUROC\n",
    "import pandas as pd\n",
    "import numpy as np\n",
    "from pathlib import Path\n",
    "import inspect\n",
    "\n",
    "from sklearn.model_selection import StratifiedKFold, cross_val_score\n",
    "from sklearn.compose import ColumnTransformer\n",
    "from sklearn.preprocessing import OneHotEncoder, StandardScaler\n",
    "from sklearn.pipeline import Pipeline\n",
    "from sklearn.linear_model import LogisticRegression\n",
    "from sklearn.ensemble import RandomForestClassifier\n",
    "from sklearn.impute import SimpleImputer\n",
    "\n",
    "# -------------------\n",
    "# Load data\n",
    "# -------------------\n",
    "train = pd.read_csv(\"train.csv\")\n",
    "test = pd.read_csv(\"test.csv\")\n",
    "\n",
    "# Identify columns\n",
    "assert \"player_id\" in train.columns and \"player_id\" in test.columns, \"player_id column missing\"\n",
    "assert \"drafted\" in train.columns, \"drafted target column missing\"\n",
    "\n",
    "target_col = \"drafted\"\n",
    "id_col = \"player_id\"\n",
    "\n",
    "feature_cols = [c for c in train.columns if c != target_col]  # keep player_id for now, we drop later\n",
    "X = train[feature_cols].copy()\n",
    "y = train[target_col].astype(int)\n",
    "\n",
    "# Separate id column from features\n",
    "if id_col in X.columns:\n",
    "    X = X.drop(columns=[id_col])\n",
    "X_test = test[[c for c in feature_cols if c in test.columns]].copy()\n",
    "if id_col in X_test.columns:\n",
    "    X_test = X_test.drop(columns=[id_col])\n",
    "\n",
    "# -------------------\n",
    "# Detect numeric vs categorical\n",
    "# -------------------\n",
    "num_cols = X.select_dtypes(include=[np.number]).columns.tolist()\n",
    "cat_cols = [c for c in X.columns if c not in num_cols]\n",
    "\n",
    "# -------------------\n",
    "# Preprocess: impute+scale numerics, impute+onehot categoricals\n",
    "# (version-agnostic OneHotEncoder: sparse_output for sklearn>=1.2, sparse for older)\n",
    "# -------------------\n",
    "numeric_transformer = Pipeline(steps=[\n",
    "    (\"imputer\", SimpleImputer(strategy=\"median\")),\n",
    "    # with_mean=False to remain sparse-compatible after OneHotEncoder\n",
    "    (\"scaler\", StandardScaler(with_mean=False))\n",
    "])\n",
    "\n",
    "ohe_kwargs = {\"handle_unknown\": \"ignore\"}\n",
    "if \"sparse_output\" in inspect.signature(OneHotEncoder).parameters:\n",
    "    # scikit-learn >= 1.2 (incl. 1.5.1)\n",
    "    ohe_kwargs[\"sparse_output\"] = True\n",
    "    # optional (only if available); helps reduce high-cardinality blow-up\n",
    "    if \"min_frequency\" in inspect.signature(OneHotEncoder).parameters:\n",
    "        ohe_kwargs[\"min_frequency\"] = 20\n",
    "else:\n",
    "    # scikit-learn < 1.2\n",
    "    ohe_kwargs[\"sparse\"] = True\n",
    "\n",
    "categorical_transformer = Pipeline(steps=[\n",
    "    (\"imputer\", SimpleImputer(strategy=\"most_frequent\")),\n",
    "    (\"onehot\", OneHotEncoder(**ohe_kwargs))\n",
    "])\n",
    "\n",
    "preprocess = ColumnTransformer(\n",
    "    transformers=[\n",
    "        (\"num\", numeric_transformer, num_cols),\n",
    "        (\"cat\", categorical_transformer, cat_cols)\n",
    "    ]\n",
    ")\n",
    "\n",
    "# -------------------\n",
    "# Define candidate models\n",
    "# -------------------\n",
    "candidates = {}\n",
    "\n",
    "# 1) Logistic Regression (good baseline, handles imbalance via class_weight)\n",
    "log_reg = Pipeline(steps=[\n",
    "    (\"prep\", preprocess),\n",
    "    (\"clf\", LogisticRegression(\n",
    "        class_weight=\"balanced\",\n",
    "        solver=\"saga\",\n",
    "        max_iter=5000,\n",
    "        C=1.0,\n",
    "        n_jobs=-1,\n",
    "        random_state=42\n",
    "    ))\n",
    "])\n",
    "candidates[\"logistic_regression\"] = log_reg\n",
    "\n",
    "# 2) RandomForest (robust to nonlinearity)\n",
    "rf = Pipeline(steps=[\n",
    "    (\"prep\", preprocess),\n",
    "    (\"clf\", RandomForestClassifier(\n",
    "        n_estimators=400,\n",
    "        max_depth=None,\n",
    "        min_samples_split=2,\n",
    "        min_samples_leaf=1,\n",
    "        n_jobs=-1,\n",
    "        class_weight=\"balanced_subsample\",\n",
    "        random_state=42\n",
    "    ))\n",
    "])\n",
    "candidates[\"random_forest\"] = rf\n",
    "\n",
    "# 3) Try XGBoost if available (optional)\n",
    "try:\n",
    "    from xgboost import XGBClassifier\n",
    "    xgb = Pipeline(steps=[\n",
    "        (\"prep\", preprocess),\n",
    "        (\"clf\", XGBClassifier(\n",
    "            n_estimators=600,\n",
    "            max_depth=6,\n",
    "            learning_rate=0.05,\n",
    "            subsample=0.9,\n",
    "            colsample_bytree=0.9,\n",
    "            reg_lambda=1.0,\n",
    "            objective=\"binary:logistic\",\n",
    "            eval_metric=\"auc\",\n",
    "            tree_method=\"hist\",\n",
    "            n_jobs=-1,\n",
    "            # handle class imbalance\n",
    "            scale_pos_weight=(y.shape[0]-y.sum())/y.sum() if y.sum() > 0 else 1.0,\n",
    "            random_state=42\n",
    "        ))\n",
    "    ])\n",
    "    candidates[\"xgboost\"] = xgb\n",
    "except Exception:\n",
    "    xgb = None  # XGBoost not installed/available; skip silently\n",
    "\n",
    "# -------------------\n",
    "# CV setup + evaluation\n",
    "# -------------------\n",
    "cv = StratifiedKFold(n_splits=5, shuffle=True, random_state=42)\n",
    "\n",
    "cv_results = {}\n",
    "for name, pipe in candidates.items():\n",
    "    scores = cross_val_score(pipe, X, y, cv=cv, scoring=\"roc_auc\", n_jobs=-1)\n",
    "    cv_results[name] = {\n",
    "        \"mean_auc\": float(np.mean(scores)),\n",
    "        \"std_auc\": float(np.std(scores)),\n",
    "        \"fold_scores\": [float(s) for s in scores]\n",
    "    }\n",
    "\n",
    "print(\"CV Results:\")\n",
    "for k, v in cv_results.items():\n",
    "    print(f\"{k}: mean AUC={v['mean_auc']:.6f} ± {v['std_auc']:.6f} | folds={v['fold_scores']}\")\n",
    "\n",
    "# -------------------\n",
    "# Pick best model, fit on full train, and create Kaggle submission\n",
    "# -------------------\n",
    "best_name = max(cv_results, key=lambda k: cv_results[k][\"mean_auc\"])\n",
    "best_pipe = candidates[best_name]\n",
    "best_pipe.fit(X, y)\n",
    "\n",
    "# Predict probabilities for the test set\n",
    "probs = best_pipe.predict_proba(X_test)[:, 1]\n",
    "\n",
    "submission = pd.DataFrame({\n",
    "    \"player_id\": test[\"player_id\"],\n",
    "    \"drafted\": probs\n",
    "})\n",
    "\n",
    "out_path = Path(\"submission_baseline.csv\")\n",
    "submission.to_csv(out_path, index=False)\n",
    "print(f\"\\nSaved Kaggle submission to: {out_path.resolve()}\")\n",
    "print(f\"Best model: {best_name} | CV AUC: {cv_results[best_name]['mean_auc']:.6f}\")\n"
   ]
  },
  {
   "cell_type": "code",
   "execution_count": 94,
   "metadata": {},
   "outputs": [
    {
     "name": "stdout",
     "output_type": "stream",
     "text": [
      "CV Results:\n",
      "logistic_regression: mean AUC=0.992149 ± 0.002469\n",
      "random_forest: mean AUC=0.995557 ± 0.001374\n"
     ]
    },
    {
     "data": {
      "text/plain": [
       "{'logistic_regression': {'mean_auc': 0.9921487992065255,\n",
       "  'std_auc': 0.002469134292986224,\n",
       "  'fold_scores': [0.9923186428613797,\n",
       "   0.9900062549755488,\n",
       "   0.996602411008757,\n",
       "   0.9896935061981121,\n",
       "   0.9921231809888301]},\n",
       " 'random_forest': {'mean_auc': 0.9955574496479173,\n",
       "  'std_auc': 0.0013735648712425688,\n",
       "  'fold_scores': [0.9959739604958775,\n",
       "   0.9957849994313659,\n",
       "   0.9967658933242352,\n",
       "   0.9963678494256796,\n",
       "   0.9928945455624286]}}"
      ]
     },
     "execution_count": 94,
     "metadata": {},
     "output_type": "execute_result"
    }
   ],
   "source": [
    "# Baseline modeling with robust preprocessing and model selection by AUROC\n",
    "import pandas as pd\n",
    "import numpy as np\n",
    "from pathlib import Path\n",
    "import inspect\n",
    "\n",
    "from sklearn.model_selection import StratifiedKFold, cross_val_score\n",
    "from sklearn.compose import ColumnTransformer\n",
    "from sklearn.preprocessing import OneHotEncoder, StandardScaler\n",
    "from sklearn.pipeline import Pipeline\n",
    "from sklearn.linear_model import LogisticRegression\n",
    "from sklearn.ensemble import RandomForestClassifier\n",
    "from sklearn.impute import SimpleImputer\n",
    "\n",
    "# -------------------\n",
    "# Load data\n",
    "# -------------------\n",
    "train = pd.read_csv(\"train.csv\")\n",
    "test = pd.read_csv(\"test.csv\")\n",
    "\n",
    "# Identify columns\n",
    "assert \"player_id\" in train.columns and \"player_id\" in test.columns, \"player_id column missing\"\n",
    "assert \"drafted\" in train.columns, \"drafted target column missing\"\n",
    "\n",
    "target_col = \"drafted\"\n",
    "id_col = \"player_id\"\n",
    "\n",
    "feature_cols = [c for c in train.columns if c != target_col]\n",
    "X = train[feature_cols].copy()\n",
    "y = train[target_col].astype(int)\n",
    "\n",
    "# Remove ID column from features\n",
    "if id_col in X.columns:\n",
    "    X = X.drop(columns=[id_col])\n",
    "X_test = test[[c for c in feature_cols if c in test.columns]].copy()\n",
    "if id_col in X_test.columns:\n",
    "    X_test = X_test.drop(columns=[id_col])\n",
    "\n",
    "# -------------------\n",
    "# Detect numeric vs categorical\n",
    "# -------------------\n",
    "num_cols = X.select_dtypes(include=[np.number]).columns.tolist()\n",
    "cat_cols = [c for c in X.columns if c not in num_cols]\n",
    "\n",
    "# -------------------\n",
    "# Preprocess (version-agnostic for OneHotEncoder)\n",
    "# -------------------\n",
    "numeric_transformer = Pipeline(steps=[\n",
    "    (\"imputer\", SimpleImputer(strategy=\"median\")),\n",
    "    (\"scaler\", StandardScaler(with_mean=False))  # sparse-friendly\n",
    "])\n",
    "\n",
    "ohe_kwargs = {\"handle_unknown\": \"ignore\"}\n",
    "if \"sparse_output\" in inspect.signature(OneHotEncoder).parameters:\n",
    "    ohe_kwargs[\"sparse_output\"] = True\n",
    "    if \"min_frequency\" in inspect.signature(OneHotEncoder).parameters:\n",
    "        ohe_kwargs[\"min_frequency\"] = 20\n",
    "else:\n",
    "    ohe_kwargs[\"sparse\"] = True\n",
    "\n",
    "categorical_transformer = Pipeline(steps=[\n",
    "    (\"imputer\", SimpleImputer(strategy=\"most_frequent\")),\n",
    "    (\"onehot\", OneHotEncoder(**ohe_kwargs))\n",
    "])\n",
    "\n",
    "preprocess = ColumnTransformer(\n",
    "    transformers=[\n",
    "        (\"num\", numeric_transformer, num_cols),\n",
    "        (\"cat\", categorical_transformer, cat_cols)\n",
    "    ]\n",
    ")\n",
    "\n",
    "# -------------------\n",
    "# Define candidate models\n",
    "# -------------------\n",
    "candidates = {}\n",
    "\n",
    "# Logistic Regression\n",
    "log_reg = Pipeline(steps=[\n",
    "    (\"prep\", preprocess),\n",
    "    (\"clf\", LogisticRegression(\n",
    "        class_weight=\"balanced\",\n",
    "        solver=\"saga\",\n",
    "        max_iter=5000,\n",
    "        C=1.0,\n",
    "        n_jobs=-1,\n",
    "        random_state=42\n",
    "    ))\n",
    "])\n",
    "candidates[\"logistic_regression\"] = log_reg\n",
    "\n",
    "# Random Forest\n",
    "rf = Pipeline(steps=[\n",
    "    (\"prep\", preprocess),\n",
    "    (\"clf\", RandomForestClassifier(\n",
    "        n_estimators=400,\n",
    "        max_depth=None,\n",
    "        min_samples_split=2,\n",
    "        min_samples_leaf=1,\n",
    "        n_jobs=-1,\n",
    "        class_weight=\"balanced_subsample\",\n",
    "        random_state=42\n",
    "    ))\n",
    "])\n",
    "candidates[\"random_forest\"] = rf\n",
    "\n",
    "# XGBoost (optional)\n",
    "try:\n",
    "    from xgboost import XGBClassifier\n",
    "    xgb = Pipeline(steps=[\n",
    "        (\"prep\", preprocess),\n",
    "        (\"clf\", XGBClassifier(\n",
    "            n_estimators=600,\n",
    "            max_depth=6,\n",
    "            learning_rate=0.05,\n",
    "            subsample=0.9,\n",
    "            colsample_bytree=0.9,\n",
    "            reg_lambda=1.0,\n",
    "            objective=\"binary:logistic\",\n",
    "            eval_metric=\"auc\",\n",
    "            tree_method=\"hist\",\n",
    "            n_jobs=-1,\n",
    "            scale_pos_weight=(y.shape[0] - y.sum()) / y.sum() if y.sum() > 0 else 1.0,\n",
    "            random_state=42\n",
    "        ))\n",
    "    ])\n",
    "    candidates[\"xgboost\"] = xgb\n",
    "except Exception:\n",
    "    xgb = None\n",
    "\n",
    "# -------------------\n",
    "# Cross-validation\n",
    "# -------------------\n",
    "cv = StratifiedKFold(n_splits=5, shuffle=True, random_state=42)\n",
    "cv_results = {}\n",
    "\n",
    "for name, pipe in candidates.items():\n",
    "    scores = cross_val_score(pipe, X, y, cv=cv, scoring=\"roc_auc\", n_jobs=-1)\n",
    "    cv_results[name] = {\n",
    "        \"mean_auc\": float(np.mean(scores)),\n",
    "        \"std_auc\": float(np.std(scores)),\n",
    "        \"fold_scores\": [float(s) for s in scores]\n",
    "    }\n",
    "\n",
    "print(\"CV Results:\")\n",
    "for k, v in cv_results.items():\n",
    "    print(f\"{k}: mean AUC={v['mean_auc']:.6f} ± {v['std_auc']:.6f}\")\n",
    "\n",
    "cv_results\n"
   ]
  },
  {
   "cell_type": "code",
   "execution_count": 95,
   "metadata": {},
   "outputs": [
    {
     "name": "stdout",
     "output_type": "stream",
     "text": [
      "Saved submission: C:\\Users\\Admin\\Documents\\GitHub\\36120-AT1-Group5\\25528668\\submission_baseline_logreg.csv\n",
      "Saved model:      C:\\Users\\Admin\\Documents\\GitHub\\36120-AT1-Group5\\25528668\\baseline_logreg_pipeline.joblib\n"
     ]
    }
   ],
   "source": [
    "# Fit final baseline on full data and create submission (version-agnostic OneHotEncoder)\n",
    "import pandas as pd\n",
    "import numpy as np\n",
    "from pathlib import Path\n",
    "import joblib\n",
    "import inspect\n",
    "\n",
    "from sklearn.compose import ColumnTransformer\n",
    "from sklearn.preprocessing import OneHotEncoder, StandardScaler\n",
    "from sklearn.pipeline import Pipeline\n",
    "from sklearn.linear_model import LogisticRegression\n",
    "from sklearn.impute import SimpleImputer\n",
    "\n",
    "# ---------- Load ----------\n",
    "train = pd.read_csv(\"train.csv\")\n",
    "test  = pd.read_csv(\"test.csv\")\n",
    "\n",
    "id_col     = \"player_id\"\n",
    "target_col = \"drafted\"\n",
    "\n",
    "X      = train.drop(columns=[target_col, id_col])\n",
    "y      = train[target_col].astype(int)\n",
    "X_test = test.drop(columns=[id_col])\n",
    "\n",
    "# ---------- Column types ----------\n",
    "num_cols = X.select_dtypes(include=[np.number]).columns.tolist()\n",
    "cat_cols = [c for c in X.columns if c not in num_cols]\n",
    "\n",
    "# ---------- Preprocessing (version-agnostic OHE) ----------\n",
    "numeric_transformer = Pipeline(steps=[\n",
    "    (\"imputer\", SimpleImputer(strategy=\"median\")),\n",
    "    (\"scaler\",  StandardScaler(with_mean=False))  # keeps it sparse-friendly\n",
    "])\n",
    "\n",
    "ohe_kwargs = {\"handle_unknown\": \"ignore\"}\n",
    "if \"sparse_output\" in inspect.signature(OneHotEncoder).parameters:\n",
    "    # sklearn >= 1.2 (incl. 1.5.1)\n",
    "    ohe_kwargs[\"sparse_output\"] = True\n",
    "    if \"min_frequency\" in inspect.signature(OneHotEncoder).parameters:\n",
    "        ohe_kwargs[\"min_frequency\"] = 20  # optional; reduces cardinality blow-up\n",
    "else:\n",
    "    # sklearn < 1.2\n",
    "    ohe_kwargs[\"sparse\"] = True\n",
    "\n",
    "categorical_transformer = Pipeline(steps=[\n",
    "    (\"imputer\", SimpleImputer(strategy=\"most_frequent\")),\n",
    "    (\"onehot\",  OneHotEncoder(**ohe_kwargs))\n",
    "])\n",
    "\n",
    "preprocess = ColumnTransformer(\n",
    "    transformers=[\n",
    "        (\"num\", numeric_transformer, num_cols),\n",
    "        (\"cat\", categorical_transformer, cat_cols),\n",
    "    ]\n",
    ")\n",
    "\n",
    "# ---------- Model ----------\n",
    "log_reg = Pipeline(steps=[\n",
    "    (\"prep\", preprocess),\n",
    "    (\"clf\", LogisticRegression(\n",
    "        class_weight=\"balanced\",\n",
    "        solver=\"saga\",\n",
    "        max_iter=6000,   # bump to help convergence\n",
    "        tol=1e-3,        # slightly looser tol for speed\n",
    "        C=1.0,\n",
    "        n_jobs=-1,\n",
    "        random_state=42\n",
    "    ))\n",
    "])\n",
    "\n",
    "# ---------- Fit & predict ----------\n",
    "log_reg.fit(X, y)\n",
    "probs = log_reg.predict_proba(X_test)[:, 1]\n",
    "\n",
    "# ---------- Save outputs (current directory) ----------\n",
    "submission = pd.DataFrame({\n",
    "    \"player_id\": test[id_col].values,\n",
    "    \"drafted\": probs\n",
    "})\n",
    "submission_path = Path(\"submission_baseline_logreg.csv\")\n",
    "submission.to_csv(submission_path, index=False)\n",
    "\n",
    "model_path = Path(\"baseline_logreg_pipeline.joblib\")\n",
    "joblib.dump(log_reg, model_path)\n",
    "\n",
    "print(f\"Saved submission: {submission_path.resolve()}\")\n",
    "print(f\"Saved model:      {model_path.resolve()}\")\n"
   ]
  },
  {
   "cell_type": "code",
   "execution_count": 96,
   "metadata": {},
   "outputs": [],
   "source": [
    "import pandas as pd\n",
    "import joblib\n",
    "\n",
    "# Load trained pipeline\n",
    "pipe = joblib.load(\"baseline_logreg_pipeline.joblib\")\n",
    "\n",
    "# Load test data\n",
    "test = pd.read_csv(\"test.csv\")"
   ]
  },
  {
   "cell_type": "code",
   "execution_count": 97,
   "metadata": {},
   "outputs": [],
   "source": [
    "probs = pipe.predict_proba(test.drop(columns=[\"player_id\"]))[:, 1]\n"
   ]
  },
  {
   "cell_type": "code",
   "execution_count": 98,
   "metadata": {},
   "outputs": [],
   "source": [
    "submission = pd.DataFrame({\n",
    "    \"player_id\": test[\"player_id\"],\n",
    "    \"drafted\": probs\n",
    "})\n"
   ]
  },
  {
   "cell_type": "code",
   "execution_count": 99,
   "metadata": {},
   "outputs": [],
   "source": [
    "submission.to_csv(\"submission.csv\", index=False)\n"
   ]
  }
 ],
 "metadata": {
  "colab": {
   "provenance": [
    {
     "file_id": "13MHsQlFmfLuY1rWjvW73WSaDUaRPENW4",
     "timestamp": 1680399055727
    }
   ],
   "toc_visible": true
  },
  "kernelspec": {
   "display_name": "Python 3 (ipykernel)",
   "language": "python",
   "name": "python3"
  },
  "language_info": {
   "codemirror_mode": {
    "name": "ipython",
    "version": 3
   },
   "file_extension": ".py",
   "mimetype": "text/x-python",
   "name": "python",
   "nbconvert_exporter": "python",
   "pygments_lexer": "ipython3",
   "version": "3.11.4"
  }
 },
 "nbformat": 4,
 "nbformat_minor": 4
}
