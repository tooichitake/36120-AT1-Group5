{
 "cells": [
  {
   "cell_type": "code",
   "execution_count": 1,
   "id": "3f1fafc9-c2a6-480a-806c-b867eea0314e",
   "metadata": {},
   "outputs": [
    {
     "name": "stdout",
     "output_type": "stream",
     "text": [
      "100% [.....................................................................] 3934458 / 3934458"
     ]
    },
    {
     "data": {
      "text/plain": [
       "'wfh.csv'"
      ]
     },
     "execution_count": 1,
     "metadata": {},
     "output_type": "execute_result"
    }
   ],
   "source": [
    "import wget\n",
    "url = \"https://raw.githubusercontent.com/aso-uts/labs_datasets/refs/heads/main/36120-adv_mla/lab01/wfh.csv\"\n",
    "wget.download(url, \"wfh.csv\")\n",
    "\n"
   ]
  },
  {
   "cell_type": "code",
   "execution_count": 3,
   "id": "12f2483f",
   "metadata": {
    "collapsed": true,
    "jupyter": {
     "outputs_hidden": true
    }
   },
   "outputs": [
    {
     "name": "stdout",
     "output_type": "stream",
     "text": [
      "The autoreload extension is already loaded. To reload it, use:\n",
      "  %reload_ext autoreload\n"
     ]
    }
   ],
   "source": [
    "%load_ext autoreload\n",
    "%autoreload 2"
   ]
  },
  {
   "cell_type": "code",
   "execution_count": 5,
   "id": "a6fafc3a-1b84-4151-a3c3-65e9cef149e3",
   "metadata": {},
   "outputs": [],
   "source": [
    "import pandas as pd\n",
    "import numpy as np"
   ]
  },
  {
   "cell_type": "code",
   "execution_count": 6,
   "id": "d8f157f2-faa8-4d21-ba7d-d328e08f809b",
   "metadata": {},
   "outputs": [],
   "source": [
    "df = pd.read_csv('wfh.csv')"
   ]
  },
  {
   "cell_type": "code",
   "execution_count": 7,
   "id": "19e08df8-9577-4073-b2f5-32c9cf828817",
   "metadata": {},
   "outputs": [
    {
     "data": {
      "text/html": [
       "<div>\n",
       "<style scoped>\n",
       "    .dataframe tbody tr th:only-of-type {\n",
       "        vertical-align: middle;\n",
       "    }\n",
       "\n",
       "    .dataframe tbody tr th {\n",
       "        vertical-align: top;\n",
       "    }\n",
       "\n",
       "    .dataframe thead th {\n",
       "        text-align: right;\n",
       "    }\n",
       "</style>\n",
       "<table border=\"1\" class=\"dataframe\">\n",
       "  <thead>\n",
       "    <tr style=\"text-align: right;\">\n",
       "      <th></th>\n",
       "      <th>id</th>\n",
       "      <th>distance_from_office</th>\n",
       "      <th>salary_range</th>\n",
       "      <th>gas_price_per_litre</th>\n",
       "      <th>public_transportation_cost</th>\n",
       "      <th>wfh_prev_workday</th>\n",
       "      <th>workday</th>\n",
       "      <th>tenure</th>\n",
       "      <th>work_home_actual</th>\n",
       "    </tr>\n",
       "  </thead>\n",
       "  <tbody>\n",
       "    <tr>\n",
       "      <th>0</th>\n",
       "      <td>0</td>\n",
       "      <td>5.962247</td>\n",
       "      <td>40K - 60K</td>\n",
       "      <td>2.119485</td>\n",
       "      <td>8.568058</td>\n",
       "      <td>False</td>\n",
       "      <td>Friday</td>\n",
       "      <td>0.212653</td>\n",
       "      <td>1</td>\n",
       "    </tr>\n",
       "    <tr>\n",
       "      <th>1</th>\n",
       "      <td>1</td>\n",
       "      <td>0.535872</td>\n",
       "      <td>40K - 60K</td>\n",
       "      <td>2.357199</td>\n",
       "      <td>5.425382</td>\n",
       "      <td>True</td>\n",
       "      <td>Tuesday</td>\n",
       "      <td>4.927549</td>\n",
       "      <td>0</td>\n",
       "    </tr>\n",
       "    <tr>\n",
       "      <th>2</th>\n",
       "      <td>2</td>\n",
       "      <td>1.969519</td>\n",
       "      <td>40K - 60K</td>\n",
       "      <td>2.366849</td>\n",
       "      <td>8.247158</td>\n",
       "      <td>False</td>\n",
       "      <td>Monday</td>\n",
       "      <td>0.520817</td>\n",
       "      <td>1</td>\n",
       "    </tr>\n",
       "    <tr>\n",
       "      <th>3</th>\n",
       "      <td>3</td>\n",
       "      <td>2.530410</td>\n",
       "      <td>20K - 40K</td>\n",
       "      <td>2.318722</td>\n",
       "      <td>7.944251</td>\n",
       "      <td>False</td>\n",
       "      <td>Tuesday</td>\n",
       "      <td>0.453649</td>\n",
       "      <td>1</td>\n",
       "    </tr>\n",
       "    <tr>\n",
       "      <th>4</th>\n",
       "      <td>4</td>\n",
       "      <td>2.253635</td>\n",
       "      <td>60K+</td>\n",
       "      <td>2.221265</td>\n",
       "      <td>8.884478</td>\n",
       "      <td>True</td>\n",
       "      <td>Thursday</td>\n",
       "      <td>5.695263</td>\n",
       "      <td>1</td>\n",
       "    </tr>\n",
       "  </tbody>\n",
       "</table>\n",
       "</div>"
      ],
      "text/plain": [
       "   id  distance_from_office salary_range  gas_price_per_litre  \\\n",
       "0   0              5.962247    40K - 60K             2.119485   \n",
       "1   1              0.535872    40K - 60K             2.357199   \n",
       "2   2              1.969519    40K - 60K             2.366849   \n",
       "3   3              2.530410    20K - 40K             2.318722   \n",
       "4   4              2.253635         60K+             2.221265   \n",
       "\n",
       "   public_transportation_cost  wfh_prev_workday   workday    tenure  \\\n",
       "0                    8.568058             False    Friday  0.212653   \n",
       "1                    5.425382              True   Tuesday  4.927549   \n",
       "2                    8.247158             False    Monday  0.520817   \n",
       "3                    7.944251             False   Tuesday  0.453649   \n",
       "4                    8.884478              True  Thursday  5.695263   \n",
       "\n",
       "   work_home_actual  \n",
       "0                 1  \n",
       "1                 0  \n",
       "2                 1  \n",
       "3                 1  \n",
       "4                 1  "
      ]
     },
     "execution_count": 7,
     "metadata": {},
     "output_type": "execute_result"
    }
   ],
   "source": [
    "df.head()"
   ]
  },
  {
   "cell_type": "code",
   "execution_count": 8,
   "id": "6c10cd57-abda-4079-9d00-e518017d2578",
   "metadata": {},
   "outputs": [
    {
     "data": {
      "text/plain": [
       "(50000, 9)"
      ]
     },
     "execution_count": 8,
     "metadata": {},
     "output_type": "execute_result"
    }
   ],
   "source": [
    "df.shape"
   ]
  },
  {
   "cell_type": "code",
   "execution_count": 9,
   "id": "808ed175-2ec8-478b-8800-0df4862f4353",
   "metadata": {},
   "outputs": [
    {
     "name": "stdout",
     "output_type": "stream",
     "text": [
      "<class 'pandas.core.frame.DataFrame'>\n",
      "RangeIndex: 50000 entries, 0 to 49999\n",
      "Data columns (total 9 columns):\n",
      " #   Column                      Non-Null Count  Dtype  \n",
      "---  ------                      --------------  -----  \n",
      " 0   id                          50000 non-null  int64  \n",
      " 1   distance_from_office        50000 non-null  float64\n",
      " 2   salary_range                50000 non-null  object \n",
      " 3   gas_price_per_litre         50000 non-null  float64\n",
      " 4   public_transportation_cost  50000 non-null  float64\n",
      " 5   wfh_prev_workday            50000 non-null  bool   \n",
      " 6   workday                     50000 non-null  object \n",
      " 7   tenure                      50000 non-null  float64\n",
      " 8   work_home_actual            50000 non-null  int64  \n",
      "dtypes: bool(1), float64(4), int64(2), object(2)\n",
      "memory usage: 3.1+ MB\n"
     ]
    }
   ],
   "source": [
    "df.info()"
   ]
  },
  {
   "cell_type": "code",
   "execution_count": 10,
   "id": "1b4d596a-9708-4381-8dad-e3217e34a7ba",
   "metadata": {},
   "outputs": [
    {
     "data": {
      "text/html": [
       "<div>\n",
       "<style scoped>\n",
       "    .dataframe tbody tr th:only-of-type {\n",
       "        vertical-align: middle;\n",
       "    }\n",
       "\n",
       "    .dataframe tbody tr th {\n",
       "        vertical-align: top;\n",
       "    }\n",
       "\n",
       "    .dataframe thead th {\n",
       "        text-align: right;\n",
       "    }\n",
       "</style>\n",
       "<table border=\"1\" class=\"dataframe\">\n",
       "  <thead>\n",
       "    <tr style=\"text-align: right;\">\n",
       "      <th></th>\n",
       "      <th>id</th>\n",
       "      <th>distance_from_office</th>\n",
       "      <th>salary_range</th>\n",
       "      <th>gas_price_per_litre</th>\n",
       "      <th>public_transportation_cost</th>\n",
       "      <th>wfh_prev_workday</th>\n",
       "      <th>workday</th>\n",
       "      <th>tenure</th>\n",
       "      <th>work_home_actual</th>\n",
       "    </tr>\n",
       "  </thead>\n",
       "  <tbody>\n",
       "    <tr>\n",
       "      <th>count</th>\n",
       "      <td>50000.000000</td>\n",
       "      <td>50000.000000</td>\n",
       "      <td>50000</td>\n",
       "      <td>50000.000000</td>\n",
       "      <td>50000.000000</td>\n",
       "      <td>50000</td>\n",
       "      <td>50000</td>\n",
       "      <td>50000.000000</td>\n",
       "      <td>50000.000000</td>\n",
       "    </tr>\n",
       "    <tr>\n",
       "      <th>unique</th>\n",
       "      <td>NaN</td>\n",
       "      <td>NaN</td>\n",
       "      <td>4</td>\n",
       "      <td>NaN</td>\n",
       "      <td>NaN</td>\n",
       "      <td>2</td>\n",
       "      <td>5</td>\n",
       "      <td>NaN</td>\n",
       "      <td>NaN</td>\n",
       "    </tr>\n",
       "    <tr>\n",
       "      <th>top</th>\n",
       "      <td>NaN</td>\n",
       "      <td>NaN</td>\n",
       "      <td>0 - 20K</td>\n",
       "      <td>NaN</td>\n",
       "      <td>NaN</td>\n",
       "      <td>True</td>\n",
       "      <td>Wednesday</td>\n",
       "      <td>NaN</td>\n",
       "      <td>NaN</td>\n",
       "    </tr>\n",
       "    <tr>\n",
       "      <th>freq</th>\n",
       "      <td>NaN</td>\n",
       "      <td>NaN</td>\n",
       "      <td>19918</td>\n",
       "      <td>NaN</td>\n",
       "      <td>NaN</td>\n",
       "      <td>27547</td>\n",
       "      <td>10095</td>\n",
       "      <td>NaN</td>\n",
       "      <td>NaN</td>\n",
       "    </tr>\n",
       "    <tr>\n",
       "      <th>mean</th>\n",
       "      <td>24999.500000</td>\n",
       "      <td>3.929033</td>\n",
       "      <td>NaN</td>\n",
       "      <td>2.049616</td>\n",
       "      <td>7.323907</td>\n",
       "      <td>NaN</td>\n",
       "      <td>NaN</td>\n",
       "      <td>4.600040</td>\n",
       "      <td>0.499580</td>\n",
       "    </tr>\n",
       "    <tr>\n",
       "      <th>std</th>\n",
       "      <td>14433.901067</td>\n",
       "      <td>4.079528</td>\n",
       "      <td>NaN</td>\n",
       "      <td>0.334385</td>\n",
       "      <td>1.630390</td>\n",
       "      <td>NaN</td>\n",
       "      <td>NaN</td>\n",
       "      <td>2.301937</td>\n",
       "      <td>0.500005</td>\n",
       "    </tr>\n",
       "    <tr>\n",
       "      <th>min</th>\n",
       "      <td>0.000000</td>\n",
       "      <td>0.002210</td>\n",
       "      <td>NaN</td>\n",
       "      <td>1.400369</td>\n",
       "      <td>4.003417</td>\n",
       "      <td>NaN</td>\n",
       "      <td>NaN</td>\n",
       "      <td>0.002253</td>\n",
       "      <td>0.000000</td>\n",
       "    </tr>\n",
       "    <tr>\n",
       "      <th>25%</th>\n",
       "      <td>12499.750000</td>\n",
       "      <td>0.897909</td>\n",
       "      <td>NaN</td>\n",
       "      <td>1.769163</td>\n",
       "      <td>6.109763</td>\n",
       "      <td>NaN</td>\n",
       "      <td>NaN</td>\n",
       "      <td>2.797947</td>\n",
       "      <td>0.000000</td>\n",
       "    </tr>\n",
       "    <tr>\n",
       "      <th>50%</th>\n",
       "      <td>24999.500000</td>\n",
       "      <td>2.380855</td>\n",
       "      <td>NaN</td>\n",
       "      <td>2.189073</td>\n",
       "      <td>8.074422</td>\n",
       "      <td>NaN</td>\n",
       "      <td>NaN</td>\n",
       "      <td>5.584845</td>\n",
       "      <td>0.000000</td>\n",
       "    </tr>\n",
       "    <tr>\n",
       "      <th>75%</th>\n",
       "      <td>37499.250000</td>\n",
       "      <td>5.679015</td>\n",
       "      <td>NaN</td>\n",
       "      <td>2.337894</td>\n",
       "      <td>8.627489</td>\n",
       "      <td>NaN</td>\n",
       "      <td>NaN</td>\n",
       "      <td>6.531917</td>\n",
       "      <td>1.000000</td>\n",
       "    </tr>\n",
       "    <tr>\n",
       "      <th>max</th>\n",
       "      <td>49999.000000</td>\n",
       "      <td>19.912896</td>\n",
       "      <td>NaN</td>\n",
       "      <td>2.399916</td>\n",
       "      <td>8.998112</td>\n",
       "      <td>NaN</td>\n",
       "      <td>NaN</td>\n",
       "      <td>6.997167</td>\n",
       "      <td>1.000000</td>\n",
       "    </tr>\n",
       "  </tbody>\n",
       "</table>\n",
       "</div>"
      ],
      "text/plain": [
       "                  id  distance_from_office salary_range  gas_price_per_litre  \\\n",
       "count   50000.000000          50000.000000        50000         50000.000000   \n",
       "unique           NaN                   NaN            4                  NaN   \n",
       "top              NaN                   NaN      0 - 20K                  NaN   \n",
       "freq             NaN                   NaN        19918                  NaN   \n",
       "mean    24999.500000              3.929033          NaN             2.049616   \n",
       "std     14433.901067              4.079528          NaN             0.334385   \n",
       "min         0.000000              0.002210          NaN             1.400369   \n",
       "25%     12499.750000              0.897909          NaN             1.769163   \n",
       "50%     24999.500000              2.380855          NaN             2.189073   \n",
       "75%     37499.250000              5.679015          NaN             2.337894   \n",
       "max     49999.000000             19.912896          NaN             2.399916   \n",
       "\n",
       "        public_transportation_cost wfh_prev_workday    workday        tenure  \\\n",
       "count                 50000.000000            50000      50000  50000.000000   \n",
       "unique                         NaN                2          5           NaN   \n",
       "top                            NaN             True  Wednesday           NaN   \n",
       "freq                           NaN            27547      10095           NaN   \n",
       "mean                      7.323907              NaN        NaN      4.600040   \n",
       "std                       1.630390              NaN        NaN      2.301937   \n",
       "min                       4.003417              NaN        NaN      0.002253   \n",
       "25%                       6.109763              NaN        NaN      2.797947   \n",
       "50%                       8.074422              NaN        NaN      5.584845   \n",
       "75%                       8.627489              NaN        NaN      6.531917   \n",
       "max                       8.998112              NaN        NaN      6.997167   \n",
       "\n",
       "        work_home_actual  \n",
       "count       50000.000000  \n",
       "unique               NaN  \n",
       "top                  NaN  \n",
       "freq                 NaN  \n",
       "mean            0.499580  \n",
       "std             0.500005  \n",
       "min             0.000000  \n",
       "25%             0.000000  \n",
       "50%             0.000000  \n",
       "75%             1.000000  \n",
       "max             1.000000  "
      ]
     },
     "execution_count": 10,
     "metadata": {},
     "output_type": "execute_result"
    }
   ],
   "source": [
    "df.describe(include=\"all\")"
   ]
  },
  {
   "cell_type": "code",
   "execution_count": 11,
   "id": "5ff1d863-2aff-442f-b85a-a79b13e51708",
   "metadata": {},
   "outputs": [],
   "source": [
    "df_cleaned = df.copy()"
   ]
  },
  {
   "cell_type": "code",
   "execution_count": 12,
   "id": "d2b319c3-d9d7-4889-b63d-170dd035fc72",
   "metadata": {},
   "outputs": [],
   "source": [
    "y = df_cleaned.pop('work_home_actual')"
   ]
  },
  {
   "cell_type": "code",
   "execution_count": 13,
   "id": "d881396c-9116-4456-82bc-47722f54f174",
   "metadata": {},
   "outputs": [],
   "source": [
    "from sklearn.preprocessing import OrdinalEncoder"
   ]
  },
  {
   "cell_type": "code",
   "execution_count": null,
   "id": "946a18dd-84c4-4a02-b351-4a59103ea74a",
   "metadata": {},
   "outputs": [],
   "source": []
  }
 ],
 "metadata": {
  "kernelspec": {
   "display_name": "Python 3 (ipykernel)",
   "language": "python",
   "name": "python3"
  },
  "language_info": {
   "codemirror_mode": {
    "name": "ipython",
    "version": 3
   },
   "file_extension": ".py",
   "mimetype": "text/x-python",
   "name": "python",
   "nbconvert_exporter": "python",
   "pygments_lexer": "ipython3",
   "version": "3.11.4"
  }
 },
 "nbformat": 4,
 "nbformat_minor": 5
}
