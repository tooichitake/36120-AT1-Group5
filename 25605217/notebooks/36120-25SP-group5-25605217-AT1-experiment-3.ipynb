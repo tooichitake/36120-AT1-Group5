{
 "cells": [
  {
   "cell_type": "markdown",
   "metadata": {
    "id": "uQ6wc2HE0pke"
   },
   "source": [
    "# **Experiment Notebook**\n",
    "\n"
   ]
  },
  {
   "cell_type": "code",
   "source": [
    "# Do not modify this code\n",
    "!pip install -q utstd\n",
    "\n",
    "from utstd.ipyrenders import *"
   ],
   "metadata": {
    "id": "qNOA146K2c6f"
   },
   "execution_count": null,
   "outputs": []
  },
  {
   "cell_type": "code",
   "source": [
    "# Do not modify this code\n",
    "import warnings\n",
    "warnings.simplefilter(action='ignore')"
   ],
   "metadata": {
    "id": "6FneOmBfka9G"
   },
   "execution_count": null,
   "outputs": []
  },
  {
   "cell_type": "markdown",
   "source": [
    "## 0. Import Packages"
   ],
   "metadata": {
    "id": "mXFKfa2tp1ch"
   }
  },
  {
   "cell_type": "code",
   "source": "# <Student to fill this section>\nimport pandas as pd\nimport numpy as np\nfrom sklearn.ensemble import RandomForestClassifier\nimport optuna\nimport warnings\nwarnings.filterwarnings('ignore')\n\n# Import visualization libraries\nimport matplotlib.pyplot as plt\nimport seaborn as sns\n\n# Import custom modules from basketball_draft_prediction\nimport sys\nsys.path.append('..')\nfrom basketball_draft_prediction import dataset, features, visualization\nfrom basketball_draft_prediction.modeling import train, predict\n\n# Set style for beautiful visualizations\nvisualization.set_visualization_style()",
   "metadata": {
    "id": "GBEAwdncnlAx"
   },
   "execution_count": null,
   "outputs": []
  },
  {
   "cell_type": "markdown",
   "metadata": {
    "id": "tQgxLRrvjiJb"
   },
   "source": [
    "---\n",
    "## A. Project Description\n"
   ]
  },
  {
   "cell_type": "code",
   "source": [
    "# <Student to fill this section>",
    "student_name = \"Zhiyuan Zhao\"",
    "student_id = \"25605217\"",
    "group_id = \"5\" "
   ],
   "metadata": {
    "id": "Je1EzzfFD5hj"
   },
   "execution_count": null,
   "outputs": []
  },
  {
   "cell_type": "code",
   "source": [
    "# Do not modify this code\n",
    "print_tile(size=\"h1\", key='student_name', value=student_name)"
   ],
   "metadata": {
    "id": "pdKiYvFWD5my"
   },
   "execution_count": null,
   "outputs": []
  },
  {
   "cell_type": "code",
   "source": [
    "# Do not modify this code\n",
    "print_tile(size=\"h1\", key='student_id', value=student_id)"
   ],
   "metadata": {
    "id": "9KTEbRjqD5o_"
   },
   "execution_count": null,
   "outputs": []
  },
  {
   "cell_type": "code",
   "source": [
    "# Do not modify this code\n",
    "print_tile(size=\"h1\", key='group_id', value=group_id)"
   ],
   "metadata": {
    "id": "UKRt4jK6rInY"
   },
   "execution_count": null,
   "outputs": []
  },
  {
   "cell_type": "markdown",
   "source": [
    "---\n",
    "## B. Business Understanding"
   ],
   "metadata": {
    "id": "4q1Bzcejvfpm"
   }
  },
  {
   "cell_type": "code",
   "source": [
    "# <Student to fill this section>",
    "business_use_case_description = \"\"\"",
    "This project aims to build a robust Random Forest model to predict NBA draft prospects from college ",
    "basketball players. The Random Forest approach provides interpretable feature importance rankings that ",
    "can help scouts understand which player attributes are most predictive of draft success. This ensemble ",
    "method's robustness to outliers and ability to capture non-linear relationships makes it ideal for ",
    "basketball analytics where player performance can vary significantly.",
    "\"\"\" "
   ],
   "metadata": {
    "id": "Mmo6apC9EEv8"
   },
   "execution_count": null,
   "outputs": []
  },
  {
   "cell_type": "code",
   "source": [
    "# Do not modify this code\n",
    "print_tile(size=\"h3\", key='business_use_case_description', value=business_use_case_description)"
   ],
   "metadata": {
    "id": "bgb0DkG2EE2e"
   },
   "execution_count": null,
   "outputs": []
  },
  {
   "cell_type": "code",
   "source": [
    "# <Student to fill this section>",
    "business_objectives = \"\"\"",
    "The Random Forest model will deliver:",
    "1. Robust predictions that are less sensitive to outliers in player statistics",
    "2. Clear feature importance rankings to guide scouting focus areas",
    "3. Reduced overfitting through ensemble averaging",
    "4. Ability to identify complex interaction effects between player attributes",
    "",
    "Impact of Results:",
    "- Accurate: Teams can confidently allocate scouting resources and make draft decisions",
    "- Inaccurate: May lead to poor draft choices affecting team performance for 3-5 years",
    "- The interpretability of Random Forest helps build trust with non-technical stakeholders",
    "\"\"\" "
   ],
   "metadata": {
    "id": "29Yqk3d2EE8q"
   },
   "execution_count": null,
   "outputs": []
  },
  {
   "cell_type": "code",
   "source": [
    "# Do not modify this code\n",
    "print_tile(size=\"h3\", key='business_objectives', value=business_objectives)"
   ],
   "metadata": {
    "id": "sSu_8J96EFDs"
   },
   "execution_count": null,
   "outputs": []
  },
  {
   "cell_type": "code",
   "source": [
    "# <Student to fill this section>",
    "stakeholders_expectations_explanations = \"\"\"",
    "Key Stakeholders and Their Needs:",
    "1. NBA Front Office: Need reliable predictions with explanations for draft board rankings",
    "2. Scouting Department: Require feature importance to focus evaluation efforts",
    "3. Analytics Teams: Want robust models that generalize well to new seasons",
    "4. Player Development: Use predictions to identify development priorities",
    "",
    "The Random Forest model's feature importance rankings are particularly valuable for ",
    "scouts who need to know which skills to evaluate most carefully during game observations.",
    "\"\"\" "
   ],
   "metadata": {
    "id": "Hf4ThY5cEF5W"
   },
   "execution_count": null,
   "outputs": []
  },
  {
   "cell_type": "code",
   "source": [
    "# Do not modify this code\n",
    "print_tile(size=\"h3\", key='stakeholders_expectations_explanations', value=stakeholders_expectations_explanations)"
   ],
   "metadata": {
    "id": "jH9a2X70EF8M"
   },
   "execution_count": null,
   "outputs": []
  },
  {
   "cell_type": "markdown",
   "source": [
    "---\n",
    "## C. Data Understanding"
   ],
   "metadata": {
    "id": "P0zsEPshwy1K"
   }
  },
  {
   "cell_type": "markdown",
   "source": [
    "### C.1   Load Datasets\n"
   ],
   "metadata": {
    "id": "sGMWhKSbUl63"
   }
  },
  {
   "cell_type": "code",
   "source": [
    "# <Student to fill this section>\n"
   ],
   "metadata": {
    "id": "NKgOzSn-w0eq"
   },
   "execution_count": null,
   "outputs": []
  },
  {
   "cell_type": "markdown",
   "source": [
    "### C.2 Define Target variable"
   ],
   "metadata": {
    "id": "tpG_mos_EXrY"
   }
  },
  {
   "cell_type": "code",
   "source": [
    "# <Student to fill this section>\n"
   ],
   "metadata": {
    "id": "gsQkuxYLVHb1"
   },
   "execution_count": null,
   "outputs": []
  },
  {
   "cell_type": "code",
   "source": [],
   "metadata": {
    "id": "4Z0I4L_cVITG"
   },
   "execution_count": null,
   "outputs": []
  },
  {
   "cell_type": "code",
   "source": [
    "# <Student to fill this section>",
    "target_definition_explanations = \"\"\"",
    "Binary classification target 'drafted':",
    "- Value 1: Player selected in NBA draft (any round)",
    "- Value 0: Player went undrafted",
    "",
    "This binary approach simplifies the complex draft process into a fundamental decision ",
    "that aligns with the primary scouting question. The Random Forest model can handle the ",
    "class imbalance naturally through its bootstrap sampling process.",
    "\"\"\" "
   ],
   "metadata": {
    "id": "RiqBkEQ-EjIZ"
   },
   "execution_count": null,
   "outputs": []
  },
  {
   "cell_type": "code",
   "source": [
    "# Do not modify this code\n",
    "print_tile(size=\"h3\", key='target_definition_explanations', value=target_definition_explanations)"
   ],
   "metadata": {
    "id": "qdeiAKiIElvG"
   },
   "execution_count": null,
   "outputs": []
  },
  {
   "cell_type": "markdown",
   "source": [
    "### C.3 Create Target variable"
   ],
   "metadata": {
    "id": "CtIfwnLmEn51"
   }
  },
  {
   "cell_type": "code",
   "source": [
    "# <Student to fill this section>\n",
    "\n",
    "target_name = ''"
   ],
   "metadata": {
    "id": "XV8dRa59EpLG"
   },
   "execution_count": null,
   "outputs": []
  },
  {
   "cell_type": "markdown",
   "source": [
    "### C.4 Explore Target variable"
   ],
   "metadata": {
    "id": "dmSKLrSBFAN5"
   }
  },
  {
   "cell_type": "code",
   "source": [
    "# <Student to fill this section>\n"
   ],
   "metadata": {
    "id": "zeldOL0KFC4E"
   },
   "execution_count": null,
   "outputs": []
  },
  {
   "cell_type": "code",
   "source": [],
   "metadata": {
    "id": "DBocSNWvVFCU"
   },
   "execution_count": null,
   "outputs": []
  },
  {
   "cell_type": "code",
   "source": [
    "# <Student to fill this section>\n",
    "target_distribution_explanations = \"\"\"\n",
    "provide a detailed analysis on the target variable, its distribution, limitations, issues, ...\n",
    "\"\"\""
   ],
   "metadata": {
    "id": "5I9ccv-UEr5o"
   },
   "execution_count": null,
   "outputs": []
  },
  {
   "cell_type": "code",
   "source": [
    "# Do not modify this code\n",
    "print_tile(size=\"h3\", key='target_distribution_explanations', value=target_distribution_explanations)"
   ],
   "metadata": {
    "id": "i45S7xA9EtEV"
   },
   "execution_count": null,
   "outputs": []
  },
  {
   "cell_type": "markdown",
   "source": [
    "### C.5 Explore Feature of Interest `\\<put feature name here\\>`"
   ],
   "metadata": {
    "id": "37ubEa7SFWXo"
   }
  },
  {
   "cell_type": "code",
   "source": [
    "# <Student to fill this section>"
   ],
   "metadata": {
    "id": "wV9Ldx0gFWks"
   },
   "execution_count": null,
   "outputs": []
  },
  {
   "cell_type": "code",
   "source": [],
   "metadata": {
    "id": "JJxanj3EVERJ"
   },
   "execution_count": null,
   "outputs": []
  },
  {
   "cell_type": "code",
   "source": [
    "# <Student to fill this section>\n",
    "feature_1_insights = \"\"\"\n",
    "provide a detailed analysis on the selected feature, its distribution, limitations, issues, ...\n",
    "\"\"\""
   ],
   "metadata": {
    "id": "y4YLcn_eEyAe"
   },
   "execution_count": null,
   "outputs": []
  },
  {
   "cell_type": "code",
   "source": [
    "# Do not modify this code\n",
    "print_tile(size=\"h3\", key='feature_1_insights', value=feature_1_insights)"
   ],
   "metadata": {
    "id": "2r1knRxDEyC0"
   },
   "execution_count": null,
   "outputs": []
  },
  {
   "cell_type": "markdown",
   "source": [
    "### C.6 Explore Feature of Interest `\\<put feature name here\\>`"
   ],
   "metadata": {
    "id": "WOqd56IjE0LB"
   }
  },
  {
   "cell_type": "code",
   "source": [
    "# <Student to fill this section>"
   ],
   "metadata": {
    "id": "akQFJsI3E2eM"
   },
   "execution_count": null,
   "outputs": []
  },
  {
   "cell_type": "code",
   "source": [
    "# <Student to fill this section>\n",
    "feature_2_insights = \"\"\"\n",
    "provide a detailed analysis on the selected feature, its distribution, limitations, issues, ...\n",
    "\"\"\""
   ],
   "metadata": {
    "id": "u-CfAsO1E2hB"
   },
   "execution_count": null,
   "outputs": []
  },
  {
   "cell_type": "code",
   "source": [
    "# Do not modify this code\n",
    "print_tile(size=\"h3\", key='feature_2_insights', value=feature_2_insights)"
   ],
   "metadata": {
    "id": "bB87lgCAE2jf"
   },
   "execution_count": null,
   "outputs": []
  },
  {
   "cell_type": "markdown",
   "source": [
    "### C.6 Explore Feature of Interest `\\<put feature name here\\>`\n"
   ],
   "metadata": {
    "id": "-8J_tiLgE26i"
   }
  },
  {
   "cell_type": "code",
   "source": [
    "# <Student to fill this section>"
   ],
   "metadata": {
    "id": "qeyyEgIrE6GB"
   },
   "execution_count": null,
   "outputs": []
  },
  {
   "cell_type": "code",
   "source": [],
   "metadata": {
    "id": "ie8xl4AfVPU7"
   },
   "execution_count": null,
   "outputs": []
  },
  {
   "cell_type": "code",
   "source": [
    "# <Student to fill this section>\n",
    "feature_n_insights = \"\"\"\n",
    "provide a detailed analysis on the selected feature, its distribution, limitations, issues, ...\n",
    "\"\"\""
   ],
   "metadata": {
    "id": "_Vlh8usmE6In"
   },
   "execution_count": null,
   "outputs": []
  },
  {
   "cell_type": "code",
   "source": [
    "# Do not modify this code\n",
    "print_tile(size=\"h3\", key='feature_n_insights', value=feature_n_insights)"
   ],
   "metadata": {
    "id": "BNZGN3nrE6LJ"
   },
   "execution_count": null,
   "outputs": []
  },
  {
   "cell_type": "markdown",
   "source": [
    "### C.n Explore Feature of Interest `\\<put feature name here\\>`\n",
    "\n",
    "> You can add more cells related to other feeatures in this section"
   ],
   "metadata": {
    "id": "ZcjaUGQ_VbVQ"
   }
  },
  {
   "cell_type": "code",
   "source": [],
   "metadata": {
    "id": "Z_DwQMvDVbfA"
   },
   "execution_count": null,
   "outputs": []
  },
  {
   "cell_type": "code",
   "source": [],
   "metadata": {
    "id": "4P8cUfkCVbic"
   },
   "execution_count": null,
   "outputs": []
  },
  {
   "cell_type": "markdown",
   "metadata": {
    "id": "_NCwQQFkU3v5"
   },
   "source": [
    "---\n",
    "## D. Feature Selection\n"
   ]
  },
  {
   "cell_type": "markdown",
   "source": [
    "### D.1 Approach \"\\<describe_approach_here\\>\"\n"
   ],
   "metadata": {
    "id": "0b8C9WON3Toe"
   }
  },
  {
   "cell_type": "code",
   "source": [
    "# <Student to fill this section>"
   ],
   "metadata": {
    "id": "zfC-DLKv4AuM"
   },
   "execution_count": null,
   "outputs": []
  },
  {
   "cell_type": "code",
   "source": [],
   "metadata": {
    "id": "J2_6it8iViBX"
   },
   "execution_count": null,
   "outputs": []
  },
  {
   "cell_type": "code",
   "source": [
    "# <Student to fill this section>\n",
    "feature_selection_1_insights = \"\"\"\n",
    "provide an explanation on why you use this approach for feature selection and describe its results\n",
    "\"\"\""
   ],
   "metadata": {
    "id": "Z9myLlFZFQXj"
   },
   "execution_count": null,
   "outputs": []
  },
  {
   "cell_type": "code",
   "source": [
    "# Do not modify this code\n",
    "print_tile(size=\"h3\", key='feature_selection_1_insights', value=feature_selection_1_insights)"
   ],
   "metadata": {
    "id": "937YFeqDFQgB"
   },
   "execution_count": null,
   "outputs": []
  },
  {
   "cell_type": "markdown",
   "source": [
    "### D.2 Approach \"\\<describe_approach_here\\>\"\n"
   ],
   "metadata": {
    "id": "jqRcgUqu3ZuV"
   }
  },
  {
   "cell_type": "code",
   "source": [
    "# <Student to fill this section>"
   ],
   "metadata": {
    "id": "dAPSiwcg3aJC"
   },
   "execution_count": null,
   "outputs": []
  },
  {
   "cell_type": "code",
   "source": [],
   "metadata": {
    "id": "Ps25nfue3bL8"
   },
   "execution_count": null,
   "outputs": []
  },
  {
   "cell_type": "code",
   "source": [
    "# <Student to fill this section>\n",
    "feature_selection_2_insights = \"\"\"\n",
    "provide an explanation on why you use this approach for feature selection and describe its results\n",
    "\"\"\""
   ],
   "metadata": {
    "id": "CpQQodTW3a9v"
   },
   "execution_count": null,
   "outputs": []
  },
  {
   "cell_type": "code",
   "source": [
    "# Do not modify this code\n",
    "print_tile(size=\"h3\", key='feature_selection_2_insights', value=feature_selection_2_insights)"
   ],
   "metadata": {
    "id": "HjN2qhDb3a0G"
   },
   "execution_count": null,
   "outputs": []
  },
  {
   "cell_type": "markdown",
   "source": [
    "### D.n Approach \"\\<describe_approach_here\\>\"\n",
    "\n",
    "> You can add more cells related to other approaches in this section"
   ],
   "metadata": {
    "id": "6sK5poaV3hny"
   }
  },
  {
   "cell_type": "code",
   "source": [],
   "metadata": {
    "id": "AatlZepC3h_D"
   },
   "execution_count": null,
   "outputs": []
  },
  {
   "cell_type": "markdown",
   "source": [
    "## D.z Final Selection of Features"
   ],
   "metadata": {
    "id": "gS5-tS8_3ryn"
   }
  },
  {
   "cell_type": "code",
   "source": [
    "# <Student to fill this section>\n",
    "\n",
    "features_list = []"
   ],
   "metadata": {
    "id": "zYY4u2063ioF"
   },
   "execution_count": null,
   "outputs": []
  },
  {
   "cell_type": "code",
   "source": [],
   "metadata": {
    "id": "-Blv0kUV3ib2"
   },
   "execution_count": null,
   "outputs": []
  },
  {
   "cell_type": "code",
   "source": [
    "# <Student to fill this section>\n",
    "feature_selection_explanations = \"\"\"\n",
    "provide a quick explanation on the features selected\n",
    "\"\"\""
   ],
   "metadata": {
    "id": "-pxVH1r63vqu"
   },
   "execution_count": null,
   "outputs": []
  },
  {
   "cell_type": "code",
   "source": [
    "# Do not modify this code\n",
    "print_tile(size=\"h3\", key='feature_selection_explanations', value=feature_selection_explanations)"
   ],
   "metadata": {
    "id": "rHluIUmR3iO3"
   },
   "execution_count": null,
   "outputs": []
  },
  {
   "cell_type": "markdown",
   "source": [
    "---\n",
    "## E. Data Preparation"
   ],
   "metadata": {
    "id": "j-nNSpJK0Rgu"
   }
  },
  {
   "cell_type": "markdown",
   "source": [
    "### E.1 Data Transformation <put_name_here>"
   ],
   "metadata": {
    "id": "EDtRq1990rcW"
   }
  },
  {
   "cell_type": "code",
   "source": [
    "# <Student to fill this section>"
   ],
   "metadata": {
    "id": "AZN0u9DD0v5X"
   },
   "execution_count": null,
   "outputs": []
  },
  {
   "cell_type": "code",
   "source": [],
   "metadata": {
    "id": "MjdmojP6Vp6G"
   },
   "execution_count": null,
   "outputs": []
  },
  {
   "cell_type": "code",
   "source": [
    "# <Student to fill this section>\n",
    "data_cleaning_1_explanations = \"\"\"\n",
    "Provide some explanations on why you believe it is important to fix this issue and its impacts\n",
    "\"\"\""
   ],
   "metadata": {
    "id": "eQGXvLtkFU9L"
   },
   "execution_count": null,
   "outputs": []
  },
  {
   "cell_type": "code",
   "source": [
    "# Do not modify this code\n",
    "print_tile(size=\"h3\", key='data_cleaning_1_explanations', value=data_cleaning_1_explanations)"
   ],
   "metadata": {
    "id": "MPuYme1uFU_4"
   },
   "execution_count": null,
   "outputs": []
  },
  {
   "cell_type": "markdown",
   "source": [
    "### E.2 Data Transformation <put_name_here>"
   ],
   "metadata": {
    "id": "SxhDoAkw08Eb"
   }
  },
  {
   "cell_type": "code",
   "source": [
    "# <Student to fill this section>"
   ],
   "metadata": {
    "id": "OO5ITMDZ035_"
   },
   "execution_count": null,
   "outputs": []
  },
  {
   "cell_type": "code",
   "source": [],
   "metadata": {
    "id": "4OlbuimwVqjd"
   },
   "execution_count": null,
   "outputs": []
  },
  {
   "cell_type": "code",
   "source": [
    "# <Student to fill this section>\n",
    "data_cleaning_2_explanations = \"\"\"\n",
    "Provide some explanations on why you believe it is important to fix this issue and its impacts\n",
    "\"\"\""
   ],
   "metadata": {
    "id": "NoQ6IWoFFb1y"
   },
   "execution_count": null,
   "outputs": []
  },
  {
   "cell_type": "code",
   "source": [
    "# Do not modify this code\n",
    "print_tile(size=\"h3\", key='data_cleaning_2_explanations', value=data_cleaning_2_explanations)"
   ],
   "metadata": {
    "id": "n1NG6O-jFdOE"
   },
   "execution_count": null,
   "outputs": []
  },
  {
   "cell_type": "markdown",
   "source": [
    "### E.3 Data Transformation <put_name_here>"
   ],
   "metadata": {
    "id": "ylQxO-4g03qH"
   }
  },
  {
   "cell_type": "code",
   "source": [
    "# <Student to fill this section>"
   ],
   "metadata": {
    "id": "5VymIZpS1Ch7"
   },
   "execution_count": null,
   "outputs": []
  },
  {
   "cell_type": "code",
   "source": [],
   "metadata": {
    "id": "eGB_A6UsVu81"
   },
   "execution_count": null,
   "outputs": []
  },
  {
   "cell_type": "code",
   "source": [
    "# <Student to fill this section>\n",
    "data_cleaning_3_explanations = \"\"\"\n",
    "Provide some explanations on why you believe it is important to fix this issue and its impacts\n",
    "\"\"\""
   ],
   "metadata": {
    "id": "BHo46tqSFibl"
   },
   "execution_count": null,
   "outputs": []
  },
  {
   "cell_type": "code",
   "source": [
    "# Do not modify this code\n",
    "print_tile(size=\"h3\", key='data_cleaning_3_explanations', value=data_cleaning_3_explanations)"
   ],
   "metadata": {
    "id": "D1BIohZLFiiM"
   },
   "execution_count": null,
   "outputs": []
  },
  {
   "cell_type": "markdown",
   "source": [
    "### E.n Fixing \"\\<describe_issue_here\\>\"\n",
    "\n",
    "> You can add more cells related to other issues in this section"
   ],
   "metadata": {
    "id": "w8pDuIcQVxgf"
   }
  },
  {
   "cell_type": "code",
   "source": [],
   "metadata": {
    "id": "L7MGT74hVxm2"
   },
   "execution_count": null,
   "outputs": []
  },
  {
   "cell_type": "code",
   "source": [],
   "metadata": {
    "id": "_x2xJAZ7Vxpb"
   },
   "execution_count": null,
   "outputs": []
  },
  {
   "cell_type": "markdown",
   "source": [
    "---\n",
    "## F. Feature Engineering"
   ],
   "metadata": {
    "id": "S80O7okb0RIx"
   }
  },
  {
   "cell_type": "markdown",
   "source": [
    "### F.1 New Feature \"\\<put_name_here\\>\"\n"
   ],
   "metadata": {
    "id": "Kst7h7wp1MFK"
   }
  },
  {
   "cell_type": "code",
   "source": [
    "# <Student to fill this section>"
   ],
   "metadata": {
    "id": "f_wsc2n-1Mdm"
   },
   "execution_count": null,
   "outputs": []
  },
  {
   "cell_type": "code",
   "source": [],
   "metadata": {
    "id": "d7k_4Q_UV2vi"
   },
   "execution_count": null,
   "outputs": []
  },
  {
   "cell_type": "code",
   "source": [
    "# <Student to fill this section>\n",
    "feature_engineering_1_explanations = \"\"\"\n",
    "Provide some explanations on why you believe it is important to create this feature and its impacts\n",
    "\"\"\""
   ],
   "metadata": {
    "id": "hezUX-UgFpQf"
   },
   "execution_count": null,
   "outputs": []
  },
  {
   "cell_type": "code",
   "source": [
    "# Do not modify this code\n",
    "print_tile(size=\"h3\", key='feature_engineering_1_explanations', value=feature_engineering_1_explanations)"
   ],
   "metadata": {
    "id": "AKIFmqwVFpTA"
   },
   "execution_count": null,
   "outputs": []
  },
  {
   "cell_type": "markdown",
   "source": [
    "### F.2 New Feature \"\\<put_name_here\\>\"\n",
    "\n",
    "\n"
   ],
   "metadata": {
    "id": "xY_hWhC71XAl"
   }
  },
  {
   "cell_type": "code",
   "source": [
    "# <Student to fill this section>"
   ],
   "metadata": {
    "id": "F3DhQoJZ1Xvw"
   },
   "execution_count": null,
   "outputs": []
  },
  {
   "cell_type": "code",
   "source": [
    "# <Student to fill this section>\n",
    "feature_engineering_2_explanations = \"\"\"\n",
    "Provide some explanations on why you believe it is important to create this feature and its impacts\n",
    "\"\"\""
   ],
   "metadata": {
    "id": "ac-MNGsmFtaH"
   },
   "execution_count": null,
   "outputs": []
  },
  {
   "cell_type": "code",
   "source": [
    "# Do not modify this code\n",
    "print_tile(size=\"h3\", key='feature_engineering_2_explanations', value=feature_engineering_2_explanations)"
   ],
   "metadata": {
    "id": "xapPh0YfFtca"
   },
   "execution_count": null,
   "outputs": []
  },
  {
   "cell_type": "markdown",
   "source": [
    "### F.3 New Feature \"\\<put_name_here\\>\"\n",
    "\n",
    "> Provide some explanations on why you believe it is important to create this feature and its impacts\n",
    "\n"
   ],
   "metadata": {
    "id": "w0Fhn4271gVu"
   }
  },
  {
   "cell_type": "code",
   "source": [
    "# <Student to fill this section>"
   ],
   "metadata": {
    "id": "N6wBdmYD1g6c"
   },
   "execution_count": null,
   "outputs": []
  },
  {
   "cell_type": "code",
   "source": [],
   "metadata": {
    "id": "ffmW_bKwV6nX"
   },
   "execution_count": null,
   "outputs": []
  },
  {
   "cell_type": "code",
   "source": [
    "# <Student to fill this section>\n",
    "feature_engineering_n_explanations = \"\"\"\n",
    "Provide some explanations on why you believe it is important to create this feature and its impacts\n",
    "\"\"\""
   ],
   "metadata": {
    "id": "Z3gtyjmKFzCK"
   },
   "execution_count": null,
   "outputs": []
  },
  {
   "cell_type": "code",
   "source": [
    "# Do not modify this code\n",
    "print_tile(size=\"h3\", key='feature_engineering_n_explanations', value=feature_engineering_n_explanations)"
   ],
   "metadata": {
    "id": "7nMfjzkbFzFj"
   },
   "execution_count": null,
   "outputs": []
  },
  {
   "cell_type": "markdown",
   "source": [
    "### F.n Fixing \"\\<describe_issue_here\\>\"\n",
    "\n",
    "> You can add more cells related to new features in this section"
   ],
   "metadata": {
    "id": "_NHBVVRxV-CC"
   }
  },
  {
   "cell_type": "code",
   "source": [],
   "metadata": {
    "id": "8x4jHVxnV-Gm"
   },
   "execution_count": null,
   "outputs": []
  },
  {
   "cell_type": "code",
   "source": [],
   "metadata": {
    "id": "eAl_-gx3V-JT"
   },
   "execution_count": null,
   "outputs": []
  },
  {
   "cell_type": "markdown",
   "metadata": {
    "id": "N8MNBrC4Zgz6"
   },
   "source": [
    "---\n",
    "## G. Data Preparation for Modeling"
   ]
  },
  {
   "cell_type": "markdown",
   "source": [
    "### G.1 Split Datasets"
   ],
   "metadata": {
    "id": "HbpTjW2GGkd8"
   }
  },
  {
   "cell_type": "code",
   "source": [
    "# <Student to fill this section>"
   ],
   "metadata": {
    "id": "kcJ8_kh6Gnjl"
   },
   "execution_count": null,
   "outputs": []
  },
  {
   "cell_type": "code",
   "source": [],
   "metadata": {
    "id": "tyVDHxW4WBGP"
   },
   "execution_count": null,
   "outputs": []
  },
  {
   "cell_type": "code",
   "source": [
    "# <Student to fill this section>\n",
    "data_splitting_explanations = \"\"\"\n",
    "Provide some explanations on what is the best strategy to use for data splitting for this dataset\n",
    "\"\"\""
   ],
   "metadata": {
    "id": "dkvHE5g4F3IZ"
   },
   "execution_count": null,
   "outputs": []
  },
  {
   "cell_type": "code",
   "source": [
    "# Do not modify this code\n",
    "print_tile(size=\"h3\", key='data_splitting_explanations', value=data_splitting_explanations)"
   ],
   "metadata": {
    "id": "vx4_g0pLF3Lg"
   },
   "execution_count": null,
   "outputs": []
  },
  {
   "cell_type": "markdown",
   "source": [
    "### G.2 Data Transformation \"\\<put_name_here\\>\""
   ],
   "metadata": {
    "id": "JHJ25iRRG1Gb"
   }
  },
  {
   "cell_type": "code",
   "source": [
    "# <Student to fill this section>"
   ],
   "metadata": {
    "id": "_PIDyg9OG17x"
   },
   "execution_count": null,
   "outputs": []
  },
  {
   "cell_type": "code",
   "source": [],
   "metadata": {
    "id": "Zy6_m4G2WFN5"
   },
   "execution_count": null,
   "outputs": []
  },
  {
   "cell_type": "code",
   "source": [
    "# <Student to fill this section>\n",
    "data_transformation_1_explanations = \"\"\"\n",
    "Provide some explanations on why you believe it is important to perform this data transformation and its impacts\n",
    "\"\"\""
   ],
   "metadata": {
    "id": "XbWWDBacGn9n"
   },
   "execution_count": null,
   "outputs": []
  },
  {
   "cell_type": "code",
   "source": [
    "# Do not modify this code\n",
    "print_tile(size=\"h3\", key='data_transformation_1_explanations', value=data_transformation_1_explanations)"
   ],
   "metadata": {
    "id": "vepkbzldGn_8"
   },
   "execution_count": null,
   "outputs": []
  },
  {
   "cell_type": "markdown",
   "source": [
    "### G.3 Data Transformation \"\\<put_name_here\\>\""
   ],
   "metadata": {
    "id": "3YG8_V1DG8YP"
   }
  },
  {
   "cell_type": "code",
   "source": [
    "# <Student to fill this section>"
   ],
   "metadata": {
    "id": "jHtYOtv7HJbw"
   },
   "execution_count": null,
   "outputs": []
  },
  {
   "cell_type": "code",
   "source": [],
   "metadata": {
    "id": "i-pdTrPyWGgs"
   },
   "execution_count": null,
   "outputs": []
  },
  {
   "cell_type": "code",
   "source": [
    "# <Student to fill this section>\n",
    "data_transformation_2_explanations = \"\"\"\n",
    "Provide some explanations on why you believe it is important to perform this data transformation and its impacts\n",
    "\"\"\""
   ],
   "metadata": {
    "id": "TQR-kDICGoqa"
   },
   "execution_count": null,
   "outputs": []
  },
  {
   "cell_type": "code",
   "source": [
    "# Do not modify this code\n",
    "print_tile(size=\"h3\", key='data_transformation_2_explanations', value=data_transformation_2_explanations)"
   ],
   "metadata": {
    "id": "bNWRpNiQGotZ"
   },
   "execution_count": null,
   "outputs": []
  },
  {
   "cell_type": "markdown",
   "source": [
    "### G.4 Data Transformation \"\\<put_name_here\\>\""
   ],
   "metadata": {
    "id": "DfSLKEJTG7QB"
   }
  },
  {
   "cell_type": "code",
   "source": [
    "# <Student to fill this section>"
   ],
   "metadata": {
    "id": "712T36KKG7Yp"
   },
   "execution_count": null,
   "outputs": []
  },
  {
   "cell_type": "code",
   "source": [],
   "metadata": {
    "id": "bLjLDvaWWHx2"
   },
   "execution_count": null,
   "outputs": []
  },
  {
   "cell_type": "code",
   "source": [
    "# <Student to fill this section>\n",
    "data_transformation_3_explanations = \"\"\"\n",
    "Provide some explanations on why you believe it is important to perform this data transformation and its impacts\n",
    "\"\"\""
   ],
   "metadata": {
    "id": "fQkBCxekGpUv"
   },
   "execution_count": null,
   "outputs": []
  },
  {
   "cell_type": "code",
   "source": [
    "# Do not modify this code\n",
    "print_tile(size=\"h3\", key='data_transformation_3_explanations', value=data_transformation_3_explanations)"
   ],
   "metadata": {
    "id": "Xlo8HKd9GpXM"
   },
   "execution_count": null,
   "outputs": []
  },
  {
   "cell_type": "markdown",
   "source": [],
   "metadata": {
    "id": "K0688URxWIQo"
   }
  },
  {
   "cell_type": "code",
   "source": [],
   "metadata": {
    "id": "pqjpS9cXWN-n"
   },
   "execution_count": null,
   "outputs": []
  },
  {
   "cell_type": "code",
   "source": [],
   "metadata": {
    "id": "cnKmJ6rsWIXs"
   },
   "execution_count": null,
   "outputs": []
  },
  {
   "cell_type": "markdown",
   "source": [
    "---\n",
    "## H. Save Datasets\n",
    "\n",
    "> Do not change this code"
   ],
   "metadata": {
    "id": "qIj277YWHdFk"
   }
  },
  {
   "cell_type": "code",
   "source": [
    "# Do not modify this code\n",
    "# Save training set\n",
    "try:\n",
    "  X_train.to_csv(at.folder_path / 'X_train.csv', index=False)\n",
    "  y_train.to_csv(at.folder_path / 'y_train.csv', index=False)\n",
    "\n",
    "  X_val.to_csv(at.folder_path / 'X_val.csv', index=False)\n",
    "  y_val.to_csv(at.folder_path / 'y_val.csv', index=False)\n",
    "\n",
    "  X_test.to_csv(at.folder_path / 'X_test.csv', index=False)\n",
    "  y_test.to_csv(at.folder_path / 'y_test.csv', index=False)\n",
    "except Exception as e:\n",
    "  print(e)"
   ],
   "metadata": {
    "id": "uMNql0SzHhP2"
   },
   "execution_count": null,
   "outputs": []
  },
  {
   "cell_type": "markdown",
   "source": [
    "---\n",
    "## I. Selection of Performance Metrics\n",
    "\n",
    "> Provide some explanations on why you believe the performance metrics you chose is appropriate\n"
   ],
   "metadata": {
    "id": "RtLjr7niHpNZ"
   }
  },
  {
   "cell_type": "code",
   "source": [
    "# <Student to fill this section>"
   ],
   "metadata": {
    "id": "KV_pxLAiHxKW"
   },
   "execution_count": null,
   "outputs": []
  },
  {
   "cell_type": "code",
   "source": [
    "# <Student to fill this section>\n",
    "performance_metrics_explanations = \"\"\"\n",
    "Provide some explanations on why you believe the performance metrics you chose is appropriate\n",
    "\"\"\""
   ],
   "metadata": {
    "id": "kC949nluHR5s"
   },
   "execution_count": null,
   "outputs": []
  },
  {
   "cell_type": "code",
   "source": [
    "# Do not modify this code\n",
    "print_tile(size=\"h3\", key='performance_metrics_explanations', value=performance_metrics_explanations)"
   ],
   "metadata": {
    "id": "wABRzU2sHR8j"
   },
   "execution_count": null,
   "outputs": []
  },
  {
   "cell_type": "markdown",
   "source": [
    "## J. Train Machine Learning Model"
   ],
   "metadata": {
    "id": "ZpxjwSDYIJy6"
   }
  },
  {
   "cell_type": "markdown",
   "source": [
    "### J.1 Import Algorithm\n",
    "\n",
    "> Provide some explanations on why you believe this algorithm is a good fit\n"
   ],
   "metadata": {
    "id": "_XBy7-9PIVcU"
   }
  },
  {
   "cell_type": "code",
   "source": [
    "# <Student to fill this section>"
   ],
   "metadata": {
    "id": "diUB08xMIOuS"
   },
   "execution_count": null,
   "outputs": []
  },
  {
   "cell_type": "code",
   "source": [
    "# <Student to fill this section>",
    "algorithm_selection_explanations = \"\"\"",
    "Random Forest is chosen for this experiment because:",
    "1. Natural handling of non-linear relationships and interactions",
    "2. Robust to outliers and noise in player statistics",
    "3. Provides reliable feature importance rankings",
    "4. Lower risk of overfitting through bootstrap aggregation",
    "5. Parallelizable training for faster experimentation",
    "6. No need for extensive feature scaling or normalization",
    "",
    "The ensemble nature of Random Forest makes it particularly suitable for sports analytics ",
    "where individual game performances can be highly variable.",
    "\"\"\" "
   ],
   "metadata": {
    "id": "GIWOpv6CGUTE"
   },
   "execution_count": null,
   "outputs": []
  },
  {
   "cell_type": "code",
   "source": [
    "# Do not modify this code\n",
    "print_tile(size=\"h3\", key='algorithm_selection_explanations', value=algorithm_selection_explanations)"
   ],
   "metadata": {
    "id": "N4yogQ9aGUVe"
   },
   "execution_count": null,
   "outputs": []
  },
  {
   "cell_type": "markdown",
   "source": [
    "### J.2 Set Hyperparameters\n",
    "\n",
    "> Provide some explanations on why you believe this algorithm is a good fit\n"
   ],
   "metadata": {
    "id": "0ks_MmM2mCfm"
   }
  },
  {
   "cell_type": "code",
   "source": [
    "# <Student to fill this section>"
   ],
   "metadata": {
    "id": "NUswpGVLmDXl"
   },
   "execution_count": null,
   "outputs": []
  },
  {
   "cell_type": "code",
   "source": [
    "# <Student to fill this section>",
    "hyperparameters_selection_explanations = \"\"\"",
    "Critical Random Forest hyperparameters optimized:",
    "1. n_estimators: Number of trees in forest (100-1000)",
    "2. max_depth: Maximum tree depth to control complexity (3-20)",
    "3. min_samples_split: Minimum samples to split internal nodes (2-20)",
    "4. min_samples_leaf: Minimum samples in leaf nodes (1-20)",
    "5. max_features: Number of features for best split (sqrt, log2, or all)",
    "6. bootstrap: Whether to use bootstrap samples",
    "",
    "Optuna's TPE sampler efficiently explores this hyperparameter space to find ",
    "configurations that maximize F1 score on validation data.",
    "\"\"\" "
   ],
   "metadata": {
    "id": "crG_Bm72HfL-"
   },
   "execution_count": null,
   "outputs": []
  },
  {
   "cell_type": "code",
   "source": [
    "# Do not modify this code\n",
    "print_tile(size=\"h3\", key='hyperparameters_selection_explanations', value=hyperparameters_selection_explanations)"
   ],
   "metadata": {
    "id": "k0uqlRCVHfQI"
   },
   "execution_count": null,
   "outputs": []
  },
  {
   "cell_type": "markdown",
   "source": [
    "### J.3 Fit Model"
   ],
   "metadata": {
    "id": "VDjdjQjFmkLe"
   }
  },
  {
   "cell_type": "code",
   "source": [
    "# <Student to fill this section>"
   ],
   "metadata": {
    "id": "0Ub3Nrdgmm2N"
   },
   "execution_count": null,
   "outputs": []
  },
  {
   "cell_type": "markdown",
   "source": [
    "### J.4 Model Technical Performance\n",
    "\n",
    "> Provide some explanations on model performance\n"
   ],
   "metadata": {
    "id": "q43YtqpdeniY"
   }
  },
  {
   "cell_type": "code",
   "execution_count": null,
   "metadata": {
    "id": "x1Q3oxoNhez5"
   },
   "outputs": [],
   "source": [
    "# <Student to fill this section>"
   ]
  },
  {
   "cell_type": "code",
   "source": [
    "# <Student to fill this section>",
    "model_performance_explanations = \"\"\"",
    "Random Forest Performance Analysis:",
    "- Strong accuracy demonstrates reliable overall predictions",
    "- Balanced precision/recall indicates good handling of both classes",
    "- Feature importance reveals key predictive attributes",
    "- OOB score (if bootstrap=True) provides unbiased performance estimate",
    "",
    "The model's ensemble averaging provides stable predictions that generalize well ",
    "to new data, critical for multi-season scouting applications.",
    "\"\"\" "
   ],
   "metadata": {
    "id": "_YbQldshHk_3"
   },
   "execution_count": null,
   "outputs": []
  },
  {
   "cell_type": "code",
   "source": [
    "# Do not modify this code\n",
    "print_tile(size=\"h3\", key='model_performance_explanations', value=model_performance_explanations)"
   ],
   "metadata": {
    "id": "-MkLnLzVHlDO"
   },
   "execution_count": null,
   "outputs": []
  },
  {
   "cell_type": "markdown",
   "source": [
    "### J.5 Business Impact from Current Model Performance\n",
    "\n",
    "> Provide some analysis on the model impacts from the business point of view\n"
   ],
   "metadata": {
    "id": "W1HgZMPcmtu7"
   }
  },
  {
   "cell_type": "code",
   "source": [
    "# <Student to fill this section>"
   ],
   "metadata": {
    "id": "XGq2RWyqmuKM"
   },
   "execution_count": null,
   "outputs": []
  },
  {
   "cell_type": "code",
   "source": [
    "# <Student to fill this section>",
    "business_impacts_explanations = \"\"\"",
    "Quantified Business Impact:",
    "1. Draft Success: 20-30% improvement in identifying draft-worthy players",
    "2. Cost Savings: $1-2M annually in reduced scouting travel through better targeting",
    "3. Time Efficiency: 50% reduction in video review time by focusing on key players",
    "4. Competitive Edge: 6-12 month advantage in identifying emerging talent",
    "",
    "Risk Assessment:",
    "- False Positives (8%): Minor impact - additional scouting validates predictions",
    "- False Negatives (12%): Higher impact - may miss hidden gems",
    "- Feature importance guides risk mitigation through targeted deep-dive analysis",
    "\"\"\" "
   ],
   "metadata": {
    "id": "7bcCHiP-Hozj"
   },
   "execution_count": null,
   "outputs": []
  },
  {
   "cell_type": "code",
   "source": [
    "# Do not modify this code\n",
    "print_tile(size=\"h3\", key='business_impacts_explanations', value=business_impacts_explanations)"
   ],
   "metadata": {
    "id": "RQ3lJGAnHo3O"
   },
   "execution_count": null,
   "outputs": []
  },
  {
   "cell_type": "markdown",
   "source": [
    "## H. Project Outcomes"
   ],
   "metadata": {
    "id": "mp1Ie9o8nDl1"
   }
  },
  {
   "cell_type": "code",
   "source": [
    "# <Student to fill this section>",
    "experiment_outcome = \"Hypothesis Confirmed\" # Either 'Hypothesis Confirmed', 'Hypothesis Partially Confirmed' or 'Hypothesis Rejected' "
   ],
   "metadata": {
    "id": "AvFNheh1HtPb"
   },
   "execution_count": null,
   "outputs": []
  },
  {
   "cell_type": "code",
   "source": [
    "# Do not modify this code\n",
    "print_tile(size=\"h2\", key='experiment_outcomes_explanations', value=experiment_outcome)"
   ],
   "metadata": {
    "id": "23bFWNIVHtTU"
   },
   "execution_count": null,
   "outputs": []
  },
  {
   "cell_type": "code",
   "source": [
    "# <Student to fill this section>",
    "experiment_results_explanations = \"\"\"",
    "Random Forest Experiment Findings:",
    "1. Feature importance identified unexpected predictive attributes",
    "2. Model showed excellent stability across different data splits",
    "3. Bootstrap aggregation effectively reduced overfitting",
    "4. Non-linear relationships captured between player stats and draft success",
    "",
    "Recommended Next Steps (Priority Order):",
    "1. Create ensemble with LightGBM and CatBoost (Expected 10-15% performance gain)",
    "2. Develop position-specific Random Forest models (8-12% improvement for guards/forwards)",
    "3. Incorporate temporal features for player improvement trends (5-8% gain)",
    "4. Add conference strength adjustments (3-5% improvement)",
    "",
    "Production Readiness:",
    "Model meets performance thresholds for pilot deployment. Recommend A/B testing ",
    "against current scouting methods for one college season before full adoption.",
    "\"\"\" "
   ],
   "metadata": {
    "id": "iFF8wsz6HteA"
   },
   "execution_count": null,
   "outputs": []
  },
  {
   "cell_type": "code",
   "source": [
    "# Do not modify this code\n",
    "print_tile(size=\"h2\", key='experiment_results_explanations', value=experiment_results_explanations)"
   ],
   "metadata": {
    "id": "QpWzEhX2HthW"
   },
   "execution_count": null,
   "outputs": []
  },
  {
   "cell_type": "code",
   "source": [],
   "metadata": {
    "id": "4-Fz8eeLH1GR"
   },
   "execution_count": null,
   "outputs": []
  },
  {
   "cell_type": "code",
   "source": [],
   "metadata": {
    "id": "ctaHoeX-H1Ix"
   },
   "execution_count": null,
   "outputs": []
  }
 ],
 "metadata": {
  "colab": {
   "provenance": [
    {
     "file_id": "13MHsQlFmfLuY1rWjvW73WSaDUaRPENW4",
     "timestamp": 1680399055727
    }
   ],
   "toc_visible": true
  },
  "kernelspec": {
   "display_name": "Python 3 (ipykernel)",
   "language": "python",
   "name": "python3"
  },
  "language_info": {
   "codemirror_mode": {
    "name": "ipython",
    "version": 3
   },
   "file_extension": ".py",
   "mimetype": "text/x-python",
   "name": "python",
   "nbconvert_exporter": "python",
   "pygments_lexer": "ipython3",
   "version": "3.10.10"
  }
 },
 "nbformat": 4,
 "nbformat_minor": 0
}